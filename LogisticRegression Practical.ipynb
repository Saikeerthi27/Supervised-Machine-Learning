{
 "cells": [
  {
   "cell_type": "code",
   "execution_count": 1,
   "id": "31975912-beed-46ba-86a9-2bfaecbfde98",
   "metadata": {},
   "outputs": [
    {
     "data": {
      "text/plain": [
       "'C:\\\\Users\\\\saike'"
      ]
     },
     "execution_count": 1,
     "metadata": {},
     "output_type": "execute_result"
    }
   ],
   "source": [
    "pwd"
   ]
  },
  {
   "cell_type": "code",
   "execution_count": 4,
   "id": "44f83dbc-55b6-48e4-8a01-13371c9db191",
   "metadata": {},
   "outputs": [],
   "source": [
    "import os\n",
    "os.getcwd()\n",
    "os.chdir(\"C:\\\\Users\\\\saike\\\\OneDrive\\\\Desktop\\\\Series\\\\ML\\\\Logistic Regression\")"
   ]
  },
  {
   "cell_type": "code",
   "execution_count": 5,
   "id": "183a14fa-7959-4bfe-9478-2b818dd54781",
   "metadata": {},
   "outputs": [
    {
     "data": {
      "text/plain": [
       "'C:\\\\Users\\\\saike\\\\OneDrive\\\\Desktop\\\\Series\\\\ML\\\\Logistic Regression'"
      ]
     },
     "execution_count": 5,
     "metadata": {},
     "output_type": "execute_result"
    }
   ],
   "source": [
    "pwd"
   ]
  },
  {
   "cell_type": "code",
   "execution_count": 6,
   "id": "2cefd7de-c697-4e10-8ad2-7f92f47cf612",
   "metadata": {},
   "outputs": [],
   "source": [
    "import numpy as np\n",
    "import pandas as pd\n",
    "import matplotlib.pyplot as plt\n",
    "import seaborn as sns"
   ]
  },
  {
   "cell_type": "code",
   "execution_count": 7,
   "id": "332ca3ee-a094-4f49-8e4d-e1d7191982b7",
   "metadata": {},
   "outputs": [],
   "source": [
    "from sklearn.datasets import make_classification"
   ]
  },
  {
   "cell_type": "code",
   "execution_count": 10,
   "id": "54db26a7-b5f0-4063-8739-fe24a0135a29",
   "metadata": {},
   "outputs": [],
   "source": [
    "X, y = make_classification(n_samples=100, n_features=10, n_classes=2)"
   ]
  },
  {
   "cell_type": "code",
   "execution_count": 11,
   "id": "690a5f36-ba96-444b-8dc0-67b31cd37f0b",
   "metadata": {},
   "outputs": [
    {
     "data": {
      "text/plain": [
       "(100, 10)"
      ]
     },
     "execution_count": 11,
     "metadata": {},
     "output_type": "execute_result"
    }
   ],
   "source": [
    "X.shape"
   ]
  },
  {
   "cell_type": "code",
   "execution_count": 12,
   "id": "d1b97253-a019-4d34-9026-68ed5f07bf50",
   "metadata": {},
   "outputs": [
    {
     "data": {
      "text/plain": [
       "(100,)"
      ]
     },
     "execution_count": 12,
     "metadata": {},
     "output_type": "execute_result"
    }
   ],
   "source": [
    "y.shape"
   ]
  },
  {
   "cell_type": "code",
   "execution_count": 13,
   "id": "5badf53a-c1fd-4702-b6c6-0e4417a59614",
   "metadata": {},
   "outputs": [
    {
     "data": {
      "text/plain": [
       "array([[ 1.48413914e-01,  5.07523191e-01, -6.03002801e-01,\n",
       "        -1.47280133e-01,  3.30489950e-01,  9.46888145e-01,\n",
       "         2.54781790e-01,  8.21213132e-02, -8.62064608e-01,\n",
       "         1.53931641e-01],\n",
       "       [ 2.39398545e-01,  1.99391760e-01, -2.81603760e-01,\n",
       "        -3.34693157e-01,  6.66989808e-01, -6.87303529e-01,\n",
       "         9.50815076e-02,  4.30926610e-01, -2.07516009e-01,\n",
       "        -5.35822352e-02],\n",
       "       [ 4.38790587e-02, -4.76027309e-01, -1.13726443e+00,\n",
       "        -2.03943718e-01, -1.45244273e-02, -2.99526534e-02,\n",
       "        -2.13646027e+00,  4.58879714e-02,  3.03987191e-01,\n",
       "         3.25149933e-01],\n",
       "       [-3.69404960e-01, -2.11534827e-01, -1.89889424e+00,\n",
       "        -3.25365897e-01, -2.04629041e+00, -5.87082234e-01,\n",
       "        -8.11100706e-01,  5.42386815e-02, -1.80815950e+00,\n",
       "         5.50056865e-01],\n",
       "       [ 1.76630111e-01, -1.44128675e+00, -1.05265218e+00,\n",
       "         1.01610620e+00,  1.15326616e+00, -3.44252680e-01,\n",
       "         1.39018361e+00, -1.73632351e+00,  1.55671931e-01,\n",
       "         8.69469160e-01],\n",
       "       [-4.62271550e-01,  1.94508460e+00,  1.94470612e-01,\n",
       "         1.38453086e+00, -2.46715306e-01, -1.57557102e+00,\n",
       "         6.96236890e-01, -2.00038784e+00, -1.29039631e-02,\n",
       "         5.81223403e-01],\n",
       "       [-9.88276732e-04,  1.58725198e+00,  3.38540835e-01,\n",
       "         1.19149104e+00,  1.49103769e+00, -1.14536438e+00,\n",
       "        -1.61775428e+00, -1.68306788e+00,  1.23557753e+00,\n",
       "         4.36758408e-01],\n",
       "       [ 6.15674577e-01,  1.15974712e+00,  6.89718358e-01,\n",
       "         3.36202345e-01, -1.29706968e+00, -6.28228201e-02,\n",
       "        -5.80089761e-01, -3.41574307e-01,  3.37682330e-01,\n",
       "        -9.69202000e-02],\n",
       "       [-2.45639055e+00,  1.36143006e+00, -7.08093352e-01,\n",
       "        -1.77464138e+00, -4.92389620e-01, -1.06628026e+00,\n",
       "         1.08204023e+00,  2.46106411e+00, -8.65387135e-01,\n",
       "        -5.74986207e-01],\n",
       "       [-5.20789471e-01,  8.08765797e-01, -6.11316038e-01,\n",
       "         5.68780226e-01,  2.45069441e-02,  7.42670405e-01,\n",
       "         1.83060943e+00, -9.76886765e-01, -1.27785838e+00,\n",
       "         4.94878592e-01],\n",
       "       [-1.49730211e+00, -1.82010643e+00,  1.10005814e-01,\n",
       "         1.07887242e+00, -8.14173846e-01,  1.82506457e+00,\n",
       "         3.13163190e-01, -1.56808838e+00, -4.17367698e-01,\n",
       "         4.68297055e-01],\n",
       "       [-2.33784499e+00,  1.10429551e+00,  2.61052651e+00,\n",
       "         6.37577493e-01, -1.28916782e+00, -8.57575326e-01,\n",
       "        -4.36019372e-01, -3.55477232e-01,  1.60228279e+00,\n",
       "        -6.66416427e-01],\n",
       "       [-1.70450920e+00,  7.93789100e-01, -5.98689073e-01,\n",
       "        -6.18833718e-01,  8.43515946e-01,  5.00539630e-02,\n",
       "        -2.76195941e+00,  7.79258808e-01, -8.83723603e-01,\n",
       "        -7.01650585e-02],\n",
       "       [ 1.46465278e+00, -7.43350159e-01,  9.13651206e-01,\n",
       "         5.34272968e-01, -1.16437331e+00, -2.21832520e+00,\n",
       "        -8.26707368e-01, -5.83742015e-01, -5.11021409e-01,\n",
       "        -8.64338828e-02],\n",
       "       [ 4.32777633e-02,  1.18924014e+00,  9.22456681e-01,\n",
       "         6.84647693e-01, -3.26699892e-01, -2.41204440e-01,\n",
       "        -7.96610686e-02, -8.03769050e-01, -2.92121637e-01,\n",
       "        -1.87435045e-02],\n",
       "       [-7.03357579e-01, -2.74219332e-01, -3.02069759e-01,\n",
       "        -1.47563397e+00, -2.47978471e-02, -9.39639966e-01,\n",
       "        -1.04100421e+00,  2.11074114e+00, -5.46508115e-03,\n",
       "        -5.84341982e-01],\n",
       "       [-1.76703463e+00, -6.12330053e-01, -6.66527830e-01,\n",
       "         2.53867700e-02,  1.01322695e-01,  2.03702042e-01,\n",
       "        -2.78731085e-01, -1.87047238e-01, -8.70188893e-01,\n",
       "         2.58940268e-01],\n",
       "       [-1.38915396e+00, -2.15734315e+00,  9.92522646e-01,\n",
       "        -5.09368359e-01, -2.80339170e-01, -2.44619222e+00,\n",
       "        -2.66723188e-01,  9.74717390e-01,  5.34042062e-01,\n",
       "        -6.08090218e-01],\n",
       "       [ 3.97516182e-01,  1.65129076e+00, -2.33517967e+00,\n",
       "        -2.69188214e+00, -9.05278280e-01, -2.25555006e-01,\n",
       "        -1.00624930e+00,  3.45009973e+00,  1.06298874e+00,\n",
       "        -4.04910457e-01],\n",
       "       [ 4.94591068e-01, -1.38122912e-01, -9.29458262e-01,\n",
       "         2.15003092e-01,  3.13900687e-01, -3.37015271e-01,\n",
       "        -2.68408956e-01, -5.25985056e-01, -1.27217562e+00,\n",
       "         4.45829975e-01],\n",
       "       [-9.00057421e-01, -5.20644095e-01, -1.78237860e+00,\n",
       "        -9.42302564e-01,  3.54959322e-01, -1.35364741e+00,\n",
       "         7.72102271e-01,  9.91187783e-01, -1.23386363e+00,\n",
       "         2.15789421e-01],\n",
       "       [-1.22421195e+00,  6.63782693e-01, -6.40908135e-01,\n",
       "        -4.84554210e-02,  9.92508873e-01,  1.48031806e-01,\n",
       "        -6.86872770e-01, -7.22826462e-02, -4.29042552e-01,\n",
       "         2.14605881e-01],\n",
       "       [ 7.38992961e-01,  8.40726191e-01, -1.37705775e+00,\n",
       "         1.35562401e+00,  1.08954740e+00, -1.01221055e-01,\n",
       "        -5.77881834e-03, -2.31036058e+00,  5.35748393e-01,\n",
       "         1.14986631e+00],\n",
       "       [-2.67707079e-01,  8.53217092e-01,  3.95757984e-01,\n",
       "        -9.86981619e-01,  6.38275191e-01, -2.19304164e+00,\n",
       "         6.53387335e-01,  1.54591980e+00,  2.44452551e+00,\n",
       "        -6.12334688e-01],\n",
       "       [ 4.69547373e-01, -1.05092950e+00, -6.87350411e-01,\n",
       "        -1.75947932e+00,  4.33038794e-02, -9.66184100e-01,\n",
       "        -4.89825398e-01,  2.44333457e+00, -1.15037639e+00,\n",
       "        -5.75517793e-01],\n",
       "       [ 2.10022509e-01, -8.55371669e-01, -9.54244654e-01,\n",
       "         9.65813670e-01, -4.74895185e-01,  4.85527872e-01,\n",
       "         6.31796313e-01, -1.63999254e+00,  8.07716771e-01,\n",
       "         8.09277138e-01],\n",
       "       [-2.78964513e-01, -1.00520348e-01,  1.34153393e+00,\n",
       "        -2.51523905e-01, -2.05669559e-01,  3.46114556e-01,\n",
       "        -1.22300014e+00,  6.72371112e-01,  6.62388872e-01,\n",
       "        -6.15744183e-01],\n",
       "       [-7.90971726e-01, -9.35683025e-01,  7.04801562e-01,\n",
       "         1.25588842e+00,  1.10379197e+00, -9.50508818e-02,\n",
       "        -6.25370148e-01, -1.69595135e+00,  1.17940961e+00,\n",
       "         3.31436896e-01],\n",
       "       [-7.08907735e-01,  1.32801996e+00, -4.54275968e-01,\n",
       "         9.47939445e-02, -2.38881354e+00, -3.79871408e-01,\n",
       "         2.42333292e-01, -2.41886218e-01,  1.11285398e+00,\n",
       "         2.13045915e-01],\n",
       "       [ 1.96489866e-01,  1.26856531e-01, -3.07658192e-01,\n",
       "        -4.02689949e-01,  4.19819245e-01,  1.33932233e+00,\n",
       "        -5.18972392e-01,  5.25465850e-01,  6.16078773e-01,\n",
       "        -7.60122362e-02],\n",
       "       [ 4.53869262e-01, -5.38386853e-01, -1.76171246e+00,\n",
       "        -2.70891711e-01,  1.82180252e+00,  3.46921984e-01,\n",
       "        -1.34854464e+00,  4.60012195e-03,  6.23974619e-01,\n",
       "         5.24931463e-01],\n",
       "       [-1.19234985e+00, -1.18212470e-01, -7.33658131e-01,\n",
       "        -9.01597179e-01,  3.78863826e-02,  1.11182248e+00,\n",
       "        -8.31180199e-01,  1.16642459e+00, -6.32969773e-01,\n",
       "        -1.53575785e-01],\n",
       "       [ 1.74642292e+00, -1.09880839e+00, -2.64284992e-01,\n",
       "         1.20300661e+00,  9.74406198e-01,  7.67246398e-01,\n",
       "         2.02988968e+00, -1.83534197e+00,  8.05314002e-01,\n",
       "         6.65550819e-01],\n",
       "       [-9.26644542e-01, -1.18972204e+00,  9.09969548e-01,\n",
       "        -5.64115207e-01,  3.66104773e-01, -5.71481545e-01,\n",
       "         3.75809825e-01,  1.03701709e+00,  1.81014802e-01,\n",
       "        -6.03334477e-01],\n",
       "       [-1.27316384e+00,  5.87650091e-01, -1.42640055e+00,\n",
       "        -3.76662876e-01, -1.58981311e+00, -7.29706087e-02,\n",
       "         2.90244292e-01,  2.35996984e-01, -1.67406997e+00,\n",
       "         3.50784581e-01],\n",
       "       [-1.88695941e-01,  1.36456802e+00,  2.52342357e+00,\n",
       "         6.29197228e-01, -1.97029985e+00,  1.67250941e-01,\n",
       "        -1.11240460e+00, -3.62650965e-01, -2.94762160e-01,\n",
       "        -6.38097217e-01],\n",
       "       [-1.95561756e-01,  1.05267000e+00,  2.13058444e+00,\n",
       "         3.38273763e-01,  9.07834504e-01, -5.29706350e-01,\n",
       "        -1.24662558e+00, -2.13040049e-02,  1.85487027e+00,\n",
       "        -6.29812207e-01],\n",
       "       [-1.49633056e+00,  6.91102767e-01,  1.94136690e+00,\n",
       "         8.88762585e-01, -5.13292726e-01,  7.75486151e-01,\n",
       "         7.48660617e-01, -8.76468257e-01,  1.69606530e-02,\n",
       "        -2.99960096e-01],\n",
       "       [-1.70823563e-01, -9.75680695e-01,  4.53622211e-01,\n",
       "         9.55785590e-01, -1.73017351e+00,  8.21295035e-01,\n",
       "         1.24833375e+00, -1.30926434e+00, -4.03849357e-01,\n",
       "         2.82902954e-01],\n",
       "       [ 1.98971849e-01, -2.04705276e+00,  6.55896207e-01,\n",
       "         1.45512539e+00, -4.46008991e-01,  5.02420926e-01,\n",
       "        -1.05352933e+00, -2.00106550e+00,  1.42985125e+00,\n",
       "         4.43565496e-01],\n",
       "       [ 1.65510606e+00, -2.30579978e-01, -8.56410247e-01,\n",
       "        -1.46726524e+00,  1.13183107e+00,  1.98913589e-01,\n",
       "         1.13993566e+00,  1.97399286e+00, -1.53323401e+00,\n",
       "        -3.74999155e-01],\n",
       "       [ 1.91480936e+00, -1.92995739e+00,  2.21459544e+00,\n",
       "         8.21335945e-01, -3.97337881e-01,  1.60172611e-01,\n",
       "        -1.25956609e+00, -7.15612056e-01,  7.46312105e-01,\n",
       "        -4.33011336e-01],\n",
       "       [-1.64380886e-01, -1.27031607e+00,  1.85783774e+00,\n",
       "         1.03977465e-01, -6.90667895e-01, -8.04866706e-01,\n",
       "        -9.32206740e-01,  2.63391053e-01, -1.72420169e+00,\n",
       "        -6.39304788e-01],\n",
       "       [ 1.47481981e+00,  3.63316987e-01, -1.11297673e+00,\n",
       "        -1.31234415e+00,  2.63973669e-01,  1.61007133e-01,\n",
       "         1.37884592e+00,  1.68770478e+00,  1.39923200e+00,\n",
       "        -2.06838056e-01],\n",
       "       [-1.13924757e+00, -5.83371431e-01, -1.78215757e+00,\n",
       "         7.24322376e-01, -1.10224890e-01,  1.02229519e+00,\n",
       "        -1.17039998e+00, -1.46925383e+00,  2.53826060e+00,\n",
       "         1.00208973e+00],\n",
       "       [ 1.64838666e+00,  1.47710455e+00, -9.11314649e-01,\n",
       "        -7.55415220e-01,  1.72656073e+00, -1.29016159e-01,\n",
       "         9.36207266e-01,  9.10745650e-01,  4.78611458e-01,\n",
       "        -1.87758688e-02],\n",
       "       [-7.22616699e-01, -8.89498454e-01, -6.61549214e-01,\n",
       "         3.65444078e-01,  1.23921380e+00, -2.43058607e-01,\n",
       "        -5.21137138e-01, -6.87967422e-01, -1.11468216e+00,\n",
       "         4.17548618e-01],\n",
       "       [ 1.48068749e+00,  6.13723276e-01, -1.88945609e-01,\n",
       "         1.85171847e+00, -2.42028563e+00, -1.53615430e+00,\n",
       "        -1.05853228e+00, -2.77614979e+00,  6.60102576e-01,\n",
       "         9.43725029e-01],\n",
       "       [-4.24934620e-01,  1.50072634e+00,  3.72818822e-01,\n",
       "         7.31626824e-01, -7.61322032e-01,  1.93450103e-01,\n",
       "         1.43013710e+00, -9.96463823e-01,  3.54283256e-01,\n",
       "         2.07074881e-01],\n",
       "       [-6.03417889e-01,  7.34329102e-01, -1.26428102e+00,\n",
       "         3.85624293e-01,  3.45168317e-01,  8.63685833e-01,\n",
       "        -1.08172848e+00, -8.53012316e-01,  9.88303467e-01,\n",
       "         6.50394532e-01],\n",
       "       [ 1.24470225e+00,  5.66563051e-01, -1.18953018e+00,\n",
       "        -1.83789685e+00,  3.79611497e-01,  2.60448325e-01,\n",
       "         8.40942970e-01,  2.44641639e+00, -1.90602895e+00,\n",
       "        -4.26450871e-01],\n",
       "       [ 7.00997027e-01, -5.18186360e-01, -1.81686104e+00,\n",
       "        -1.06705645e-01, -2.75040548e-01,  1.26139751e+00,\n",
       "        -9.29426536e-01, -2.50168240e-01, -7.16575799e-02,\n",
       "         6.22834845e-01],\n",
       "       [ 1.44830928e+00, -1.62436150e+00, -4.62396549e-01,\n",
       "         1.09412670e+00,  8.56262566e-01,  1.00352131e+00,\n",
       "        -1.14038602e+00, -1.71905508e+00, -6.59535566e-01,\n",
       "         6.87581052e-01],\n",
       "       [ 9.64295020e-01, -3.13426443e-01,  9.87884918e-01,\n",
       "        -5.29358716e-01, -5.99521556e-01,  1.07276733e+00,\n",
       "        -5.69879879e-01,  1.00318909e+00,  5.43174795e-01,\n",
       "        -6.15804121e-01],\n",
       "       [-3.09232931e-01,  1.43278119e+00, -1.80227499e+00,\n",
       "        -7.68491458e-01,  5.95717551e-01,  3.42015408e-01,\n",
       "         9.39294401e-01,  7.30120218e-01,  1.79915145e+00,\n",
       "         3.05172654e-01],\n",
       "       [-2.80806373e+00,  1.44700259e+00, -9.94889611e-01,\n",
       "         3.37467117e-01, -1.39508665e+00, -6.16697179e-01,\n",
       "        -9.89207818e-02, -7.21465284e-01, -8.50478864e-01,\n",
       "         5.27857149e-01],\n",
       "       [ 4.54990688e-01, -6.01696167e-01, -2.99887217e-01,\n",
       "         1.31056544e+00, -2.29373046e-02,  2.48448765e-01,\n",
       "         4.42801363e-01, -2.00212357e+00,  6.35577126e-01,\n",
       "         7.29492829e-01],\n",
       "       [ 5.32364683e-01,  6.72447131e-01, -7.73672145e-01,\n",
       "        -1.85574185e+00, -2.00362680e+00,  1.62152983e-03,\n",
       "        -5.34439844e-02,  2.56607951e+00, -1.49830125e-01,\n",
       "        -5.88954503e-01],\n",
       "       [-2.61228844e-01,  1.04700478e+00, -7.66240425e-01,\n",
       "        -7.65401695e-01, -1.42939219e+00, -3.02514498e-01,\n",
       "        -4.74168876e-01,  9.58043459e-01, -2.11414043e-01,\n",
       "        -7.72407682e-02],\n",
       "       [ 3.10926025e-01,  1.83688666e+00,  6.27399542e-01,\n",
       "         4.75070739e-01, -9.97212416e-01,  1.12451444e-01,\n",
       "         1.01301128e+00, -5.60574376e-01, -1.68749384e+00,\n",
       "        -8.30602531e-03],\n",
       "       [-1.79241644e+00,  1.64924369e+00, -1.30060221e+00,\n",
       "        -2.91268544e-01,  1.51207379e+00,  7.27466867e-01,\n",
       "         6.04989708e-01,  1.38155602e-01,  7.98942945e-01,\n",
       "         3.44466367e-01],\n",
       "       [-1.27193974e+00,  1.99909186e-01, -1.65904505e+00,\n",
       "        -3.11116954e-01, -7.40819450e-01, -1.36111464e-02,\n",
       "         4.46975166e-01,  8.70243492e-02, -4.80064331e-01,\n",
       "         4.67911234e-01],\n",
       "       [ 1.61966756e+00, -7.30030176e-01,  1.47142310e+00,\n",
       "         1.08678125e+00,  1.34596104e+00, -1.90428026e+00,\n",
       "        -2.42399511e+00, -1.27426424e+00,  5.23561536e-01,\n",
       "        -3.24032689e-02],\n",
       "       [-3.74402222e-01,  2.77084684e-01,  6.06583670e-01,\n",
       "        -7.99544472e-01, -2.12892445e-01,  9.20945859e-01,\n",
       "        -1.01168456e-01,  1.31650940e+00, -1.61505539e+00,\n",
       "        -6.02009219e-01],\n",
       "       [-1.13864675e+00,  5.41039668e-01, -1.33918548e+00,\n",
       "        -6.64747584e-01,  1.25489017e+00,  6.15885227e-01,\n",
       "        -1.33488907e-01,  6.80876510e-01,  1.67123735e+00,\n",
       "         1.82539457e-01],\n",
       "       [-4.78666745e-01, -1.31730902e+00, -3.16011426e-01,\n",
       "        -3.31365037e-01,  2.50105844e-01,  9.60721762e-01,\n",
       "        -1.27171356e+00,  4.18292167e-01, -9.82668918e-01,\n",
       "        -3.92631700e-02],\n",
       "       [-1.91287053e-01,  3.00383980e-01,  4.78485418e-02,\n",
       "        -1.19661218e+00,  1.58128808e+00, -4.45472410e-01,\n",
       "        -8.40634985e-02,  1.77733362e+00,  1.07065093e+00,\n",
       "        -5.82339677e-01],\n",
       "       [ 8.89563636e-01, -8.22914668e-01,  9.37020811e-01,\n",
       "         4.12179348e-01, -1.28511408e+00,  1.06753942e+00,\n",
       "         7.99833821e-01, -3.98247228e-01,  9.01577457e-01,\n",
       "        -1.52701575e-01],\n",
       "       [-2.39350414e-01, -1.59131306e+00, -7.72187610e-01,\n",
       "         1.51240429e+00, -6.11007828e-02, -1.14707627e+00,\n",
       "        -1.02234131e+00, -2.40608823e+00, -5.75566522e-01,\n",
       "         9.99725339e-01],\n",
       "       [ 1.60876810e-01,  2.82655800e+00,  1.93208504e+00,\n",
       "         3.37382912e-01,  5.74574278e-01, -1.14727322e+00,\n",
       "         8.06508626e-01, -6.45318104e-02, -5.05289291e-01,\n",
       "        -5.56684593e-01],\n",
       "       [-1.22809159e+00,  5.86804578e-01,  1.20535655e+00,\n",
       "        -3.99974370e-01,  1.19792652e-01, -7.54555809e-01,\n",
       "        -7.52035655e-01,  8.60975219e-01, -4.44960446e-01,\n",
       "        -6.35332808e-01],\n",
       "       [ 3.06047223e-01, -1.67594835e-01, -1.66407124e+00,\n",
       "        -7.48281940e-01,  6.93893089e-02, -5.76603818e-01,\n",
       "        -8.84384375e-01,  7.31297001e-01,  7.86574967e-01,\n",
       "         2.63501113e-01],\n",
       "       [ 7.49007224e-01,  9.78963599e-01,  1.77632806e+00,\n",
       "         5.51761516e-02, -1.25662848e+00, -5.38406076e-01,\n",
       "         1.59704008e+00,  3.17147316e-01,  1.48207640e+00,\n",
       "        -6.32130306e-01],\n",
       "       [-1.10639209e+00,  8.91869173e-02,  1.06151168e+00,\n",
       "        -4.69835669e-01, -1.27842627e+00, -1.19493142e+00,\n",
       "         2.10768663e-01,  9.31835073e-01,  8.11128557e-01,\n",
       "        -6.14998870e-01],\n",
       "       [-1.62102362e+00, -1.94668458e-01,  7.98319122e-01,\n",
       "        -3.05053071e-01, -4.27980374e-01,  1.03167785e+00,\n",
       "        -4.06515430e-01,  6.29501247e-01, -4.04188547e-01,\n",
       "        -4.39729614e-01],\n",
       "       [ 8.89619785e-01, -1.18722742e+00,  2.00163373e-01,\n",
       "        -1.13435008e+00, -8.24278657e-02, -1.10559655e+00,\n",
       "        -1.66903881e+00,  1.71959336e+00,  2.68800921e-01,\n",
       "        -6.09397519e-01],\n",
       "       [ 1.14253723e+00, -1.22870306e+00, -9.68030368e-01,\n",
       "        -2.11770790e-02, -1.60892500e+00,  6.57407349e-01,\n",
       "        -1.69546495e+00, -1.85960314e-01,  3.10108309e-01,\n",
       "         3.48682184e-01],\n",
       "       [-1.67511992e+00,  5.68547039e-02,  1.82626724e+00,\n",
       "         2.85707734e-01,  1.29167427e+00, -6.66224921e-01,\n",
       "         1.22465442e+00, -1.19874793e-02,  5.72357754e-01,\n",
       "        -5.41859479e-01],\n",
       "       [-3.49275424e-01,  1.04127451e+00,  1.08744524e+00,\n",
       "        -4.52561212e-01, -2.01105882e-01, -4.31259448e-01,\n",
       "         3.46561703e-01,  9.12151702e-01,  4.69435688e-01,\n",
       "        -6.16456970e-01],\n",
       "       [-3.08772246e-01, -5.75084603e-01,  1.71943470e-01,\n",
       "         1.41074006e+00,  4.31075513e-01, -5.07550318e-01,\n",
       "         3.99254643e-01, -2.04413637e+00, -1.25001708e+00,\n",
       "         6.01936731e-01],\n",
       "       [-5.98407795e-02, -3.95470762e-01,  2.59876289e-01,\n",
       "        -1.07599176e+00, -1.11877362e+00,  1.27345893e-01,\n",
       "         1.62641874e+00,  1.64683662e+00, -6.36751645e-01,\n",
       "        -6.03986478e-01],\n",
       "       [-1.26271859e+00,  1.87318971e-01,  2.28851579e-01,\n",
       "         5.24182511e-01,  1.94965916e-01,  1.23617128e+00,\n",
       "         1.22944608e+00, -7.22513265e-01, -7.13845562e-01,\n",
       "         1.62536833e-01],\n",
       "       [-7.54395621e-01,  6.53070123e-01,  5.02888346e-01,\n",
       "         8.11514405e-01, -9.54160710e-01, -1.34805866e-01,\n",
       "        -2.07778436e-01, -1.08521697e+00, -4.91991604e-01,\n",
       "         1.96575797e-01],\n",
       "       [ 1.78395075e-02,  1.90735296e+00, -9.16772541e-01,\n",
       "         1.04381207e-01, -3.41119197e-01, -4.03488825e-01,\n",
       "        -3.72689950e-01, -3.59823804e-01, -7.80956927e-02,\n",
       "         3.88933709e-01],\n",
       "       [-7.39581221e-02,  5.38857869e-02, -5.29286797e-01,\n",
       "         2.98646109e-01, -1.57429185e+00,  1.18807029e-01,\n",
       "        -2.57141136e-01, -5.59671957e-01, -1.44536404e+00,\n",
       "         3.37024747e-01],\n",
       "       [ 5.91498623e-01,  1.61741787e+00, -1.23083222e+00,\n",
       "        -1.28738162e+00,  9.28525899e-01,  9.18494572e-01,\n",
       "        -6.10426046e-01,  1.62440519e+00,  3.35303343e-01,\n",
       "        -1.51391917e-01],\n",
       "       [-4.62398931e-01,  2.87993931e+00, -1.16195103e-01,\n",
       "         7.10625091e-01, -9.07767959e-02, -3.32076158e-01,\n",
       "         6.17849798e-01, -1.07519236e+00, -5.97347551e-01,\n",
       "         3.78354733e-01],\n",
       "       [-1.82810621e-01,  1.23676813e+00,  6.59423256e-01,\n",
       "        -6.38807521e-01,  1.28964534e+00,  1.90181022e-01,\n",
       "         4.32568873e-01,  1.09106547e+00,  9.32480801e-01,\n",
       "        -5.45745026e-01],\n",
       "       [ 2.16269016e-01,  8.86371464e-01,  1.22987454e+00,\n",
       "         7.47739489e-01,  7.42024243e-01, -7.31697871e-01,\n",
       "         6.40440453e-01, -8.27929316e-01,  1.45416814e+00,\n",
       "        -1.02878597e-01],\n",
       "       [-6.04217178e-01, -6.38072537e-02, -1.32037577e+00,\n",
       "        -5.08517355e-01, -4.99630260e-01, -4.21551136e-02,\n",
       "         8.78777876e-02,  4.54449745e-01,  2.41196960e-01,\n",
       "         2.49285938e-01],\n",
       "       [-1.09749550e+00,  1.38777261e+00, -1.15791353e+00,\n",
       "        -4.62650871e-01, -1.14372710e+00,  4.99891400e-01,\n",
       "        -3.22500745e-01,  4.23191909e-01,  8.05116673e-01,\n",
       "         2.10732156e-01],\n",
       "       [-9.84226218e-01, -6.79698101e-01,  1.60858556e+00,\n",
       "        -1.04538973e-01, -3.52452433e-01,  2.13712268e+00,\n",
       "         6.17215524e-01,  5.15298626e-01,  1.17277625e+00,\n",
       "        -6.45338559e-01],\n",
       "       [ 2.83772698e-01, -1.19919280e+00, -7.63809567e-01,\n",
       "        -1.83495915e+00,  1.04460775e+00, -4.60286924e-01,\n",
       "         1.10982059e+00,  2.53761050e+00,  1.53826330e+00,\n",
       "        -5.82802650e-01],\n",
       "       [-1.28674637e+00, -1.12316553e-01,  3.78097480e-02,\n",
       "         1.35522217e+00,  1.71605064e+00,  6.42656027e-01,\n",
       "         6.88868043e-01, -1.99227298e+00, -3.83074274e-01,\n",
       "         6.25440308e-01],\n",
       "       [ 9.78957005e-01, -4.71594878e-01, -1.27837738e+00,\n",
       "        -7.92084853e-01,  4.02290567e-01,  1.01361169e+00,\n",
       "         3.46745958e-01,  8.82513809e-01, -9.18948704e-01,\n",
       "         9.99258939e-02],\n",
       "       [ 1.68887913e-02, -1.91147433e+00, -1.37952694e+00,\n",
       "        -1.57637948e+00,  6.18260879e-01, -6.50899941e-01,\n",
       "        -1.29905317e+00,  2.01769500e+00,  2.11655116e-01,\n",
       "        -2.32658664e-01],\n",
       "       [-1.67438229e+00,  1.27375301e+00,  1.86594584e-01,\n",
       "        -1.11397614e+00,  2.22425133e-01,  5.36273729e-02,\n",
       "         3.28362908e-01,  1.68646984e+00,  1.36123946e+00,\n",
       "        -5.94756747e-01],\n",
       "       [-1.70447542e+00, -1.07580121e+00,  1.30502533e+00,\n",
       "         3.27901659e-01, -4.20736888e-01, -7.98758260e-02,\n",
       "        -2.48699876e-01, -1.91245689e-01, -3.14901369e-01,\n",
       "        -3.28820209e-01],\n",
       "       [-3.98337611e-01, -1.28563086e+00,  2.09786417e+00,\n",
       "         3.39824395e-01,  3.67677141e-01,  1.88662118e+00,\n",
       "         1.03923880e+00, -3.09356377e-02, -6.56297098e-01,\n",
       "        -6.16957046e-01],\n",
       "       [ 6.03220879e-01,  1.33842651e+00, -6.00243453e-01,\n",
       "         3.93757446e-01, -9.98336554e-01, -7.92721368e-01,\n",
       "         6.53002435e-01, -7.16010414e-01,  6.24955735e-01,\n",
       "         4.08193033e-01]])"
      ]
     },
     "execution_count": 13,
     "metadata": {},
     "output_type": "execute_result"
    }
   ],
   "source": [
    "X"
   ]
  },
  {
   "cell_type": "code",
   "execution_count": 14,
   "id": "9c223757-ca13-4128-becf-0448e97f992a",
   "metadata": {},
   "outputs": [
    {
     "data": {
      "text/plain": [
       "array([0, 0, 0, 0, 0, 1, 1, 1, 1, 0, 1, 1, 0, 1, 1, 1, 0, 1, 0, 0, 0, 0,\n",
       "       0, 1, 1, 0, 1, 1, 0, 0, 0, 0, 0, 1, 0, 1, 1, 1, 1, 1, 0, 1, 1, 0,\n",
       "       0, 0, 0, 0, 1, 0, 0, 0, 0, 1, 0, 0, 0, 1, 0, 1, 0, 0, 1, 1, 0, 0,\n",
       "       1, 1, 0, 1, 1, 0, 1, 1, 1, 1, 0, 1, 1, 1, 1, 1, 1, 0, 0, 0, 0, 1,\n",
       "       1, 0, 0, 1, 1, 1, 0, 0, 0, 1, 1, 0])"
      ]
     },
     "execution_count": 14,
     "metadata": {},
     "output_type": "execute_result"
    }
   ],
   "source": [
    "y"
   ]
  },
  {
   "cell_type": "code",
   "execution_count": 28,
   "id": "b44d9ba9-3b27-4d92-831e-0aac62e7ca60",
   "metadata": {},
   "outputs": [],
   "source": [
    "from sklearn.model_selection import train_test_split\n",
    "X_train, X_test, y_train, y_test = train_test_split(X, y, test_size = 0.2, random_state = 68)"
   ]
  },
  {
   "cell_type": "code",
   "execution_count": 29,
   "id": "160bf20e-c864-4b0d-bdc9-f413b9a56bf4",
   "metadata": {},
   "outputs": [],
   "source": [
    "from sklearn.linear_model import LogisticRegression"
   ]
  },
  {
   "cell_type": "code",
   "execution_count": 30,
   "id": "92ab738e-4530-4e9a-aafa-37038446cb88",
   "metadata": {},
   "outputs": [
    {
     "data": {
      "text/html": [
       "<style>#sk-container-id-2 {color: black;background-color: white;}#sk-container-id-2 pre{padding: 0;}#sk-container-id-2 div.sk-toggleable {background-color: white;}#sk-container-id-2 label.sk-toggleable__label {cursor: pointer;display: block;width: 100%;margin-bottom: 0;padding: 0.3em;box-sizing: border-box;text-align: center;}#sk-container-id-2 label.sk-toggleable__label-arrow:before {content: \"▸\";float: left;margin-right: 0.25em;color: #696969;}#sk-container-id-2 label.sk-toggleable__label-arrow:hover:before {color: black;}#sk-container-id-2 div.sk-estimator:hover label.sk-toggleable__label-arrow:before {color: black;}#sk-container-id-2 div.sk-toggleable__content {max-height: 0;max-width: 0;overflow: hidden;text-align: left;background-color: #f0f8ff;}#sk-container-id-2 div.sk-toggleable__content pre {margin: 0.2em;color: black;border-radius: 0.25em;background-color: #f0f8ff;}#sk-container-id-2 input.sk-toggleable__control:checked~div.sk-toggleable__content {max-height: 200px;max-width: 100%;overflow: auto;}#sk-container-id-2 input.sk-toggleable__control:checked~label.sk-toggleable__label-arrow:before {content: \"▾\";}#sk-container-id-2 div.sk-estimator input.sk-toggleable__control:checked~label.sk-toggleable__label {background-color: #d4ebff;}#sk-container-id-2 div.sk-label input.sk-toggleable__control:checked~label.sk-toggleable__label {background-color: #d4ebff;}#sk-container-id-2 input.sk-hidden--visually {border: 0;clip: rect(1px 1px 1px 1px);clip: rect(1px, 1px, 1px, 1px);height: 1px;margin: -1px;overflow: hidden;padding: 0;position: absolute;width: 1px;}#sk-container-id-2 div.sk-estimator {font-family: monospace;background-color: #f0f8ff;border: 1px dotted black;border-radius: 0.25em;box-sizing: border-box;margin-bottom: 0.5em;}#sk-container-id-2 div.sk-estimator:hover {background-color: #d4ebff;}#sk-container-id-2 div.sk-parallel-item::after {content: \"\";width: 100%;border-bottom: 1px solid gray;flex-grow: 1;}#sk-container-id-2 div.sk-label:hover label.sk-toggleable__label {background-color: #d4ebff;}#sk-container-id-2 div.sk-serial::before {content: \"\";position: absolute;border-left: 1px solid gray;box-sizing: border-box;top: 0;bottom: 0;left: 50%;z-index: 0;}#sk-container-id-2 div.sk-serial {display: flex;flex-direction: column;align-items: center;background-color: white;padding-right: 0.2em;padding-left: 0.2em;position: relative;}#sk-container-id-2 div.sk-item {position: relative;z-index: 1;}#sk-container-id-2 div.sk-parallel {display: flex;align-items: stretch;justify-content: center;background-color: white;position: relative;}#sk-container-id-2 div.sk-item::before, #sk-container-id-2 div.sk-parallel-item::before {content: \"\";position: absolute;border-left: 1px solid gray;box-sizing: border-box;top: 0;bottom: 0;left: 50%;z-index: -1;}#sk-container-id-2 div.sk-parallel-item {display: flex;flex-direction: column;z-index: 1;position: relative;background-color: white;}#sk-container-id-2 div.sk-parallel-item:first-child::after {align-self: flex-end;width: 50%;}#sk-container-id-2 div.sk-parallel-item:last-child::after {align-self: flex-start;width: 50%;}#sk-container-id-2 div.sk-parallel-item:only-child::after {width: 0;}#sk-container-id-2 div.sk-dashed-wrapped {border: 1px dashed gray;margin: 0 0.4em 0.5em 0.4em;box-sizing: border-box;padding-bottom: 0.4em;background-color: white;}#sk-container-id-2 div.sk-label label {font-family: monospace;font-weight: bold;display: inline-block;line-height: 1.2em;}#sk-container-id-2 div.sk-label-container {text-align: center;}#sk-container-id-2 div.sk-container {/* jupyter's `normalize.less` sets `[hidden] { display: none; }` but bootstrap.min.css set `[hidden] { display: none !important; }` so we also need the `!important` here to be able to override the default hidden behavior on the sphinx rendered scikit-learn.org. See: https://github.com/scikit-learn/scikit-learn/issues/21755 */display: inline-block !important;position: relative;}#sk-container-id-2 div.sk-text-repr-fallback {display: none;}</style><div id=\"sk-container-id-2\" class=\"sk-top-container\"><div class=\"sk-text-repr-fallback\"><pre>LogisticRegression()</pre><b>In a Jupyter environment, please rerun this cell to show the HTML representation or trust the notebook. <br />On GitHub, the HTML representation is unable to render, please try loading this page with nbviewer.org.</b></div><div class=\"sk-container\" hidden><div class=\"sk-item\"><div class=\"sk-estimator sk-toggleable\"><input class=\"sk-toggleable__control sk-hidden--visually\" id=\"sk-estimator-id-2\" type=\"checkbox\" checked><label for=\"sk-estimator-id-2\" class=\"sk-toggleable__label sk-toggleable__label-arrow\">LogisticRegression</label><div class=\"sk-toggleable__content\"><pre>LogisticRegression()</pre></div></div></div></div></div>"
      ],
      "text/plain": [
       "LogisticRegression()"
      ]
     },
     "execution_count": 30,
     "metadata": {},
     "output_type": "execute_result"
    }
   ],
   "source": [
    "lr = LogisticRegression()\n",
    "lr"
   ]
  },
  {
   "cell_type": "code",
   "execution_count": 31,
   "id": "64bc7662-2d01-4ac7-acf2-4a6e174c71c6",
   "metadata": {},
   "outputs": [],
   "source": [
    "model = lr.fit(X_train, y_train)"
   ]
  },
  {
   "cell_type": "code",
   "execution_count": 32,
   "id": "5406546a-5949-442b-81c1-ab2114fcc66b",
   "metadata": {},
   "outputs": [
    {
     "data": {
      "text/plain": [
       "array([0, 0, 0, 1, 1, 0, 0, 0, 0, 0, 1, 1, 1, 1, 1, 0, 1, 0, 0, 0])"
      ]
     },
     "execution_count": 32,
     "metadata": {},
     "output_type": "execute_result"
    }
   ],
   "source": [
    "y_pred = model.predict(X_test)\n",
    "y_pred"
   ]
  },
  {
   "cell_type": "code",
   "execution_count": 33,
   "id": "94bd12df-7e2b-41e6-8688-7560cae43c9f",
   "metadata": {},
   "outputs": [
    {
     "data": {
      "text/plain": [
       "(array([0, 0, 0, 1, 1, 0, 0, 0, 0, 0, 1, 1, 1, 1, 1, 0, 1, 0, 0, 0]),\n",
       " array([0, 0, 0, 1, 1, 0, 0, 0, 0, 0, 1, 1, 1, 1, 1, 0, 1, 0, 0, 0]))"
      ]
     },
     "execution_count": 33,
     "metadata": {},
     "output_type": "execute_result"
    }
   ],
   "source": [
    "y_test, y_pred"
   ]
  },
  {
   "cell_type": "code",
   "execution_count": 34,
   "id": "2d25798b-7550-429f-a562-aca6ef0e4c80",
   "metadata": {},
   "outputs": [
    {
     "name": "stdout",
     "output_type": "stream",
     "text": [
      "1.0\n",
      "[[12  0]\n",
      " [ 0  8]]\n",
      "              precision    recall  f1-score   support\n",
      "\n",
      "           0       1.00      1.00      1.00        12\n",
      "           1       1.00      1.00      1.00         8\n",
      "\n",
      "    accuracy                           1.00        20\n",
      "   macro avg       1.00      1.00      1.00        20\n",
      "weighted avg       1.00      1.00      1.00        20\n",
      "\n"
     ]
    }
   ],
   "source": [
    "# Preformance metrics\n",
    "\n",
    "from sklearn.metrics import accuracy_score, confusion_matrix, classification_report\n",
    "\n",
    "print(accuracy_score(y_test, y_pred))\n",
    "print(confusion_matrix(y_test, y_pred))\n",
    "print(classification_report(y_test, y_pred))"
   ]
  },
  {
   "cell_type": "markdown",
   "id": "974dfbb4-dbb9-4cb6-8236-d0eeea5f1db1",
   "metadata": {},
   "source": [
    "# Hyperparameter Tuning in Logistic Regression"
   ]
  },
  {
   "cell_type": "markdown",
   "id": "66817aaf-9d96-474b-8009-b9c60c810edd",
   "metadata": {},
   "source": [
    "## GridSearch CV"
   ]
  },
  {
   "cell_type": "markdown",
   "id": "5e4715c7-599d-4a8d-8a66-6965cbb519f3",
   "metadata": {},
   "source": [
    "#### Hyperparameters: Parameters not learned by the model from the data but set by the user.\n",
    "#### Cross-validation (CV): A technique to split the dataset into training and testing subsets multiple times to evaluate the model's performance consistently"
   ]
  },
  {
   "cell_type": "raw",
   "id": "f4765791-f9e8-40e8-add1-74e0a44c305c",
   "metadata": {},
   "source": [
    "Workflow of GridSearchCV:\n",
    "\n",
    "1. Define the model: Choose a machine learning model (e.g., SVM, RandomForestClassifier).\n",
    "2. Specify the parameter grid: A dictionary where keys are the parameter names, and values are lists of possible values for each parameter.\n",
    "3. Cross-validation strategy: Define how many folds to use in cross-validation (e.g., 5-fold).\n",
    "4. Fit the model: GridSearchCV will try all parameter combinations, train the model on each combination using cross-validation, and score the model performance.\n",
    "5. Best model: Returns the combination with the best performance"
   ]
  },
  {
   "cell_type": "code",
   "execution_count": 35,
   "id": "cb6ee143-7658-45f9-90d1-40d2d9196de4",
   "metadata": {},
   "outputs": [],
   "source": [
    "from sklearn.model_selection import GridSearchCV"
   ]
  },
  {
   "cell_type": "code",
   "execution_count": 37,
   "id": "caea5cdb-5eb2-4a8c-a590-5bccc0593709",
   "metadata": {},
   "outputs": [],
   "source": [
    "model = LogisticRegression()"
   ]
  },
  {
   "cell_type": "code",
   "execution_count": 45,
   "id": "f41c3f4e-4088-4f8a-9e34-e8e73ababb19",
   "metadata": {},
   "outputs": [],
   "source": [
    "params = {\n",
    "    'penalty' : ['l1', 'l2', 'elasticnet'],\n",
    "    'C' : [1.0,10.0,100.0],\n",
    "    'solver' : ['lbfgs', 'liblinear', 'newton-cg', 'newton-cholesky', 'sag', 'saga']\n",
    "}"
   ]
  },
  {
   "cell_type": "code",
   "execution_count": 46,
   "id": "9ebbb812-1c8a-4f7d-9b93-fa0c8f1d8c3f",
   "metadata": {},
   "outputs": [
    {
     "data": {
      "text/plain": [
       "{'penalty': ['l1', 'l2', 'elasticnet'],\n",
       " 'C': [1.0, 10.0, 100.0],\n",
       " 'solver': ['lbfgs',\n",
       "  'liblinear',\n",
       "  'newton-cg',\n",
       "  'newton-cholesky',\n",
       "  'sag',\n",
       "  'saga']}"
      ]
     },
     "execution_count": 46,
     "metadata": {},
     "output_type": "execute_result"
    }
   ],
   "source": [
    "params"
   ]
  },
  {
   "cell_type": "code",
   "execution_count": 42,
   "id": "9b2cd75f-a99b-4232-b5cf-e9803e9834e2",
   "metadata": {},
   "outputs": [],
   "source": [
    "from sklearn.model_selection import StratifiedKFold\n",
    "cv = StratifiedKFold()"
   ]
  },
  {
   "cell_type": "code",
   "execution_count": 47,
   "id": "a533ee62-baa5-44ca-88a0-99f1a73a9f5e",
   "metadata": {},
   "outputs": [],
   "source": [
    "gcv = GridSearchCV(estimator = model , param_grid= params, cv = 5, scoring = 'accuracy')"
   ]
  },
  {
   "cell_type": "code",
   "execution_count": 48,
   "id": "5567b617-3b66-4aed-a24a-abaf29096e2e",
   "metadata": {},
   "outputs": [
    {
     "data": {
      "text/html": [
       "<style>#sk-container-id-3 {color: black;background-color: white;}#sk-container-id-3 pre{padding: 0;}#sk-container-id-3 div.sk-toggleable {background-color: white;}#sk-container-id-3 label.sk-toggleable__label {cursor: pointer;display: block;width: 100%;margin-bottom: 0;padding: 0.3em;box-sizing: border-box;text-align: center;}#sk-container-id-3 label.sk-toggleable__label-arrow:before {content: \"▸\";float: left;margin-right: 0.25em;color: #696969;}#sk-container-id-3 label.sk-toggleable__label-arrow:hover:before {color: black;}#sk-container-id-3 div.sk-estimator:hover label.sk-toggleable__label-arrow:before {color: black;}#sk-container-id-3 div.sk-toggleable__content {max-height: 0;max-width: 0;overflow: hidden;text-align: left;background-color: #f0f8ff;}#sk-container-id-3 div.sk-toggleable__content pre {margin: 0.2em;color: black;border-radius: 0.25em;background-color: #f0f8ff;}#sk-container-id-3 input.sk-toggleable__control:checked~div.sk-toggleable__content {max-height: 200px;max-width: 100%;overflow: auto;}#sk-container-id-3 input.sk-toggleable__control:checked~label.sk-toggleable__label-arrow:before {content: \"▾\";}#sk-container-id-3 div.sk-estimator input.sk-toggleable__control:checked~label.sk-toggleable__label {background-color: #d4ebff;}#sk-container-id-3 div.sk-label input.sk-toggleable__control:checked~label.sk-toggleable__label {background-color: #d4ebff;}#sk-container-id-3 input.sk-hidden--visually {border: 0;clip: rect(1px 1px 1px 1px);clip: rect(1px, 1px, 1px, 1px);height: 1px;margin: -1px;overflow: hidden;padding: 0;position: absolute;width: 1px;}#sk-container-id-3 div.sk-estimator {font-family: monospace;background-color: #f0f8ff;border: 1px dotted black;border-radius: 0.25em;box-sizing: border-box;margin-bottom: 0.5em;}#sk-container-id-3 div.sk-estimator:hover {background-color: #d4ebff;}#sk-container-id-3 div.sk-parallel-item::after {content: \"\";width: 100%;border-bottom: 1px solid gray;flex-grow: 1;}#sk-container-id-3 div.sk-label:hover label.sk-toggleable__label {background-color: #d4ebff;}#sk-container-id-3 div.sk-serial::before {content: \"\";position: absolute;border-left: 1px solid gray;box-sizing: border-box;top: 0;bottom: 0;left: 50%;z-index: 0;}#sk-container-id-3 div.sk-serial {display: flex;flex-direction: column;align-items: center;background-color: white;padding-right: 0.2em;padding-left: 0.2em;position: relative;}#sk-container-id-3 div.sk-item {position: relative;z-index: 1;}#sk-container-id-3 div.sk-parallel {display: flex;align-items: stretch;justify-content: center;background-color: white;position: relative;}#sk-container-id-3 div.sk-item::before, #sk-container-id-3 div.sk-parallel-item::before {content: \"\";position: absolute;border-left: 1px solid gray;box-sizing: border-box;top: 0;bottom: 0;left: 50%;z-index: -1;}#sk-container-id-3 div.sk-parallel-item {display: flex;flex-direction: column;z-index: 1;position: relative;background-color: white;}#sk-container-id-3 div.sk-parallel-item:first-child::after {align-self: flex-end;width: 50%;}#sk-container-id-3 div.sk-parallel-item:last-child::after {align-self: flex-start;width: 50%;}#sk-container-id-3 div.sk-parallel-item:only-child::after {width: 0;}#sk-container-id-3 div.sk-dashed-wrapped {border: 1px dashed gray;margin: 0 0.4em 0.5em 0.4em;box-sizing: border-box;padding-bottom: 0.4em;background-color: white;}#sk-container-id-3 div.sk-label label {font-family: monospace;font-weight: bold;display: inline-block;line-height: 1.2em;}#sk-container-id-3 div.sk-label-container {text-align: center;}#sk-container-id-3 div.sk-container {/* jupyter's `normalize.less` sets `[hidden] { display: none; }` but bootstrap.min.css set `[hidden] { display: none !important; }` so we also need the `!important` here to be able to override the default hidden behavior on the sphinx rendered scikit-learn.org. See: https://github.com/scikit-learn/scikit-learn/issues/21755 */display: inline-block !important;position: relative;}#sk-container-id-3 div.sk-text-repr-fallback {display: none;}</style><div id=\"sk-container-id-3\" class=\"sk-top-container\"><div class=\"sk-text-repr-fallback\"><pre>GridSearchCV(cv=5, estimator=LogisticRegression(),\n",
       "             param_grid={&#x27;C&#x27;: [1.0, 10.0, 100.0],\n",
       "                         &#x27;penalty&#x27;: [&#x27;l1&#x27;, &#x27;l2&#x27;, &#x27;elasticnet&#x27;],\n",
       "                         &#x27;solver&#x27;: [&#x27;lbfgs&#x27;, &#x27;liblinear&#x27;, &#x27;newton-cg&#x27;,\n",
       "                                    &#x27;newton-cholesky&#x27;, &#x27;sag&#x27;, &#x27;saga&#x27;]},\n",
       "             scoring=&#x27;accuracy&#x27;)</pre><b>In a Jupyter environment, please rerun this cell to show the HTML representation or trust the notebook. <br />On GitHub, the HTML representation is unable to render, please try loading this page with nbviewer.org.</b></div><div class=\"sk-container\" hidden><div class=\"sk-item sk-dashed-wrapped\"><div class=\"sk-label-container\"><div class=\"sk-label sk-toggleable\"><input class=\"sk-toggleable__control sk-hidden--visually\" id=\"sk-estimator-id-3\" type=\"checkbox\" ><label for=\"sk-estimator-id-3\" class=\"sk-toggleable__label sk-toggleable__label-arrow\">GridSearchCV</label><div class=\"sk-toggleable__content\"><pre>GridSearchCV(cv=5, estimator=LogisticRegression(),\n",
       "             param_grid={&#x27;C&#x27;: [1.0, 10.0, 100.0],\n",
       "                         &#x27;penalty&#x27;: [&#x27;l1&#x27;, &#x27;l2&#x27;, &#x27;elasticnet&#x27;],\n",
       "                         &#x27;solver&#x27;: [&#x27;lbfgs&#x27;, &#x27;liblinear&#x27;, &#x27;newton-cg&#x27;,\n",
       "                                    &#x27;newton-cholesky&#x27;, &#x27;sag&#x27;, &#x27;saga&#x27;]},\n",
       "             scoring=&#x27;accuracy&#x27;)</pre></div></div></div><div class=\"sk-parallel\"><div class=\"sk-parallel-item\"><div class=\"sk-item\"><div class=\"sk-label-container\"><div class=\"sk-label sk-toggleable\"><input class=\"sk-toggleable__control sk-hidden--visually\" id=\"sk-estimator-id-4\" type=\"checkbox\" ><label for=\"sk-estimator-id-4\" class=\"sk-toggleable__label sk-toggleable__label-arrow\">estimator: LogisticRegression</label><div class=\"sk-toggleable__content\"><pre>LogisticRegression()</pre></div></div></div><div class=\"sk-serial\"><div class=\"sk-item\"><div class=\"sk-estimator sk-toggleable\"><input class=\"sk-toggleable__control sk-hidden--visually\" id=\"sk-estimator-id-5\" type=\"checkbox\" ><label for=\"sk-estimator-id-5\" class=\"sk-toggleable__label sk-toggleable__label-arrow\">LogisticRegression</label><div class=\"sk-toggleable__content\"><pre>LogisticRegression()</pre></div></div></div></div></div></div></div></div></div></div>"
      ],
      "text/plain": [
       "GridSearchCV(cv=5, estimator=LogisticRegression(),\n",
       "             param_grid={'C': [1.0, 10.0, 100.0],\n",
       "                         'penalty': ['l1', 'l2', 'elasticnet'],\n",
       "                         'solver': ['lbfgs', 'liblinear', 'newton-cg',\n",
       "                                    'newton-cholesky', 'sag', 'saga']},\n",
       "             scoring='accuracy')"
      ]
     },
     "execution_count": 48,
     "metadata": {},
     "output_type": "execute_result"
    }
   ],
   "source": [
    "gcv"
   ]
  },
  {
   "cell_type": "code",
   "execution_count": 49,
   "id": "8bdd57b6-c60d-4daf-8122-86cfb24e65b2",
   "metadata": {},
   "outputs": [
    {
     "name": "stderr",
     "output_type": "stream",
     "text": [
      "C:\\Users\\saike\\anaconda3\\Lib\\site-packages\\sklearn\\linear_model\\_sag.py:350: ConvergenceWarning: The max_iter was reached which means the coef_ did not converge\n",
      "  warnings.warn(\n",
      "C:\\Users\\saike\\anaconda3\\Lib\\site-packages\\sklearn\\linear_model\\_sag.py:350: ConvergenceWarning: The max_iter was reached which means the coef_ did not converge\n",
      "  warnings.warn(\n",
      "C:\\Users\\saike\\anaconda3\\Lib\\site-packages\\sklearn\\linear_model\\_sag.py:350: ConvergenceWarning: The max_iter was reached which means the coef_ did not converge\n",
      "  warnings.warn(\n",
      "C:\\Users\\saike\\anaconda3\\Lib\\site-packages\\sklearn\\linear_model\\_sag.py:350: ConvergenceWarning: The max_iter was reached which means the coef_ did not converge\n",
      "  warnings.warn(\n",
      "C:\\Users\\saike\\anaconda3\\Lib\\site-packages\\sklearn\\linear_model\\_sag.py:350: ConvergenceWarning: The max_iter was reached which means the coef_ did not converge\n",
      "  warnings.warn(\n",
      "C:\\Users\\saike\\anaconda3\\Lib\\site-packages\\sklearn\\linear_model\\_sag.py:350: ConvergenceWarning: The max_iter was reached which means the coef_ did not converge\n",
      "  warnings.warn(\n",
      "C:\\Users\\saike\\anaconda3\\Lib\\site-packages\\sklearn\\linear_model\\_sag.py:350: ConvergenceWarning: The max_iter was reached which means the coef_ did not converge\n",
      "  warnings.warn(\n",
      "C:\\Users\\saike\\anaconda3\\Lib\\site-packages\\sklearn\\linear_model\\_sag.py:350: ConvergenceWarning: The max_iter was reached which means the coef_ did not converge\n",
      "  warnings.warn(\n",
      "C:\\Users\\saike\\anaconda3\\Lib\\site-packages\\sklearn\\linear_model\\_sag.py:350: ConvergenceWarning: The max_iter was reached which means the coef_ did not converge\n",
      "  warnings.warn(\n",
      "C:\\Users\\saike\\anaconda3\\Lib\\site-packages\\sklearn\\linear_model\\_sag.py:350: ConvergenceWarning: The max_iter was reached which means the coef_ did not converge\n",
      "  warnings.warn(\n",
      "C:\\Users\\saike\\anaconda3\\Lib\\site-packages\\sklearn\\linear_model\\_sag.py:350: ConvergenceWarning: The max_iter was reached which means the coef_ did not converge\n",
      "  warnings.warn(\n",
      "C:\\Users\\saike\\anaconda3\\Lib\\site-packages\\sklearn\\linear_model\\_sag.py:350: ConvergenceWarning: The max_iter was reached which means the coef_ did not converge\n",
      "  warnings.warn(\n",
      "C:\\Users\\saike\\anaconda3\\Lib\\site-packages\\sklearn\\linear_model\\_sag.py:350: ConvergenceWarning: The max_iter was reached which means the coef_ did not converge\n",
      "  warnings.warn(\n",
      "C:\\Users\\saike\\anaconda3\\Lib\\site-packages\\sklearn\\linear_model\\_sag.py:350: ConvergenceWarning: The max_iter was reached which means the coef_ did not converge\n",
      "  warnings.warn(\n",
      "C:\\Users\\saike\\anaconda3\\Lib\\site-packages\\sklearn\\linear_model\\_sag.py:350: ConvergenceWarning: The max_iter was reached which means the coef_ did not converge\n",
      "  warnings.warn(\n",
      "C:\\Users\\saike\\anaconda3\\Lib\\site-packages\\sklearn\\svm\\_base.py:1244: ConvergenceWarning: Liblinear failed to converge, increase the number of iterations.\n",
      "  warnings.warn(\n",
      "C:\\Users\\saike\\anaconda3\\Lib\\site-packages\\sklearn\\svm\\_base.py:1244: ConvergenceWarning: Liblinear failed to converge, increase the number of iterations.\n",
      "  warnings.warn(\n",
      "C:\\Users\\saike\\anaconda3\\Lib\\site-packages\\sklearn\\linear_model\\_sag.py:350: ConvergenceWarning: The max_iter was reached which means the coef_ did not converge\n",
      "  warnings.warn(\n",
      "C:\\Users\\saike\\anaconda3\\Lib\\site-packages\\sklearn\\linear_model\\_sag.py:350: ConvergenceWarning: The max_iter was reached which means the coef_ did not converge\n",
      "  warnings.warn(\n",
      "C:\\Users\\saike\\anaconda3\\Lib\\site-packages\\sklearn\\linear_model\\_sag.py:350: ConvergenceWarning: The max_iter was reached which means the coef_ did not converge\n",
      "  warnings.warn(\n",
      "C:\\Users\\saike\\anaconda3\\Lib\\site-packages\\sklearn\\linear_model\\_sag.py:350: ConvergenceWarning: The max_iter was reached which means the coef_ did not converge\n",
      "  warnings.warn(\n",
      "C:\\Users\\saike\\anaconda3\\Lib\\site-packages\\sklearn\\linear_model\\_sag.py:350: ConvergenceWarning: The max_iter was reached which means the coef_ did not converge\n",
      "  warnings.warn(\n",
      "C:\\Users\\saike\\anaconda3\\Lib\\site-packages\\sklearn\\linear_model\\_sag.py:350: ConvergenceWarning: The max_iter was reached which means the coef_ did not converge\n",
      "  warnings.warn(\n",
      "C:\\Users\\saike\\anaconda3\\Lib\\site-packages\\sklearn\\linear_model\\_sag.py:350: ConvergenceWarning: The max_iter was reached which means the coef_ did not converge\n",
      "  warnings.warn(\n",
      "C:\\Users\\saike\\anaconda3\\Lib\\site-packages\\sklearn\\linear_model\\_sag.py:350: ConvergenceWarning: The max_iter was reached which means the coef_ did not converge\n",
      "  warnings.warn(\n",
      "C:\\Users\\saike\\anaconda3\\Lib\\site-packages\\sklearn\\linear_model\\_sag.py:350: ConvergenceWarning: The max_iter was reached which means the coef_ did not converge\n",
      "  warnings.warn(\n",
      "C:\\Users\\saike\\anaconda3\\Lib\\site-packages\\sklearn\\linear_model\\_sag.py:350: ConvergenceWarning: The max_iter was reached which means the coef_ did not converge\n",
      "  warnings.warn(\n",
      "C:\\Users\\saike\\anaconda3\\Lib\\site-packages\\sklearn\\linear_model\\_sag.py:350: ConvergenceWarning: The max_iter was reached which means the coef_ did not converge\n",
      "  warnings.warn(\n",
      "C:\\Users\\saike\\anaconda3\\Lib\\site-packages\\sklearn\\linear_model\\_sag.py:350: ConvergenceWarning: The max_iter was reached which means the coef_ did not converge\n",
      "  warnings.warn(\n",
      "C:\\Users\\saike\\anaconda3\\Lib\\site-packages\\sklearn\\linear_model\\_sag.py:350: ConvergenceWarning: The max_iter was reached which means the coef_ did not converge\n",
      "  warnings.warn(\n",
      "C:\\Users\\saike\\anaconda3\\Lib\\site-packages\\sklearn\\linear_model\\_sag.py:350: ConvergenceWarning: The max_iter was reached which means the coef_ did not converge\n",
      "  warnings.warn(\n",
      "C:\\Users\\saike\\anaconda3\\Lib\\site-packages\\sklearn\\linear_model\\_sag.py:350: ConvergenceWarning: The max_iter was reached which means the coef_ did not converge\n",
      "  warnings.warn(\n",
      "C:\\Users\\saike\\anaconda3\\Lib\\site-packages\\sklearn\\model_selection\\_validation.py:378: FitFailedWarning: \n",
      "150 fits failed out of a total of 270.\n",
      "The score on these train-test partitions for these parameters will be set to nan.\n",
      "If these failures are not expected, you can try to debug them by setting error_score='raise'.\n",
      "\n",
      "Below are more details about the failures:\n",
      "--------------------------------------------------------------------------------\n",
      "15 fits failed with the following error:\n",
      "Traceback (most recent call last):\n",
      "  File \"C:\\Users\\saike\\anaconda3\\Lib\\site-packages\\sklearn\\model_selection\\_validation.py\", line 686, in _fit_and_score\n",
      "    estimator.fit(X_train, y_train, **fit_params)\n",
      "  File \"C:\\Users\\saike\\anaconda3\\Lib\\site-packages\\sklearn\\linear_model\\_logistic.py\", line 1162, in fit\n",
      "    solver = _check_solver(self.solver, self.penalty, self.dual)\n",
      "             ^^^^^^^^^^^^^^^^^^^^^^^^^^^^^^^^^^^^^^^^^^^^^^^^^^^\n",
      "  File \"C:\\Users\\saike\\anaconda3\\Lib\\site-packages\\sklearn\\linear_model\\_logistic.py\", line 54, in _check_solver\n",
      "    raise ValueError(\n",
      "ValueError: Solver lbfgs supports only 'l2' or 'none' penalties, got l1 penalty.\n",
      "\n",
      "--------------------------------------------------------------------------------\n",
      "15 fits failed with the following error:\n",
      "Traceback (most recent call last):\n",
      "  File \"C:\\Users\\saike\\anaconda3\\Lib\\site-packages\\sklearn\\model_selection\\_validation.py\", line 686, in _fit_and_score\n",
      "    estimator.fit(X_train, y_train, **fit_params)\n",
      "  File \"C:\\Users\\saike\\anaconda3\\Lib\\site-packages\\sklearn\\linear_model\\_logistic.py\", line 1162, in fit\n",
      "    solver = _check_solver(self.solver, self.penalty, self.dual)\n",
      "             ^^^^^^^^^^^^^^^^^^^^^^^^^^^^^^^^^^^^^^^^^^^^^^^^^^^\n",
      "  File \"C:\\Users\\saike\\anaconda3\\Lib\\site-packages\\sklearn\\linear_model\\_logistic.py\", line 54, in _check_solver\n",
      "    raise ValueError(\n",
      "ValueError: Solver newton-cg supports only 'l2' or 'none' penalties, got l1 penalty.\n",
      "\n",
      "--------------------------------------------------------------------------------\n",
      "15 fits failed with the following error:\n",
      "Traceback (most recent call last):\n",
      "  File \"C:\\Users\\saike\\anaconda3\\Lib\\site-packages\\sklearn\\model_selection\\_validation.py\", line 686, in _fit_and_score\n",
      "    estimator.fit(X_train, y_train, **fit_params)\n",
      "  File \"C:\\Users\\saike\\anaconda3\\Lib\\site-packages\\sklearn\\linear_model\\_logistic.py\", line 1162, in fit\n",
      "    solver = _check_solver(self.solver, self.penalty, self.dual)\n",
      "             ^^^^^^^^^^^^^^^^^^^^^^^^^^^^^^^^^^^^^^^^^^^^^^^^^^^\n",
      "  File \"C:\\Users\\saike\\anaconda3\\Lib\\site-packages\\sklearn\\linear_model\\_logistic.py\", line 54, in _check_solver\n",
      "    raise ValueError(\n",
      "ValueError: Solver newton-cholesky supports only 'l2' or 'none' penalties, got l1 penalty.\n",
      "\n",
      "--------------------------------------------------------------------------------\n",
      "15 fits failed with the following error:\n",
      "Traceback (most recent call last):\n",
      "  File \"C:\\Users\\saike\\anaconda3\\Lib\\site-packages\\sklearn\\model_selection\\_validation.py\", line 686, in _fit_and_score\n",
      "    estimator.fit(X_train, y_train, **fit_params)\n",
      "  File \"C:\\Users\\saike\\anaconda3\\Lib\\site-packages\\sklearn\\linear_model\\_logistic.py\", line 1162, in fit\n",
      "    solver = _check_solver(self.solver, self.penalty, self.dual)\n",
      "             ^^^^^^^^^^^^^^^^^^^^^^^^^^^^^^^^^^^^^^^^^^^^^^^^^^^\n",
      "  File \"C:\\Users\\saike\\anaconda3\\Lib\\site-packages\\sklearn\\linear_model\\_logistic.py\", line 54, in _check_solver\n",
      "    raise ValueError(\n",
      "ValueError: Solver sag supports only 'l2' or 'none' penalties, got l1 penalty.\n",
      "\n",
      "--------------------------------------------------------------------------------\n",
      "15 fits failed with the following error:\n",
      "Traceback (most recent call last):\n",
      "  File \"C:\\Users\\saike\\anaconda3\\Lib\\site-packages\\sklearn\\model_selection\\_validation.py\", line 686, in _fit_and_score\n",
      "    estimator.fit(X_train, y_train, **fit_params)\n",
      "  File \"C:\\Users\\saike\\anaconda3\\Lib\\site-packages\\sklearn\\linear_model\\_logistic.py\", line 1162, in fit\n",
      "    solver = _check_solver(self.solver, self.penalty, self.dual)\n",
      "             ^^^^^^^^^^^^^^^^^^^^^^^^^^^^^^^^^^^^^^^^^^^^^^^^^^^\n",
      "  File \"C:\\Users\\saike\\anaconda3\\Lib\\site-packages\\sklearn\\linear_model\\_logistic.py\", line 54, in _check_solver\n",
      "    raise ValueError(\n",
      "ValueError: Solver lbfgs supports only 'l2' or 'none' penalties, got elasticnet penalty.\n",
      "\n",
      "--------------------------------------------------------------------------------\n",
      "15 fits failed with the following error:\n",
      "Traceback (most recent call last):\n",
      "  File \"C:\\Users\\saike\\anaconda3\\Lib\\site-packages\\sklearn\\model_selection\\_validation.py\", line 686, in _fit_and_score\n",
      "    estimator.fit(X_train, y_train, **fit_params)\n",
      "  File \"C:\\Users\\saike\\anaconda3\\Lib\\site-packages\\sklearn\\linear_model\\_logistic.py\", line 1162, in fit\n",
      "    solver = _check_solver(self.solver, self.penalty, self.dual)\n",
      "             ^^^^^^^^^^^^^^^^^^^^^^^^^^^^^^^^^^^^^^^^^^^^^^^^^^^\n",
      "  File \"C:\\Users\\saike\\anaconda3\\Lib\\site-packages\\sklearn\\linear_model\\_logistic.py\", line 64, in _check_solver\n",
      "    raise ValueError(\n",
      "ValueError: Only 'saga' solver supports elasticnet penalty, got solver=liblinear.\n",
      "\n",
      "--------------------------------------------------------------------------------\n",
      "15 fits failed with the following error:\n",
      "Traceback (most recent call last):\n",
      "  File \"C:\\Users\\saike\\anaconda3\\Lib\\site-packages\\sklearn\\model_selection\\_validation.py\", line 686, in _fit_and_score\n",
      "    estimator.fit(X_train, y_train, **fit_params)\n",
      "  File \"C:\\Users\\saike\\anaconda3\\Lib\\site-packages\\sklearn\\linear_model\\_logistic.py\", line 1162, in fit\n",
      "    solver = _check_solver(self.solver, self.penalty, self.dual)\n",
      "             ^^^^^^^^^^^^^^^^^^^^^^^^^^^^^^^^^^^^^^^^^^^^^^^^^^^\n",
      "  File \"C:\\Users\\saike\\anaconda3\\Lib\\site-packages\\sklearn\\linear_model\\_logistic.py\", line 54, in _check_solver\n",
      "    raise ValueError(\n",
      "ValueError: Solver newton-cg supports only 'l2' or 'none' penalties, got elasticnet penalty.\n",
      "\n",
      "--------------------------------------------------------------------------------\n",
      "15 fits failed with the following error:\n",
      "Traceback (most recent call last):\n",
      "  File \"C:\\Users\\saike\\anaconda3\\Lib\\site-packages\\sklearn\\model_selection\\_validation.py\", line 686, in _fit_and_score\n",
      "    estimator.fit(X_train, y_train, **fit_params)\n",
      "  File \"C:\\Users\\saike\\anaconda3\\Lib\\site-packages\\sklearn\\linear_model\\_logistic.py\", line 1162, in fit\n",
      "    solver = _check_solver(self.solver, self.penalty, self.dual)\n",
      "             ^^^^^^^^^^^^^^^^^^^^^^^^^^^^^^^^^^^^^^^^^^^^^^^^^^^\n",
      "  File \"C:\\Users\\saike\\anaconda3\\Lib\\site-packages\\sklearn\\linear_model\\_logistic.py\", line 54, in _check_solver\n",
      "    raise ValueError(\n",
      "ValueError: Solver newton-cholesky supports only 'l2' or 'none' penalties, got elasticnet penalty.\n",
      "\n",
      "--------------------------------------------------------------------------------\n",
      "15 fits failed with the following error:\n",
      "Traceback (most recent call last):\n",
      "  File \"C:\\Users\\saike\\anaconda3\\Lib\\site-packages\\sklearn\\model_selection\\_validation.py\", line 686, in _fit_and_score\n",
      "    estimator.fit(X_train, y_train, **fit_params)\n",
      "  File \"C:\\Users\\saike\\anaconda3\\Lib\\site-packages\\sklearn\\linear_model\\_logistic.py\", line 1162, in fit\n",
      "    solver = _check_solver(self.solver, self.penalty, self.dual)\n",
      "             ^^^^^^^^^^^^^^^^^^^^^^^^^^^^^^^^^^^^^^^^^^^^^^^^^^^\n",
      "  File \"C:\\Users\\saike\\anaconda3\\Lib\\site-packages\\sklearn\\linear_model\\_logistic.py\", line 54, in _check_solver\n",
      "    raise ValueError(\n",
      "ValueError: Solver sag supports only 'l2' or 'none' penalties, got elasticnet penalty.\n",
      "\n",
      "--------------------------------------------------------------------------------\n",
      "15 fits failed with the following error:\n",
      "Traceback (most recent call last):\n",
      "  File \"C:\\Users\\saike\\anaconda3\\Lib\\site-packages\\sklearn\\model_selection\\_validation.py\", line 686, in _fit_and_score\n",
      "    estimator.fit(X_train, y_train, **fit_params)\n",
      "  File \"C:\\Users\\saike\\anaconda3\\Lib\\site-packages\\sklearn\\linear_model\\_logistic.py\", line 1291, in fit\n",
      "    fold_coefs_ = Parallel(n_jobs=self.n_jobs, verbose=self.verbose, prefer=prefer)(\n",
      "                  ^^^^^^^^^^^^^^^^^^^^^^^^^^^^^^^^^^^^^^^^^^^^^^^^^^^^^^^^^^^^^^^^^^\n",
      "  File \"C:\\Users\\saike\\anaconda3\\Lib\\site-packages\\sklearn\\utils\\parallel.py\", line 63, in __call__\n",
      "    return super().__call__(iterable_with_config)\n",
      "           ^^^^^^^^^^^^^^^^^^^^^^^^^^^^^^^^^^^^^^\n",
      "  File \"C:\\Users\\saike\\anaconda3\\Lib\\site-packages\\joblib\\parallel.py\", line 1085, in __call__\n",
      "    if self.dispatch_one_batch(iterator):\n",
      "       ^^^^^^^^^^^^^^^^^^^^^^^^^^^^^^^^^\n",
      "  File \"C:\\Users\\saike\\anaconda3\\Lib\\site-packages\\joblib\\parallel.py\", line 901, in dispatch_one_batch\n",
      "    self._dispatch(tasks)\n",
      "  File \"C:\\Users\\saike\\anaconda3\\Lib\\site-packages\\joblib\\parallel.py\", line 819, in _dispatch\n",
      "    job = self._backend.apply_async(batch, callback=cb)\n",
      "          ^^^^^^^^^^^^^^^^^^^^^^^^^^^^^^^^^^^^^^^^^^^^^\n",
      "  File \"C:\\Users\\saike\\anaconda3\\Lib\\site-packages\\joblib\\_parallel_backends.py\", line 208, in apply_async\n",
      "    result = ImmediateResult(func)\n",
      "             ^^^^^^^^^^^^^^^^^^^^^\n",
      "  File \"C:\\Users\\saike\\anaconda3\\Lib\\site-packages\\joblib\\_parallel_backends.py\", line 597, in __init__\n",
      "    self.results = batch()\n",
      "                   ^^^^^^^\n",
      "  File \"C:\\Users\\saike\\anaconda3\\Lib\\site-packages\\joblib\\parallel.py\", line 288, in __call__\n",
      "    return [func(*args, **kwargs)\n",
      "           ^^^^^^^^^^^^^^^^^^^^^^\n",
      "  File \"C:\\Users\\saike\\anaconda3\\Lib\\site-packages\\joblib\\parallel.py\", line 288, in <listcomp>\n",
      "    return [func(*args, **kwargs)\n",
      "            ^^^^^^^^^^^^^^^^^^^^^\n",
      "  File \"C:\\Users\\saike\\anaconda3\\Lib\\site-packages\\sklearn\\utils\\parallel.py\", line 123, in __call__\n",
      "    return self.function(*args, **kwargs)\n",
      "           ^^^^^^^^^^^^^^^^^^^^^^^^^^^^^^\n",
      "  File \"C:\\Users\\saike\\anaconda3\\Lib\\site-packages\\sklearn\\linear_model\\_logistic.py\", line 521, in _logistic_regression_path\n",
      "    alpha = (1.0 / C) * (1 - l1_ratio)\n",
      "                         ~~^~~~~~~~~~\n",
      "TypeError: unsupported operand type(s) for -: 'int' and 'NoneType'\n",
      "\n",
      "  warnings.warn(some_fits_failed_message, FitFailedWarning)\n",
      "C:\\Users\\saike\\anaconda3\\Lib\\site-packages\\sklearn\\model_selection\\_search.py:952: UserWarning: One or more of the test scores are non-finite: [   nan 0.9       nan    nan    nan 0.9    0.9    0.9    0.9    0.9\n",
      " 0.9    0.9       nan    nan    nan    nan    nan    nan    nan 0.9\n",
      "    nan    nan    nan 0.9    0.9125 0.9125 0.9125 0.9125 0.9125 0.9125\n",
      "    nan    nan    nan    nan    nan    nan    nan 0.875     nan    nan\n",
      "    nan 0.9    0.875  0.875  0.875  0.875  0.8875 0.9       nan    nan\n",
      "    nan    nan    nan    nan]\n",
      "  warnings.warn(\n"
     ]
    }
   ],
   "source": [
    "model1 = gcv.fit(X_train, y_train)"
   ]
  },
  {
   "cell_type": "code",
   "execution_count": 50,
   "id": "e301252e-6b27-48a9-8ceb-26a4a188096b",
   "metadata": {},
   "outputs": [
    {
     "data": {
      "text/html": [
       "<style>#sk-container-id-4 {color: black;background-color: white;}#sk-container-id-4 pre{padding: 0;}#sk-container-id-4 div.sk-toggleable {background-color: white;}#sk-container-id-4 label.sk-toggleable__label {cursor: pointer;display: block;width: 100%;margin-bottom: 0;padding: 0.3em;box-sizing: border-box;text-align: center;}#sk-container-id-4 label.sk-toggleable__label-arrow:before {content: \"▸\";float: left;margin-right: 0.25em;color: #696969;}#sk-container-id-4 label.sk-toggleable__label-arrow:hover:before {color: black;}#sk-container-id-4 div.sk-estimator:hover label.sk-toggleable__label-arrow:before {color: black;}#sk-container-id-4 div.sk-toggleable__content {max-height: 0;max-width: 0;overflow: hidden;text-align: left;background-color: #f0f8ff;}#sk-container-id-4 div.sk-toggleable__content pre {margin: 0.2em;color: black;border-radius: 0.25em;background-color: #f0f8ff;}#sk-container-id-4 input.sk-toggleable__control:checked~div.sk-toggleable__content {max-height: 200px;max-width: 100%;overflow: auto;}#sk-container-id-4 input.sk-toggleable__control:checked~label.sk-toggleable__label-arrow:before {content: \"▾\";}#sk-container-id-4 div.sk-estimator input.sk-toggleable__control:checked~label.sk-toggleable__label {background-color: #d4ebff;}#sk-container-id-4 div.sk-label input.sk-toggleable__control:checked~label.sk-toggleable__label {background-color: #d4ebff;}#sk-container-id-4 input.sk-hidden--visually {border: 0;clip: rect(1px 1px 1px 1px);clip: rect(1px, 1px, 1px, 1px);height: 1px;margin: -1px;overflow: hidden;padding: 0;position: absolute;width: 1px;}#sk-container-id-4 div.sk-estimator {font-family: monospace;background-color: #f0f8ff;border: 1px dotted black;border-radius: 0.25em;box-sizing: border-box;margin-bottom: 0.5em;}#sk-container-id-4 div.sk-estimator:hover {background-color: #d4ebff;}#sk-container-id-4 div.sk-parallel-item::after {content: \"\";width: 100%;border-bottom: 1px solid gray;flex-grow: 1;}#sk-container-id-4 div.sk-label:hover label.sk-toggleable__label {background-color: #d4ebff;}#sk-container-id-4 div.sk-serial::before {content: \"\";position: absolute;border-left: 1px solid gray;box-sizing: border-box;top: 0;bottom: 0;left: 50%;z-index: 0;}#sk-container-id-4 div.sk-serial {display: flex;flex-direction: column;align-items: center;background-color: white;padding-right: 0.2em;padding-left: 0.2em;position: relative;}#sk-container-id-4 div.sk-item {position: relative;z-index: 1;}#sk-container-id-4 div.sk-parallel {display: flex;align-items: stretch;justify-content: center;background-color: white;position: relative;}#sk-container-id-4 div.sk-item::before, #sk-container-id-4 div.sk-parallel-item::before {content: \"\";position: absolute;border-left: 1px solid gray;box-sizing: border-box;top: 0;bottom: 0;left: 50%;z-index: -1;}#sk-container-id-4 div.sk-parallel-item {display: flex;flex-direction: column;z-index: 1;position: relative;background-color: white;}#sk-container-id-4 div.sk-parallel-item:first-child::after {align-self: flex-end;width: 50%;}#sk-container-id-4 div.sk-parallel-item:last-child::after {align-self: flex-start;width: 50%;}#sk-container-id-4 div.sk-parallel-item:only-child::after {width: 0;}#sk-container-id-4 div.sk-dashed-wrapped {border: 1px dashed gray;margin: 0 0.4em 0.5em 0.4em;box-sizing: border-box;padding-bottom: 0.4em;background-color: white;}#sk-container-id-4 div.sk-label label {font-family: monospace;font-weight: bold;display: inline-block;line-height: 1.2em;}#sk-container-id-4 div.sk-label-container {text-align: center;}#sk-container-id-4 div.sk-container {/* jupyter's `normalize.less` sets `[hidden] { display: none; }` but bootstrap.min.css set `[hidden] { display: none !important; }` so we also need the `!important` here to be able to override the default hidden behavior on the sphinx rendered scikit-learn.org. See: https://github.com/scikit-learn/scikit-learn/issues/21755 */display: inline-block !important;position: relative;}#sk-container-id-4 div.sk-text-repr-fallback {display: none;}</style><div id=\"sk-container-id-4\" class=\"sk-top-container\"><div class=\"sk-text-repr-fallback\"><pre>GridSearchCV(cv=5, estimator=LogisticRegression(),\n",
       "             param_grid={&#x27;C&#x27;: [1.0, 10.0, 100.0],\n",
       "                         &#x27;penalty&#x27;: [&#x27;l1&#x27;, &#x27;l2&#x27;, &#x27;elasticnet&#x27;],\n",
       "                         &#x27;solver&#x27;: [&#x27;lbfgs&#x27;, &#x27;liblinear&#x27;, &#x27;newton-cg&#x27;,\n",
       "                                    &#x27;newton-cholesky&#x27;, &#x27;sag&#x27;, &#x27;saga&#x27;]},\n",
       "             scoring=&#x27;accuracy&#x27;)</pre><b>In a Jupyter environment, please rerun this cell to show the HTML representation or trust the notebook. <br />On GitHub, the HTML representation is unable to render, please try loading this page with nbviewer.org.</b></div><div class=\"sk-container\" hidden><div class=\"sk-item sk-dashed-wrapped\"><div class=\"sk-label-container\"><div class=\"sk-label sk-toggleable\"><input class=\"sk-toggleable__control sk-hidden--visually\" id=\"sk-estimator-id-6\" type=\"checkbox\" ><label for=\"sk-estimator-id-6\" class=\"sk-toggleable__label sk-toggleable__label-arrow\">GridSearchCV</label><div class=\"sk-toggleable__content\"><pre>GridSearchCV(cv=5, estimator=LogisticRegression(),\n",
       "             param_grid={&#x27;C&#x27;: [1.0, 10.0, 100.0],\n",
       "                         &#x27;penalty&#x27;: [&#x27;l1&#x27;, &#x27;l2&#x27;, &#x27;elasticnet&#x27;],\n",
       "                         &#x27;solver&#x27;: [&#x27;lbfgs&#x27;, &#x27;liblinear&#x27;, &#x27;newton-cg&#x27;,\n",
       "                                    &#x27;newton-cholesky&#x27;, &#x27;sag&#x27;, &#x27;saga&#x27;]},\n",
       "             scoring=&#x27;accuracy&#x27;)</pre></div></div></div><div class=\"sk-parallel\"><div class=\"sk-parallel-item\"><div class=\"sk-item\"><div class=\"sk-label-container\"><div class=\"sk-label sk-toggleable\"><input class=\"sk-toggleable__control sk-hidden--visually\" id=\"sk-estimator-id-7\" type=\"checkbox\" ><label for=\"sk-estimator-id-7\" class=\"sk-toggleable__label sk-toggleable__label-arrow\">estimator: LogisticRegression</label><div class=\"sk-toggleable__content\"><pre>LogisticRegression()</pre></div></div></div><div class=\"sk-serial\"><div class=\"sk-item\"><div class=\"sk-estimator sk-toggleable\"><input class=\"sk-toggleable__control sk-hidden--visually\" id=\"sk-estimator-id-8\" type=\"checkbox\" ><label for=\"sk-estimator-id-8\" class=\"sk-toggleable__label sk-toggleable__label-arrow\">LogisticRegression</label><div class=\"sk-toggleable__content\"><pre>LogisticRegression()</pre></div></div></div></div></div></div></div></div></div></div>"
      ],
      "text/plain": [
       "GridSearchCV(cv=5, estimator=LogisticRegression(),\n",
       "             param_grid={'C': [1.0, 10.0, 100.0],\n",
       "                         'penalty': ['l1', 'l2', 'elasticnet'],\n",
       "                         'solver': ['lbfgs', 'liblinear', 'newton-cg',\n",
       "                                    'newton-cholesky', 'sag', 'saga']},\n",
       "             scoring='accuracy')"
      ]
     },
     "execution_count": 50,
     "metadata": {},
     "output_type": "execute_result"
    }
   ],
   "source": [
    "model1"
   ]
  },
  {
   "cell_type": "code",
   "execution_count": 51,
   "id": "962d9545-14dc-4ae1-ae8b-f90aaeb7b35d",
   "metadata": {},
   "outputs": [],
   "source": [
    "y_preds = model1.predict(X_test)"
   ]
  },
  {
   "cell_type": "code",
   "execution_count": 53,
   "id": "455f306a-0123-4792-8c1f-6f8a5351f891",
   "metadata": {},
   "outputs": [
    {
     "data": {
      "text/plain": [
       "(array([0, 0, 0, 1, 1, 0, 0, 0, 0, 0, 1, 1, 1, 1, 1, 0, 1, 0, 0, 0]),\n",
       " array([0, 0, 0, 1, 1, 0, 0, 0, 0, 0, 1, 1, 1, 1, 1, 0, 1, 0, 0, 0]))"
      ]
     },
     "execution_count": 53,
     "metadata": {},
     "output_type": "execute_result"
    }
   ],
   "source": [
    "y_test, y_preds"
   ]
  },
  {
   "cell_type": "code",
   "execution_count": 54,
   "id": "f8edf242-fd39-473a-94b4-a34a64a0b182",
   "metadata": {},
   "outputs": [
    {
     "name": "stdout",
     "output_type": "stream",
     "text": [
      "1.0\n",
      "[[12  0]\n",
      " [ 0  8]]\n",
      "              precision    recall  f1-score   support\n",
      "\n",
      "           0       1.00      1.00      1.00        12\n",
      "           1       1.00      1.00      1.00         8\n",
      "\n",
      "    accuracy                           1.00        20\n",
      "   macro avg       1.00      1.00      1.00        20\n",
      "weighted avg       1.00      1.00      1.00        20\n",
      "\n"
     ]
    }
   ],
   "source": [
    "from sklearn.metrics import accuracy_score, confusion_matrix, classification_report\n",
    "\n",
    "print(accuracy_score(y_test,y_preds))\n",
    "\n",
    "print(confusion_matrix(y_test,y_preds))\n",
    "\n",
    "print(classification_report(y_test,y_preds))"
   ]
  },
  {
   "cell_type": "code",
   "execution_count": 55,
   "id": "2c26da0b-40a5-4b7a-8704-3f86a78536e7",
   "metadata": {},
   "outputs": [
    {
     "data": {
      "text/plain": [
       "{'C': 10.0, 'penalty': 'l2', 'solver': 'lbfgs'}"
      ]
     },
     "execution_count": 55,
     "metadata": {},
     "output_type": "execute_result"
    }
   ],
   "source": [
    "model1.best_params_"
   ]
  },
  {
   "cell_type": "code",
   "execution_count": 56,
   "id": "d9b583df-dae1-49b0-a076-d5339a618e39",
   "metadata": {},
   "outputs": [
    {
     "data": {
      "text/plain": [
       "0.9125"
      ]
     },
     "execution_count": 56,
     "metadata": {},
     "output_type": "execute_result"
    }
   ],
   "source": [
    "model1.best_score_"
   ]
  },
  {
   "cell_type": "code",
   "execution_count": 57,
   "id": "c50b17cd-6c77-4b96-b0c7-6ca9509b3bfd",
   "metadata": {},
   "outputs": [
    {
     "data": {
      "text/plain": [
       "array([[9.14114401e-01, 8.58855991e-02],\n",
       "       [9.99907694e-01, 9.23064427e-05],\n",
       "       [8.06191400e-01, 1.93808600e-01],\n",
       "       [2.79231757e-01, 7.20768243e-01],\n",
       "       [2.74548943e-02, 9.72545106e-01],\n",
       "       [9.99023494e-01, 9.76505905e-04],\n",
       "       [9.92074428e-01, 7.92557224e-03],\n",
       "       [9.94867936e-01, 5.13206431e-03],\n",
       "       [9.46116030e-01, 5.38839697e-02],\n",
       "       [9.27938394e-01, 7.20616063e-02],\n",
       "       [6.31359485e-06, 9.99993686e-01],\n",
       "       [4.73592392e-06, 9.99995264e-01],\n",
       "       [1.89003026e-01, 8.10996974e-01],\n",
       "       [2.32516066e-04, 9.99767484e-01],\n",
       "       [7.49499051e-04, 9.99250501e-01],\n",
       "       [7.38823136e-01, 2.61176864e-01],\n",
       "       [5.38886606e-06, 9.99994611e-01],\n",
       "       [9.64264583e-01, 3.57354167e-02],\n",
       "       [9.98436215e-01, 1.56378522e-03],\n",
       "       [9.92180635e-01, 7.81936538e-03]])"
      ]
     },
     "execution_count": 57,
     "metadata": {},
     "output_type": "execute_result"
    }
   ],
   "source": [
    "model1.predict_proba(X_test)"
   ]
  },
  {
   "cell_type": "code",
   "execution_count": 58,
   "id": "29045f30-6c41-42f4-ba22-a21f1bebe9ee",
   "metadata": {},
   "outputs": [
    {
     "data": {
      "text/plain": [
       "(array([0, 0, 0, 1, 1, 0, 0, 0, 0, 0, 1, 1, 1, 1, 1, 0, 1, 0, 0, 0]),\n",
       " array([0, 0, 0, 1, 1, 0, 0, 0, 0, 0, 1, 1, 1, 1, 1, 0, 1, 0, 0, 0]))"
      ]
     },
     "execution_count": 58,
     "metadata": {},
     "output_type": "execute_result"
    }
   ],
   "source": [
    "y_test, y_preds"
   ]
  },
  {
   "cell_type": "markdown",
   "id": "0d9490e2-c4a6-478d-ad4e-8e0c1c5999e4",
   "metadata": {},
   "source": [
    "# Randomised Search CV"
   ]
  },
  {
   "cell_type": "code",
   "execution_count": 60,
   "id": "08c11ffd-5c1d-482f-8a3d-858c99438685",
   "metadata": {},
   "outputs": [],
   "source": [
    "from sklearn.model_selection import RandomizedSearchCV"
   ]
  },
  {
   "cell_type": "markdown",
   "id": "0bfea229-a5db-4e52-b2ff-2d3cae340486",
   "metadata": {},
   "source": []
  },
  {
   "cell_type": "code",
   "execution_count": 61,
   "id": "9827f864-092b-4d91-9b03-40ed88268449",
   "metadata": {},
   "outputs": [],
   "source": [
    "model2 = LogisticRegression()"
   ]
  },
  {
   "cell_type": "code",
   "execution_count": 62,
   "id": "db6925b0-dfe8-467f-b649-03396e349bf8",
   "metadata": {},
   "outputs": [
    {
     "data": {
      "text/html": [
       "<style>#sk-container-id-5 {color: black;background-color: white;}#sk-container-id-5 pre{padding: 0;}#sk-container-id-5 div.sk-toggleable {background-color: white;}#sk-container-id-5 label.sk-toggleable__label {cursor: pointer;display: block;width: 100%;margin-bottom: 0;padding: 0.3em;box-sizing: border-box;text-align: center;}#sk-container-id-5 label.sk-toggleable__label-arrow:before {content: \"▸\";float: left;margin-right: 0.25em;color: #696969;}#sk-container-id-5 label.sk-toggleable__label-arrow:hover:before {color: black;}#sk-container-id-5 div.sk-estimator:hover label.sk-toggleable__label-arrow:before {color: black;}#sk-container-id-5 div.sk-toggleable__content {max-height: 0;max-width: 0;overflow: hidden;text-align: left;background-color: #f0f8ff;}#sk-container-id-5 div.sk-toggleable__content pre {margin: 0.2em;color: black;border-radius: 0.25em;background-color: #f0f8ff;}#sk-container-id-5 input.sk-toggleable__control:checked~div.sk-toggleable__content {max-height: 200px;max-width: 100%;overflow: auto;}#sk-container-id-5 input.sk-toggleable__control:checked~label.sk-toggleable__label-arrow:before {content: \"▾\";}#sk-container-id-5 div.sk-estimator input.sk-toggleable__control:checked~label.sk-toggleable__label {background-color: #d4ebff;}#sk-container-id-5 div.sk-label input.sk-toggleable__control:checked~label.sk-toggleable__label {background-color: #d4ebff;}#sk-container-id-5 input.sk-hidden--visually {border: 0;clip: rect(1px 1px 1px 1px);clip: rect(1px, 1px, 1px, 1px);height: 1px;margin: -1px;overflow: hidden;padding: 0;position: absolute;width: 1px;}#sk-container-id-5 div.sk-estimator {font-family: monospace;background-color: #f0f8ff;border: 1px dotted black;border-radius: 0.25em;box-sizing: border-box;margin-bottom: 0.5em;}#sk-container-id-5 div.sk-estimator:hover {background-color: #d4ebff;}#sk-container-id-5 div.sk-parallel-item::after {content: \"\";width: 100%;border-bottom: 1px solid gray;flex-grow: 1;}#sk-container-id-5 div.sk-label:hover label.sk-toggleable__label {background-color: #d4ebff;}#sk-container-id-5 div.sk-serial::before {content: \"\";position: absolute;border-left: 1px solid gray;box-sizing: border-box;top: 0;bottom: 0;left: 50%;z-index: 0;}#sk-container-id-5 div.sk-serial {display: flex;flex-direction: column;align-items: center;background-color: white;padding-right: 0.2em;padding-left: 0.2em;position: relative;}#sk-container-id-5 div.sk-item {position: relative;z-index: 1;}#sk-container-id-5 div.sk-parallel {display: flex;align-items: stretch;justify-content: center;background-color: white;position: relative;}#sk-container-id-5 div.sk-item::before, #sk-container-id-5 div.sk-parallel-item::before {content: \"\";position: absolute;border-left: 1px solid gray;box-sizing: border-box;top: 0;bottom: 0;left: 50%;z-index: -1;}#sk-container-id-5 div.sk-parallel-item {display: flex;flex-direction: column;z-index: 1;position: relative;background-color: white;}#sk-container-id-5 div.sk-parallel-item:first-child::after {align-self: flex-end;width: 50%;}#sk-container-id-5 div.sk-parallel-item:last-child::after {align-self: flex-start;width: 50%;}#sk-container-id-5 div.sk-parallel-item:only-child::after {width: 0;}#sk-container-id-5 div.sk-dashed-wrapped {border: 1px dashed gray;margin: 0 0.4em 0.5em 0.4em;box-sizing: border-box;padding-bottom: 0.4em;background-color: white;}#sk-container-id-5 div.sk-label label {font-family: monospace;font-weight: bold;display: inline-block;line-height: 1.2em;}#sk-container-id-5 div.sk-label-container {text-align: center;}#sk-container-id-5 div.sk-container {/* jupyter's `normalize.less` sets `[hidden] { display: none; }` but bootstrap.min.css set `[hidden] { display: none !important; }` so we also need the `!important` here to be able to override the default hidden behavior on the sphinx rendered scikit-learn.org. See: https://github.com/scikit-learn/scikit-learn/issues/21755 */display: inline-block !important;position: relative;}#sk-container-id-5 div.sk-text-repr-fallback {display: none;}</style><div id=\"sk-container-id-5\" class=\"sk-top-container\"><div class=\"sk-text-repr-fallback\"><pre>LogisticRegression()</pre><b>In a Jupyter environment, please rerun this cell to show the HTML representation or trust the notebook. <br />On GitHub, the HTML representation is unable to render, please try loading this page with nbviewer.org.</b></div><div class=\"sk-container\" hidden><div class=\"sk-item\"><div class=\"sk-estimator sk-toggleable\"><input class=\"sk-toggleable__control sk-hidden--visually\" id=\"sk-estimator-id-9\" type=\"checkbox\" checked><label for=\"sk-estimator-id-9\" class=\"sk-toggleable__label sk-toggleable__label-arrow\">LogisticRegression</label><div class=\"sk-toggleable__content\"><pre>LogisticRegression()</pre></div></div></div></div></div>"
      ],
      "text/plain": [
       "LogisticRegression()"
      ]
     },
     "execution_count": 62,
     "metadata": {},
     "output_type": "execute_result"
    }
   ],
   "source": [
    "model2"
   ]
  },
  {
   "cell_type": "code",
   "execution_count": 64,
   "id": "18e55d02-b719-4387-b1c2-4e309834fae3",
   "metadata": {},
   "outputs": [],
   "source": [
    "rsv = RandomizedSearchCV(estimator = model2, param_distributions = params, cv = 5, scoring = 'accuracy')"
   ]
  },
  {
   "cell_type": "code",
   "execution_count": 65,
   "id": "ee120a34-b9a0-400d-9c08-a02c6c63e62b",
   "metadata": {},
   "outputs": [
    {
     "data": {
      "text/html": [
       "<style>#sk-container-id-6 {color: black;background-color: white;}#sk-container-id-6 pre{padding: 0;}#sk-container-id-6 div.sk-toggleable {background-color: white;}#sk-container-id-6 label.sk-toggleable__label {cursor: pointer;display: block;width: 100%;margin-bottom: 0;padding: 0.3em;box-sizing: border-box;text-align: center;}#sk-container-id-6 label.sk-toggleable__label-arrow:before {content: \"▸\";float: left;margin-right: 0.25em;color: #696969;}#sk-container-id-6 label.sk-toggleable__label-arrow:hover:before {color: black;}#sk-container-id-6 div.sk-estimator:hover label.sk-toggleable__label-arrow:before {color: black;}#sk-container-id-6 div.sk-toggleable__content {max-height: 0;max-width: 0;overflow: hidden;text-align: left;background-color: #f0f8ff;}#sk-container-id-6 div.sk-toggleable__content pre {margin: 0.2em;color: black;border-radius: 0.25em;background-color: #f0f8ff;}#sk-container-id-6 input.sk-toggleable__control:checked~div.sk-toggleable__content {max-height: 200px;max-width: 100%;overflow: auto;}#sk-container-id-6 input.sk-toggleable__control:checked~label.sk-toggleable__label-arrow:before {content: \"▾\";}#sk-container-id-6 div.sk-estimator input.sk-toggleable__control:checked~label.sk-toggleable__label {background-color: #d4ebff;}#sk-container-id-6 div.sk-label input.sk-toggleable__control:checked~label.sk-toggleable__label {background-color: #d4ebff;}#sk-container-id-6 input.sk-hidden--visually {border: 0;clip: rect(1px 1px 1px 1px);clip: rect(1px, 1px, 1px, 1px);height: 1px;margin: -1px;overflow: hidden;padding: 0;position: absolute;width: 1px;}#sk-container-id-6 div.sk-estimator {font-family: monospace;background-color: #f0f8ff;border: 1px dotted black;border-radius: 0.25em;box-sizing: border-box;margin-bottom: 0.5em;}#sk-container-id-6 div.sk-estimator:hover {background-color: #d4ebff;}#sk-container-id-6 div.sk-parallel-item::after {content: \"\";width: 100%;border-bottom: 1px solid gray;flex-grow: 1;}#sk-container-id-6 div.sk-label:hover label.sk-toggleable__label {background-color: #d4ebff;}#sk-container-id-6 div.sk-serial::before {content: \"\";position: absolute;border-left: 1px solid gray;box-sizing: border-box;top: 0;bottom: 0;left: 50%;z-index: 0;}#sk-container-id-6 div.sk-serial {display: flex;flex-direction: column;align-items: center;background-color: white;padding-right: 0.2em;padding-left: 0.2em;position: relative;}#sk-container-id-6 div.sk-item {position: relative;z-index: 1;}#sk-container-id-6 div.sk-parallel {display: flex;align-items: stretch;justify-content: center;background-color: white;position: relative;}#sk-container-id-6 div.sk-item::before, #sk-container-id-6 div.sk-parallel-item::before {content: \"\";position: absolute;border-left: 1px solid gray;box-sizing: border-box;top: 0;bottom: 0;left: 50%;z-index: -1;}#sk-container-id-6 div.sk-parallel-item {display: flex;flex-direction: column;z-index: 1;position: relative;background-color: white;}#sk-container-id-6 div.sk-parallel-item:first-child::after {align-self: flex-end;width: 50%;}#sk-container-id-6 div.sk-parallel-item:last-child::after {align-self: flex-start;width: 50%;}#sk-container-id-6 div.sk-parallel-item:only-child::after {width: 0;}#sk-container-id-6 div.sk-dashed-wrapped {border: 1px dashed gray;margin: 0 0.4em 0.5em 0.4em;box-sizing: border-box;padding-bottom: 0.4em;background-color: white;}#sk-container-id-6 div.sk-label label {font-family: monospace;font-weight: bold;display: inline-block;line-height: 1.2em;}#sk-container-id-6 div.sk-label-container {text-align: center;}#sk-container-id-6 div.sk-container {/* jupyter's `normalize.less` sets `[hidden] { display: none; }` but bootstrap.min.css set `[hidden] { display: none !important; }` so we also need the `!important` here to be able to override the default hidden behavior on the sphinx rendered scikit-learn.org. See: https://github.com/scikit-learn/scikit-learn/issues/21755 */display: inline-block !important;position: relative;}#sk-container-id-6 div.sk-text-repr-fallback {display: none;}</style><div id=\"sk-container-id-6\" class=\"sk-top-container\"><div class=\"sk-text-repr-fallback\"><pre>RandomizedSearchCV(cv=5, estimator=LogisticRegression(),\n",
       "                   param_distributions={&#x27;C&#x27;: [1.0, 10.0, 100.0],\n",
       "                                        &#x27;penalty&#x27;: [&#x27;l1&#x27;, &#x27;l2&#x27;, &#x27;elasticnet&#x27;],\n",
       "                                        &#x27;solver&#x27;: [&#x27;lbfgs&#x27;, &#x27;liblinear&#x27;,\n",
       "                                                   &#x27;newton-cg&#x27;,\n",
       "                                                   &#x27;newton-cholesky&#x27;, &#x27;sag&#x27;,\n",
       "                                                   &#x27;saga&#x27;]},\n",
       "                   scoring=&#x27;accuracy&#x27;)</pre><b>In a Jupyter environment, please rerun this cell to show the HTML representation or trust the notebook. <br />On GitHub, the HTML representation is unable to render, please try loading this page with nbviewer.org.</b></div><div class=\"sk-container\" hidden><div class=\"sk-item sk-dashed-wrapped\"><div class=\"sk-label-container\"><div class=\"sk-label sk-toggleable\"><input class=\"sk-toggleable__control sk-hidden--visually\" id=\"sk-estimator-id-10\" type=\"checkbox\" ><label for=\"sk-estimator-id-10\" class=\"sk-toggleable__label sk-toggleable__label-arrow\">RandomizedSearchCV</label><div class=\"sk-toggleable__content\"><pre>RandomizedSearchCV(cv=5, estimator=LogisticRegression(),\n",
       "                   param_distributions={&#x27;C&#x27;: [1.0, 10.0, 100.0],\n",
       "                                        &#x27;penalty&#x27;: [&#x27;l1&#x27;, &#x27;l2&#x27;, &#x27;elasticnet&#x27;],\n",
       "                                        &#x27;solver&#x27;: [&#x27;lbfgs&#x27;, &#x27;liblinear&#x27;,\n",
       "                                                   &#x27;newton-cg&#x27;,\n",
       "                                                   &#x27;newton-cholesky&#x27;, &#x27;sag&#x27;,\n",
       "                                                   &#x27;saga&#x27;]},\n",
       "                   scoring=&#x27;accuracy&#x27;)</pre></div></div></div><div class=\"sk-parallel\"><div class=\"sk-parallel-item\"><div class=\"sk-item\"><div class=\"sk-label-container\"><div class=\"sk-label sk-toggleable\"><input class=\"sk-toggleable__control sk-hidden--visually\" id=\"sk-estimator-id-11\" type=\"checkbox\" ><label for=\"sk-estimator-id-11\" class=\"sk-toggleable__label sk-toggleable__label-arrow\">estimator: LogisticRegression</label><div class=\"sk-toggleable__content\"><pre>LogisticRegression()</pre></div></div></div><div class=\"sk-serial\"><div class=\"sk-item\"><div class=\"sk-estimator sk-toggleable\"><input class=\"sk-toggleable__control sk-hidden--visually\" id=\"sk-estimator-id-12\" type=\"checkbox\" ><label for=\"sk-estimator-id-12\" class=\"sk-toggleable__label sk-toggleable__label-arrow\">LogisticRegression</label><div class=\"sk-toggleable__content\"><pre>LogisticRegression()</pre></div></div></div></div></div></div></div></div></div></div>"
      ],
      "text/plain": [
       "RandomizedSearchCV(cv=5, estimator=LogisticRegression(),\n",
       "                   param_distributions={'C': [1.0, 10.0, 100.0],\n",
       "                                        'penalty': ['l1', 'l2', 'elasticnet'],\n",
       "                                        'solver': ['lbfgs', 'liblinear',\n",
       "                                                   'newton-cg',\n",
       "                                                   'newton-cholesky', 'sag',\n",
       "                                                   'saga']},\n",
       "                   scoring='accuracy')"
      ]
     },
     "execution_count": 65,
     "metadata": {},
     "output_type": "execute_result"
    }
   ],
   "source": [
    "rsv"
   ]
  },
  {
   "cell_type": "code",
   "execution_count": 66,
   "id": "0cfb0b4c-357d-48dc-821c-6c096fc8b363",
   "metadata": {},
   "outputs": [
    {
     "name": "stderr",
     "output_type": "stream",
     "text": [
      "C:\\Users\\saike\\anaconda3\\Lib\\site-packages\\sklearn\\linear_model\\_sag.py:350: ConvergenceWarning: The max_iter was reached which means the coef_ did not converge\n",
      "  warnings.warn(\n",
      "C:\\Users\\saike\\anaconda3\\Lib\\site-packages\\sklearn\\linear_model\\_sag.py:350: ConvergenceWarning: The max_iter was reached which means the coef_ did not converge\n",
      "  warnings.warn(\n",
      "C:\\Users\\saike\\anaconda3\\Lib\\site-packages\\sklearn\\linear_model\\_sag.py:350: ConvergenceWarning: The max_iter was reached which means the coef_ did not converge\n",
      "  warnings.warn(\n",
      "C:\\Users\\saike\\anaconda3\\Lib\\site-packages\\sklearn\\linear_model\\_sag.py:350: ConvergenceWarning: The max_iter was reached which means the coef_ did not converge\n",
      "  warnings.warn(\n",
      "C:\\Users\\saike\\anaconda3\\Lib\\site-packages\\sklearn\\linear_model\\_sag.py:350: ConvergenceWarning: The max_iter was reached which means the coef_ did not converge\n",
      "  warnings.warn(\n",
      "C:\\Users\\saike\\anaconda3\\Lib\\site-packages\\sklearn\\model_selection\\_validation.py:378: FitFailedWarning: \n",
      "35 fits failed out of a total of 50.\n",
      "The score on these train-test partitions for these parameters will be set to nan.\n",
      "If these failures are not expected, you can try to debug them by setting error_score='raise'.\n",
      "\n",
      "Below are more details about the failures:\n",
      "--------------------------------------------------------------------------------\n",
      "5 fits failed with the following error:\n",
      "Traceback (most recent call last):\n",
      "  File \"C:\\Users\\saike\\anaconda3\\Lib\\site-packages\\sklearn\\model_selection\\_validation.py\", line 686, in _fit_and_score\n",
      "    estimator.fit(X_train, y_train, **fit_params)\n",
      "  File \"C:\\Users\\saike\\anaconda3\\Lib\\site-packages\\sklearn\\linear_model\\_logistic.py\", line 1162, in fit\n",
      "    solver = _check_solver(self.solver, self.penalty, self.dual)\n",
      "             ^^^^^^^^^^^^^^^^^^^^^^^^^^^^^^^^^^^^^^^^^^^^^^^^^^^\n",
      "  File \"C:\\Users\\saike\\anaconda3\\Lib\\site-packages\\sklearn\\linear_model\\_logistic.py\", line 54, in _check_solver\n",
      "    raise ValueError(\n",
      "ValueError: Solver newton-cholesky supports only 'l2' or 'none' penalties, got elasticnet penalty.\n",
      "\n",
      "--------------------------------------------------------------------------------\n",
      "5 fits failed with the following error:\n",
      "Traceback (most recent call last):\n",
      "  File \"C:\\Users\\saike\\anaconda3\\Lib\\site-packages\\sklearn\\model_selection\\_validation.py\", line 686, in _fit_and_score\n",
      "    estimator.fit(X_train, y_train, **fit_params)\n",
      "  File \"C:\\Users\\saike\\anaconda3\\Lib\\site-packages\\sklearn\\linear_model\\_logistic.py\", line 1162, in fit\n",
      "    solver = _check_solver(self.solver, self.penalty, self.dual)\n",
      "             ^^^^^^^^^^^^^^^^^^^^^^^^^^^^^^^^^^^^^^^^^^^^^^^^^^^\n",
      "  File \"C:\\Users\\saike\\anaconda3\\Lib\\site-packages\\sklearn\\linear_model\\_logistic.py\", line 54, in _check_solver\n",
      "    raise ValueError(\n",
      "ValueError: Solver lbfgs supports only 'l2' or 'none' penalties, got l1 penalty.\n",
      "\n",
      "--------------------------------------------------------------------------------\n",
      "5 fits failed with the following error:\n",
      "Traceback (most recent call last):\n",
      "  File \"C:\\Users\\saike\\anaconda3\\Lib\\site-packages\\sklearn\\model_selection\\_validation.py\", line 686, in _fit_and_score\n",
      "    estimator.fit(X_train, y_train, **fit_params)\n",
      "  File \"C:\\Users\\saike\\anaconda3\\Lib\\site-packages\\sklearn\\linear_model\\_logistic.py\", line 1162, in fit\n",
      "    solver = _check_solver(self.solver, self.penalty, self.dual)\n",
      "             ^^^^^^^^^^^^^^^^^^^^^^^^^^^^^^^^^^^^^^^^^^^^^^^^^^^\n",
      "  File \"C:\\Users\\saike\\anaconda3\\Lib\\site-packages\\sklearn\\linear_model\\_logistic.py\", line 54, in _check_solver\n",
      "    raise ValueError(\n",
      "ValueError: Solver sag supports only 'l2' or 'none' penalties, got elasticnet penalty.\n",
      "\n",
      "--------------------------------------------------------------------------------\n",
      "5 fits failed with the following error:\n",
      "Traceback (most recent call last):\n",
      "  File \"C:\\Users\\saike\\anaconda3\\Lib\\site-packages\\sklearn\\model_selection\\_validation.py\", line 686, in _fit_and_score\n",
      "    estimator.fit(X_train, y_train, **fit_params)\n",
      "  File \"C:\\Users\\saike\\anaconda3\\Lib\\site-packages\\sklearn\\linear_model\\_logistic.py\", line 1162, in fit\n",
      "    solver = _check_solver(self.solver, self.penalty, self.dual)\n",
      "             ^^^^^^^^^^^^^^^^^^^^^^^^^^^^^^^^^^^^^^^^^^^^^^^^^^^\n",
      "  File \"C:\\Users\\saike\\anaconda3\\Lib\\site-packages\\sklearn\\linear_model\\_logistic.py\", line 54, in _check_solver\n",
      "    raise ValueError(\n",
      "ValueError: Solver newton-cg supports only 'l2' or 'none' penalties, got elasticnet penalty.\n",
      "\n",
      "--------------------------------------------------------------------------------\n",
      "10 fits failed with the following error:\n",
      "Traceback (most recent call last):\n",
      "  File \"C:\\Users\\saike\\anaconda3\\Lib\\site-packages\\sklearn\\model_selection\\_validation.py\", line 686, in _fit_and_score\n",
      "    estimator.fit(X_train, y_train, **fit_params)\n",
      "  File \"C:\\Users\\saike\\anaconda3\\Lib\\site-packages\\sklearn\\linear_model\\_logistic.py\", line 1162, in fit\n",
      "    solver = _check_solver(self.solver, self.penalty, self.dual)\n",
      "             ^^^^^^^^^^^^^^^^^^^^^^^^^^^^^^^^^^^^^^^^^^^^^^^^^^^\n",
      "  File \"C:\\Users\\saike\\anaconda3\\Lib\\site-packages\\sklearn\\linear_model\\_logistic.py\", line 64, in _check_solver\n",
      "    raise ValueError(\n",
      "ValueError: Only 'saga' solver supports elasticnet penalty, got solver=liblinear.\n",
      "\n",
      "--------------------------------------------------------------------------------\n",
      "5 fits failed with the following error:\n",
      "Traceback (most recent call last):\n",
      "  File \"C:\\Users\\saike\\anaconda3\\Lib\\site-packages\\sklearn\\model_selection\\_validation.py\", line 686, in _fit_and_score\n",
      "    estimator.fit(X_train, y_train, **fit_params)\n",
      "  File \"C:\\Users\\saike\\anaconda3\\Lib\\site-packages\\sklearn\\linear_model\\_logistic.py\", line 1162, in fit\n",
      "    solver = _check_solver(self.solver, self.penalty, self.dual)\n",
      "             ^^^^^^^^^^^^^^^^^^^^^^^^^^^^^^^^^^^^^^^^^^^^^^^^^^^\n",
      "  File \"C:\\Users\\saike\\anaconda3\\Lib\\site-packages\\sklearn\\linear_model\\_logistic.py\", line 54, in _check_solver\n",
      "    raise ValueError(\n",
      "ValueError: Solver newton-cholesky supports only 'l2' or 'none' penalties, got l1 penalty.\n",
      "\n",
      "  warnings.warn(some_fits_failed_message, FitFailedWarning)\n",
      "C:\\Users\\saike\\anaconda3\\Lib\\site-packages\\sklearn\\model_selection\\_search.py:952: UserWarning: One or more of the test scores are non-finite: [   nan    nan    nan 0.875     nan    nan    nan 0.9125    nan 0.875 ]\n",
      "  warnings.warn(\n",
      "C:\\Users\\saike\\anaconda3\\Lib\\site-packages\\sklearn\\linear_model\\_sag.py:350: ConvergenceWarning: The max_iter was reached which means the coef_ did not converge\n",
      "  warnings.warn(\n"
     ]
    }
   ],
   "source": [
    "model3 = rsv.fit(X_train, y_train)"
   ]
  },
  {
   "cell_type": "code",
   "execution_count": 67,
   "id": "c5750425-1dac-4d2b-ab91-191e9c12f07d",
   "metadata": {},
   "outputs": [
    {
     "data": {
      "text/html": [
       "<style>#sk-container-id-7 {color: black;background-color: white;}#sk-container-id-7 pre{padding: 0;}#sk-container-id-7 div.sk-toggleable {background-color: white;}#sk-container-id-7 label.sk-toggleable__label {cursor: pointer;display: block;width: 100%;margin-bottom: 0;padding: 0.3em;box-sizing: border-box;text-align: center;}#sk-container-id-7 label.sk-toggleable__label-arrow:before {content: \"▸\";float: left;margin-right: 0.25em;color: #696969;}#sk-container-id-7 label.sk-toggleable__label-arrow:hover:before {color: black;}#sk-container-id-7 div.sk-estimator:hover label.sk-toggleable__label-arrow:before {color: black;}#sk-container-id-7 div.sk-toggleable__content {max-height: 0;max-width: 0;overflow: hidden;text-align: left;background-color: #f0f8ff;}#sk-container-id-7 div.sk-toggleable__content pre {margin: 0.2em;color: black;border-radius: 0.25em;background-color: #f0f8ff;}#sk-container-id-7 input.sk-toggleable__control:checked~div.sk-toggleable__content {max-height: 200px;max-width: 100%;overflow: auto;}#sk-container-id-7 input.sk-toggleable__control:checked~label.sk-toggleable__label-arrow:before {content: \"▾\";}#sk-container-id-7 div.sk-estimator input.sk-toggleable__control:checked~label.sk-toggleable__label {background-color: #d4ebff;}#sk-container-id-7 div.sk-label input.sk-toggleable__control:checked~label.sk-toggleable__label {background-color: #d4ebff;}#sk-container-id-7 input.sk-hidden--visually {border: 0;clip: rect(1px 1px 1px 1px);clip: rect(1px, 1px, 1px, 1px);height: 1px;margin: -1px;overflow: hidden;padding: 0;position: absolute;width: 1px;}#sk-container-id-7 div.sk-estimator {font-family: monospace;background-color: #f0f8ff;border: 1px dotted black;border-radius: 0.25em;box-sizing: border-box;margin-bottom: 0.5em;}#sk-container-id-7 div.sk-estimator:hover {background-color: #d4ebff;}#sk-container-id-7 div.sk-parallel-item::after {content: \"\";width: 100%;border-bottom: 1px solid gray;flex-grow: 1;}#sk-container-id-7 div.sk-label:hover label.sk-toggleable__label {background-color: #d4ebff;}#sk-container-id-7 div.sk-serial::before {content: \"\";position: absolute;border-left: 1px solid gray;box-sizing: border-box;top: 0;bottom: 0;left: 50%;z-index: 0;}#sk-container-id-7 div.sk-serial {display: flex;flex-direction: column;align-items: center;background-color: white;padding-right: 0.2em;padding-left: 0.2em;position: relative;}#sk-container-id-7 div.sk-item {position: relative;z-index: 1;}#sk-container-id-7 div.sk-parallel {display: flex;align-items: stretch;justify-content: center;background-color: white;position: relative;}#sk-container-id-7 div.sk-item::before, #sk-container-id-7 div.sk-parallel-item::before {content: \"\";position: absolute;border-left: 1px solid gray;box-sizing: border-box;top: 0;bottom: 0;left: 50%;z-index: -1;}#sk-container-id-7 div.sk-parallel-item {display: flex;flex-direction: column;z-index: 1;position: relative;background-color: white;}#sk-container-id-7 div.sk-parallel-item:first-child::after {align-self: flex-end;width: 50%;}#sk-container-id-7 div.sk-parallel-item:last-child::after {align-self: flex-start;width: 50%;}#sk-container-id-7 div.sk-parallel-item:only-child::after {width: 0;}#sk-container-id-7 div.sk-dashed-wrapped {border: 1px dashed gray;margin: 0 0.4em 0.5em 0.4em;box-sizing: border-box;padding-bottom: 0.4em;background-color: white;}#sk-container-id-7 div.sk-label label {font-family: monospace;font-weight: bold;display: inline-block;line-height: 1.2em;}#sk-container-id-7 div.sk-label-container {text-align: center;}#sk-container-id-7 div.sk-container {/* jupyter's `normalize.less` sets `[hidden] { display: none; }` but bootstrap.min.css set `[hidden] { display: none !important; }` so we also need the `!important` here to be able to override the default hidden behavior on the sphinx rendered scikit-learn.org. See: https://github.com/scikit-learn/scikit-learn/issues/21755 */display: inline-block !important;position: relative;}#sk-container-id-7 div.sk-text-repr-fallback {display: none;}</style><div id=\"sk-container-id-7\" class=\"sk-top-container\"><div class=\"sk-text-repr-fallback\"><pre>RandomizedSearchCV(cv=5, estimator=LogisticRegression(),\n",
       "                   param_distributions={&#x27;C&#x27;: [1.0, 10.0, 100.0],\n",
       "                                        &#x27;penalty&#x27;: [&#x27;l1&#x27;, &#x27;l2&#x27;, &#x27;elasticnet&#x27;],\n",
       "                                        &#x27;solver&#x27;: [&#x27;lbfgs&#x27;, &#x27;liblinear&#x27;,\n",
       "                                                   &#x27;newton-cg&#x27;,\n",
       "                                                   &#x27;newton-cholesky&#x27;, &#x27;sag&#x27;,\n",
       "                                                   &#x27;saga&#x27;]},\n",
       "                   scoring=&#x27;accuracy&#x27;)</pre><b>In a Jupyter environment, please rerun this cell to show the HTML representation or trust the notebook. <br />On GitHub, the HTML representation is unable to render, please try loading this page with nbviewer.org.</b></div><div class=\"sk-container\" hidden><div class=\"sk-item sk-dashed-wrapped\"><div class=\"sk-label-container\"><div class=\"sk-label sk-toggleable\"><input class=\"sk-toggleable__control sk-hidden--visually\" id=\"sk-estimator-id-13\" type=\"checkbox\" ><label for=\"sk-estimator-id-13\" class=\"sk-toggleable__label sk-toggleable__label-arrow\">RandomizedSearchCV</label><div class=\"sk-toggleable__content\"><pre>RandomizedSearchCV(cv=5, estimator=LogisticRegression(),\n",
       "                   param_distributions={&#x27;C&#x27;: [1.0, 10.0, 100.0],\n",
       "                                        &#x27;penalty&#x27;: [&#x27;l1&#x27;, &#x27;l2&#x27;, &#x27;elasticnet&#x27;],\n",
       "                                        &#x27;solver&#x27;: [&#x27;lbfgs&#x27;, &#x27;liblinear&#x27;,\n",
       "                                                   &#x27;newton-cg&#x27;,\n",
       "                                                   &#x27;newton-cholesky&#x27;, &#x27;sag&#x27;,\n",
       "                                                   &#x27;saga&#x27;]},\n",
       "                   scoring=&#x27;accuracy&#x27;)</pre></div></div></div><div class=\"sk-parallel\"><div class=\"sk-parallel-item\"><div class=\"sk-item\"><div class=\"sk-label-container\"><div class=\"sk-label sk-toggleable\"><input class=\"sk-toggleable__control sk-hidden--visually\" id=\"sk-estimator-id-14\" type=\"checkbox\" ><label for=\"sk-estimator-id-14\" class=\"sk-toggleable__label sk-toggleable__label-arrow\">estimator: LogisticRegression</label><div class=\"sk-toggleable__content\"><pre>LogisticRegression()</pre></div></div></div><div class=\"sk-serial\"><div class=\"sk-item\"><div class=\"sk-estimator sk-toggleable\"><input class=\"sk-toggleable__control sk-hidden--visually\" id=\"sk-estimator-id-15\" type=\"checkbox\" ><label for=\"sk-estimator-id-15\" class=\"sk-toggleable__label sk-toggleable__label-arrow\">LogisticRegression</label><div class=\"sk-toggleable__content\"><pre>LogisticRegression()</pre></div></div></div></div></div></div></div></div></div></div>"
      ],
      "text/plain": [
       "RandomizedSearchCV(cv=5, estimator=LogisticRegression(),\n",
       "                   param_distributions={'C': [1.0, 10.0, 100.0],\n",
       "                                        'penalty': ['l1', 'l2', 'elasticnet'],\n",
       "                                        'solver': ['lbfgs', 'liblinear',\n",
       "                                                   'newton-cg',\n",
       "                                                   'newton-cholesky', 'sag',\n",
       "                                                   'saga']},\n",
       "                   scoring='accuracy')"
      ]
     },
     "execution_count": 67,
     "metadata": {},
     "output_type": "execute_result"
    }
   ],
   "source": [
    "model3"
   ]
  },
  {
   "cell_type": "code",
   "execution_count": 69,
   "id": "d057f490-7abe-41c5-94bf-32f3093a428f",
   "metadata": {},
   "outputs": [],
   "source": [
    "y_pred2 = model3.predict(X_test)"
   ]
  },
  {
   "cell_type": "code",
   "execution_count": 70,
   "id": "3f84107b-2f6d-40d7-9615-b8fb5d28f913",
   "metadata": {},
   "outputs": [
    {
     "data": {
      "text/plain": [
       "array([0, 0, 0, 1, 1, 0, 0, 0, 0, 0, 1, 1, 1, 1, 1, 0, 1, 0, 0, 0])"
      ]
     },
     "execution_count": 70,
     "metadata": {},
     "output_type": "execute_result"
    }
   ],
   "source": [
    "y_pred2"
   ]
  },
  {
   "cell_type": "code",
   "execution_count": 71,
   "id": "64027a9a-7935-4f17-9ecb-dff7bd6a3398",
   "metadata": {},
   "outputs": [
    {
     "data": {
      "text/plain": [
       "(array([0, 0, 0, 1, 1, 0, 0, 0, 0, 0, 1, 1, 1, 1, 1, 0, 1, 0, 0, 0]),\n",
       " array([0, 0, 0, 1, 1, 0, 0, 0, 0, 0, 1, 1, 1, 1, 1, 0, 1, 0, 0, 0]))"
      ]
     },
     "execution_count": 71,
     "metadata": {},
     "output_type": "execute_result"
    }
   ],
   "source": [
    "y_test, y_pred2"
   ]
  },
  {
   "cell_type": "code",
   "execution_count": 72,
   "id": "de35d17d-07e5-4daf-815b-dd7399503718",
   "metadata": {},
   "outputs": [
    {
     "name": "stdout",
     "output_type": "stream",
     "text": [
      "1.0\n",
      "[[12  0]\n",
      " [ 0  8]]\n",
      "              precision    recall  f1-score   support\n",
      "\n",
      "           0       1.00      1.00      1.00        12\n",
      "           1       1.00      1.00      1.00         8\n",
      "\n",
      "    accuracy                           1.00        20\n",
      "   macro avg       1.00      1.00      1.00        20\n",
      "weighted avg       1.00      1.00      1.00        20\n",
      "\n"
     ]
    }
   ],
   "source": [
    "from sklearn.metrics import accuracy_score, confusion_matrix, classification_report\n",
    "\n",
    "print(accuracy_score(y_test,y_pred2))\n",
    "\n",
    "print(confusion_matrix(y_test,y_pred2))\n",
    "\n",
    "print(classification_report(y_test,y_pred2))"
   ]
  },
  {
   "cell_type": "code",
   "execution_count": 73,
   "id": "42cae207-0ca9-4552-aceb-176b347880a7",
   "metadata": {},
   "outputs": [
    {
     "data": {
      "text/plain": [
       "{'solver': 'saga', 'penalty': 'l2', 'C': 10.0}"
      ]
     },
     "execution_count": 73,
     "metadata": {},
     "output_type": "execute_result"
    }
   ],
   "source": [
    "model3.best_params_"
   ]
  },
  {
   "cell_type": "code",
   "execution_count": 74,
   "id": "772a6323-bd04-4f15-b738-ecda8f4729df",
   "metadata": {},
   "outputs": [
    {
     "data": {
      "text/plain": [
       "0.9125"
      ]
     },
     "execution_count": 74,
     "metadata": {},
     "output_type": "execute_result"
    }
   ],
   "source": [
    "model3.best_score_"
   ]
  },
  {
   "cell_type": "markdown",
   "id": "975f9502-7d7b-419c-a80b-eed30471fe69",
   "metadata": {},
   "source": [
    "# Multiclass Logistic Regression"
   ]
  },
  {
   "cell_type": "code",
   "execution_count": 75,
   "id": "4aaf7df0-75a7-4a12-8671-d898098f57db",
   "metadata": {},
   "outputs": [],
   "source": [
    "X, y = make_classification(n_samples=100,\n",
    "    n_features=10,\n",
    "    n_informative=4,\n",
    "    n_classes=3,\n",
    "    n_clusters_per_class=3,\n",
    "    )"
   ]
  },
  {
   "cell_type": "code",
   "execution_count": 76,
   "id": "c84fe70e-c09b-4e9b-a1b0-ba65d1bacb93",
   "metadata": {},
   "outputs": [
    {
     "data": {
      "text/plain": [
       "(100, 10)"
      ]
     },
     "execution_count": 76,
     "metadata": {},
     "output_type": "execute_result"
    }
   ],
   "source": [
    "X.shape"
   ]
  },
  {
   "cell_type": "code",
   "execution_count": 77,
   "id": "65606cb0-969f-4219-a90b-42bb8620e4e6",
   "metadata": {},
   "outputs": [
    {
     "data": {
      "text/plain": [
       "array([[-9.52794922e-01, -1.11583836e+00,  1.07069659e+00,\n",
       "        -1.62644864e+00, -1.65875637e+00, -4.02145780e-01,\n",
       "        -2.17740064e-01, -1.01055100e+00, -2.06520447e-01,\n",
       "        -9.06757542e-02],\n",
       "       [-3.23672659e-02, -7.48825717e-01,  2.65309733e-02,\n",
       "         5.04365340e-01, -4.68399257e-01,  1.32825967e-01,\n",
       "        -8.90155560e-01, -3.79257939e-02,  8.00410360e-01,\n",
       "        -9.21532053e-01],\n",
       "       [-2.44658083e-01,  1.41389449e+00, -4.46399968e-01,\n",
       "        -7.32696691e-01,  1.39383695e+00, -2.08316300e-01,\n",
       "         1.47411546e+00, -1.95388166e+00,  7.92807010e-01,\n",
       "         2.43906082e+00],\n",
       "       [ 1.02811430e+00,  1.48659919e+00, -1.25444304e-01,\n",
       "        -1.43710370e-01,  1.19383502e+00, -2.15507781e-01,\n",
       "         1.07215883e+00,  2.65060980e-01, -1.85889795e+00,\n",
       "        -1.61177586e+00],\n",
       "       [-6.37255156e-01, -2.90331058e+00,  3.72437698e-01,\n",
       "         3.84095943e+00, -4.99665997e-01,  1.83737593e+00,\n",
       "        -2.87128240e+00,  7.00667650e-01, -1.67436429e+00,\n",
       "         4.82952463e-01],\n",
       "       [ 6.65975612e-02, -2.85946143e-01, -3.29723527e-01,\n",
       "         1.23850447e+00,  1.46841746e+00,  2.01556034e+00,\n",
       "         2.08270736e+00,  4.49569393e-02, -1.37946736e+00,\n",
       "        -2.15658757e+00],\n",
       "       [-1.12783892e+00, -2.02237793e+00,  1.87085064e-01,\n",
       "        -1.32337259e+00, -2.12336021e+00,  1.63070358e-01,\n",
       "        -3.04298493e-01, -6.89493807e-01,  1.26485130e+00,\n",
       "         6.64262464e-02],\n",
       "       [-1.34799953e+00,  6.24980361e-01,  8.85224891e-01,\n",
       "        -1.23338776e+00,  4.94090139e-01,  3.26927476e-01,\n",
       "         2.22754082e+00, -2.75739215e-01,  3.19430926e-01,\n",
       "        -1.62915040e+00],\n",
       "       [-2.81218073e-02, -5.41162787e+00, -6.12484484e-01,\n",
       "         3.81059744e+00, -1.67470634e+00,  3.32600335e+00,\n",
       "        -2.52760518e+00, -5.51423130e-01, -9.54991024e-02,\n",
       "         1.03380582e+00],\n",
       "       [-5.24262426e-01, -9.31889174e-01, -2.19969366e-01,\n",
       "         1.09954229e+00, -4.34850103e-01,  8.69913031e-01,\n",
       "        -2.37290106e-01,  2.30271442e+00, -9.51276578e-01,\n",
       "         2.81255784e+00],\n",
       "       [-8.58329670e-01, -1.89147278e+00, -5.12565392e-01,\n",
       "         9.37561216e-01, -2.03091803e+00, -2.86079496e-01,\n",
       "        -2.94776067e+00,  1.48445745e+00,  9.43742263e-01,\n",
       "        -7.94593661e-01],\n",
       "       [ 5.51713792e-01,  1.12947554e-01, -1.56164357e+00,\n",
       "         2.23805315e+00,  1.46787915e+00,  4.43009934e-01,\n",
       "        -1.25639035e+00, -1.74373480e+00, -3.59383012e-01,\n",
       "        -3.33659643e-02],\n",
       "       [ 4.33338525e-01, -3.42358702e+00, -7.56149354e-01,\n",
       "         1.79867096e+00, -1.43350970e+00,  1.61078943e+00,\n",
       "        -1.91596674e+00, -1.09983339e+00, -8.84210843e-01,\n",
       "        -5.78315778e-01],\n",
       "       [-1.10263878e+00, -1.02088460e+00, -1.71645134e+00,\n",
       "         3.64633600e-01, -2.06291278e-01,  5.05144610e-01,\n",
       "        -4.20761190e-01, -1.59972175e+00, -2.95986505e-02,\n",
       "         3.73430994e-01],\n",
       "       [ 1.25886854e+00, -2.37155487e-01, -6.15640913e-01,\n",
       "         2.05070023e+00,  1.32600879e+00,  1.49873355e+00,\n",
       "         5.11407321e-01,  5.14203312e-01,  8.83291265e-01,\n",
       "         7.06530020e-01],\n",
       "       [-4.01676777e-01,  1.87981598e+00, -1.52074151e+00,\n",
       "         4.71351581e-01,  2.57313250e+00,  5.41132152e-01,\n",
       "         2.09796793e+00, -1.17649624e+00,  6.45840483e-01,\n",
       "         7.05890513e-01],\n",
       "       [ 3.83616469e-03, -2.29581466e+00,  3.50494815e-01,\n",
       "         2.35769484e+00,  5.33116916e-02,  1.95029943e+00,\n",
       "        -8.55313105e-01, -1.04824279e+00,  2.12299727e-01,\n",
       "        -3.67225644e+00],\n",
       "       [ 1.07452110e+00,  2.94254993e+00, -5.76960882e-01,\n",
       "        -2.76910262e+00, -7.69038347e-03, -2.55571073e+00,\n",
       "         7.64905575e-01,  1.24997044e+00,  1.08448158e+00,\n",
       "        -1.11412486e+00],\n",
       "       [ 8.33450468e-01, -1.84236661e+00,  1.29294720e-01,\n",
       "         6.15147885e-01, -1.63441998e+00,  9.29973379e-01,\n",
       "        -4.47755436e-01,  3.31937760e+00,  2.89699887e-01,\n",
       "        -5.74568218e-01],\n",
       "       [-3.66521708e-01, -2.36109641e+00,  2.18403373e-01,\n",
       "         1.37147741e+00, -8.89223551e-01,  1.23018609e+00,\n",
       "        -1.23190865e+00, -6.47327004e-01, -3.22251687e-01,\n",
       "        -6.48817838e-01],\n",
       "       [-1.46533942e-01, -2.01102231e+00,  6.23349128e-01,\n",
       "        -1.33604625e+00, -2.11605184e+00,  6.25649903e-01,\n",
       "         5.72243139e-01,  8.50270760e-01,  2.84372220e-01,\n",
       "         7.56049487e-01],\n",
       "       [ 7.42703659e-01,  2.87563483e+00,  7.51846133e-01,\n",
       "        -1.54442018e+00,  2.05823755e+00, -8.49137697e-01,\n",
       "         2.40634107e+00, -1.65335609e+00,  1.07351739e+00,\n",
       "        -1.05577935e+00],\n",
       "       [-4.11898636e-01, -1.12987097e+00, -5.90281886e-01,\n",
       "         4.59694707e+00,  2.34360908e+00,  3.19554945e+00,\n",
       "         3.29125256e-01,  8.51105347e-01,  4.56396595e-01,\n",
       "         6.20109607e-01],\n",
       "       [ 2.62335198e-01, -9.23094881e-01, -7.44639222e-01,\n",
       "         3.94069751e+00,  2.04392696e+00,  2.69317695e+00,\n",
       "         2.38309591e-01,  6.20661553e-01,  8.99426005e-01,\n",
       "         6.34190273e-01],\n",
       "       [-3.30178337e-01,  2.98663995e+00, -4.44414142e-01,\n",
       "        -5.52591182e-01,  2.71540949e+00, -7.28569259e-01,\n",
       "         1.77283914e+00, -2.42097640e+00,  1.15415791e+00,\n",
       "        -2.96022325e-01],\n",
       "       [ 1.36041255e+00, -9.30695596e-01, -3.98581404e-03,\n",
       "        -2.19500304e+00, -1.70001095e+00,  1.01741605e-01,\n",
       "         1.40418361e+00,  8.72681996e-01,  1.16153468e+00,\n",
       "        -2.18354578e+00],\n",
       "       [ 1.37204337e-01,  2.42628604e+00, -1.15471099e-01,\n",
       "        -2.41869436e+00, -8.38262062e-02, -2.22953715e+00,\n",
       "         5.35439311e-01,  7.95032435e-01, -2.55875379e-02,\n",
       "         2.28455189e-01],\n",
       "       [-3.72206127e-01, -4.53714213e-01, -5.70036660e-01,\n",
       "        -1.71553316e+00, -1.22263472e+00, -2.36284217e-01,\n",
       "         7.83516002e-01,  4.11652355e-01, -1.05281414e+00,\n",
       "         3.83610594e-01],\n",
       "       [ 1.72057700e+00, -3.26379892e+00,  1.84667610e+00,\n",
       "         1.43623566e+00, -9.46510264e-01,  2.87936332e+00,\n",
       "         8.15383597e-01,  9.29904865e-01,  2.07905553e+00,\n",
       "         1.44583238e+00],\n",
       "       [ 1.03071433e+00, -1.99523651e+00, -1.04655891e+00,\n",
       "         2.47178399e+00,  9.49242398e-02,  2.03257092e+00,\n",
       "        -4.90238492e-01,  6.29556215e-01, -3.14594657e-01,\n",
       "        -2.00673523e+00],\n",
       "       [-1.27952234e+00, -1.30403435e+00, -6.56495696e-01,\n",
       "         2.35383816e+00,  2.43129883e-01,  1.54392185e+00,\n",
       "        -5.88342352e-01,  1.38179556e+00, -1.92646046e+00,\n",
       "         1.33873640e+00],\n",
       "       [ 6.93277611e-01, -2.05076685e+00,  1.00935969e+00,\n",
       "         8.21070605e-01, -2.13952269e+00,  6.47805824e-02,\n",
       "        -2.34763266e+00,  2.24878866e+00,  1.68611924e-01,\n",
       "        -1.19900251e+00],\n",
       "       [ 2.14856405e-02, -2.03274237e+00,  9.41078901e-01,\n",
       "         2.30220354e+00, -6.48772292e-01,  1.48833749e+00,\n",
       "        -1.24891447e+00,  2.03505915e+00,  1.16313291e+00,\n",
       "         1.29888608e+00],\n",
       "       [-4.92834920e-01,  3.06552693e+00, -6.74841942e-01,\n",
       "        -2.83241726e+00,  9.10170809e-01, -1.76206139e+00,\n",
       "         2.24119787e+00, -1.35256580e-01,  3.50687571e-01,\n",
       "         9.08965482e-01],\n",
       "       [-2.39097026e+00,  2.34374179e+00, -1.50788385e+00,\n",
       "        -5.02981782e-01,  5.01064462e-01, -1.84339023e+00,\n",
       "        -5.88890230e-01,  1.77705549e+00, -6.03530163e-01,\n",
       "         5.48505986e-02],\n",
       "       [-1.38082315e+00,  2.02906071e+00, -4.96149705e-01,\n",
       "        -1.11833119e+00,  1.47821290e+00,  1.25090873e-01,\n",
       "         3.05617027e+00,  1.07471222e+00,  5.45235006e-01,\n",
       "         1.08610164e+00],\n",
       "       [-1.84081711e-01,  3.29614201e+00, -2.43189341e-01,\n",
       "        -1.50999011e+00,  1.85644037e+00, -1.01760799e+00,\n",
       "         2.54965186e+00,  8.34837466e-01,  5.53854330e-01,\n",
       "        -9.35809817e-02],\n",
       "       [-2.59006067e+00,  4.31267531e-01,  5.07071498e-01,\n",
       "         3.60973315e+00,  2.10193998e+00,  7.86558147e-01,\n",
       "        -1.57857611e+00, -7.88063389e-02, -3.95456676e-01,\n",
       "         8.99064428e-01],\n",
       "       [-4.84106101e-01, -4.39710315e+00,  5.00077721e-01,\n",
       "         5.54367000e-01, -2.19951799e+00,  1.95143646e+00,\n",
       "        -1.10723084e+00, -2.75935890e+00, -6.92281548e-01,\n",
       "         2.12787992e+00],\n",
       "       [-5.34338771e-01, -2.99035693e+00, -7.38358598e-01,\n",
       "         6.88349940e-01, -1.03361158e+00,  2.37340156e+00,\n",
       "         8.26398401e-01, -1.83105250e-01, -6.51197901e-01,\n",
       "        -2.37850419e+00],\n",
       "       [ 2.00103076e+00, -7.96641533e-01, -4.28590382e-01,\n",
       "         4.97756137e+00,  2.70121342e+00,  2.67516749e+00,\n",
       "        -6.73526850e-01, -4.65912214e-01,  2.68398234e+00,\n",
       "         1.27389982e+00],\n",
       "       [ 5.92416777e-02, -1.67699591e+00, -3.44967173e-01,\n",
       "         3.64467831e+00,  1.27941460e+00,  2.80874831e+00,\n",
       "         5.21715357e-02,  7.18719759e-01,  5.06517350e-01,\n",
       "         1.64883316e+00],\n",
       "       [-2.25691160e-02, -1.83972448e+00, -7.59562008e-01,\n",
       "         1.02840622e-01, -2.04702569e+00,  6.78557736e-01,\n",
       "        -3.92616417e-01,  3.73143924e+00, -3.60246428e-02,\n",
       "         9.95212664e-01],\n",
       "       [ 1.42278061e+00,  1.41936260e+00,  8.68971277e-01,\n",
       "         2.46582901e-01,  5.17431681e-01, -1.13006879e+00,\n",
       "        -8.94400703e-01,  8.31030427e-01, -1.03789034e+00,\n",
       "        -1.32608366e+00],\n",
       "       [ 1.19982992e+00,  1.94079181e+00, -6.64578572e-02,\n",
       "         3.85630580e+00,  2.98970029e+00, -9.57940605e-01,\n",
       "        -3.58386582e+00, -2.68813693e+00, -6.29721778e-01,\n",
       "         3.36448423e-01],\n",
       "       [ 7.21466798e-01,  3.87298839e+00,  3.80131827e-01,\n",
       "        -2.63653590e+00,  9.76006603e-01, -2.82499682e+00,\n",
       "         9.51995143e-01,  1.48766535e-01, -7.88085254e-01,\n",
       "         8.73631706e-01],\n",
       "       [-1.62925510e+00, -2.40056707e+00, -3.85209435e-01,\n",
       "         1.12998897e+00, -6.50148703e-01,  1.93276596e+00,\n",
       "         1.85909801e-01, -4.50658202e-02, -3.31795381e-02,\n",
       "        -2.00677864e-01],\n",
       "       [-1.25986557e-02,  1.61952437e+00,  6.30075430e-01,\n",
       "        -2.10348924e+00, -5.91230737e-01, -2.30808084e+00,\n",
       "        -6.37544508e-01, -3.24145324e-01,  1.32268122e+00,\n",
       "        -2.35331655e-01],\n",
       "       [ 3.63898850e+00, -6.08672443e-01,  7.75423972e-01,\n",
       "         5.70324408e-02, -4.07244630e-01, -6.01684291e-02,\n",
       "        -7.27330169e-01, -1.00719744e+00, -4.23192640e-01,\n",
       "         6.19098313e-01],\n",
       "       [ 3.61660435e-01, -9.51348703e-01,  8.40999770e-02,\n",
       "         2.32753228e+00,  7.91614977e-01,  1.20726145e+00,\n",
       "        -9.19080296e-01, -8.00098650e-01,  5.60277869e-01,\n",
       "        -6.08226015e-01],\n",
       "       [-1.24218348e-01,  7.63413999e-01,  8.36598336e-01,\n",
       "         2.10596197e-02,  1.47364419e+00,  1.15615928e+00,\n",
       "         2.64681546e+00,  2.68629914e-01,  1.38911912e+00,\n",
       "         8.64598871e-01],\n",
       "       [ 8.78506996e-02,  1.30785194e+00,  1.23666349e+00,\n",
       "        -1.27253663e+00,  1.39707250e-01, -1.20044133e+00,\n",
       "         2.29115612e-01, -4.28531088e-01,  3.31839619e-01,\n",
       "        -5.98556372e-01],\n",
       "       [ 9.77845069e-01, -3.25304673e-01, -5.91615808e-01,\n",
       "         3.93107094e+00,  1.62901427e+00,  9.05394292e-01,\n",
       "        -2.34535010e+00, -4.61452519e-01,  2.72424015e-02,\n",
       "        -7.42034767e-01],\n",
       "       [ 5.95425331e-01,  7.84169700e-01,  3.67333724e-02,\n",
       "        -1.19926305e+00,  1.58435146e-01, -3.55497595e-01,\n",
       "         1.16970075e+00, -8.64343747e-02,  1.53293438e-01,\n",
       "         3.30270089e-01],\n",
       "       [ 1.35166299e+00, -4.92281080e-01, -2.80299326e+00,\n",
       "         2.27492576e+00,  1.27308867e+00,  1.91438967e+00,\n",
       "         8.27620421e-01,  1.29161595e+00,  1.66018908e+00,\n",
       "         3.07640176e-02],\n",
       "       [ 7.06722445e-01,  2.23035482e+00, -2.19300069e+00,\n",
       "         3.00352384e+00,  3.16767822e+00, -2.21854385e-01,\n",
       "        -1.22075613e+00, -1.05304337e+00,  1.21775823e+00,\n",
       "         1.64902825e-01],\n",
       "       [-7.74396230e-01,  3.32883414e+00, -1.03204909e+00,\n",
       "        -3.01777543e+00,  2.84899883e-01, -2.29815387e+00,\n",
       "         1.80725913e+00,  2.12298141e+00, -1.50443465e+00,\n",
       "        -1.14909917e+00],\n",
       "       [-1.76259453e-01, -7.98722738e-01,  5.36989011e-01,\n",
       "        -2.16438550e+00, -1.81221447e+00, -1.05331839e-01,\n",
       "         1.15650787e+00,  1.41100879e+00, -3.58962698e-01,\n",
       "        -2.56750819e-01],\n",
       "       [-1.21892513e+00,  3.66513653e+00,  9.21718541e-01,\n",
       "        -3.07130402e+00,  8.80627357e-01, -2.39024561e+00,\n",
       "         1.92550423e+00,  4.03256739e-01,  8.03652104e-01,\n",
       "         2.23190224e+00],\n",
       "       [ 7.33906213e-02,  6.87800250e+00,  5.88041108e-02,\n",
       "        -4.65847320e+00,  1.62348350e+00, -4.66786846e+00,\n",
       "         2.33644502e+00,  2.00420292e+00,  1.21890965e+00,\n",
       "         2.04430281e-01],\n",
       "       [-4.20410373e-01, -1.85108409e-01, -2.00822857e+00,\n",
       "         5.70442152e-01, -3.48991939e-01, -1.07533417e-02,\n",
       "        -6.37459623e-01,  1.68355447e+00, -6.09069103e-01,\n",
       "        -5.25872498e-01],\n",
       "       [-1.59526437e+00, -1.33358801e+00,  1.14822188e-01,\n",
       "        -5.66865127e-01, -1.56012757e+00,  8.22271580e-02,\n",
       "        -4.78508039e-01,  7.21856155e-01, -6.49588619e-01,\n",
       "         2.32013020e+00],\n",
       "       [-1.76022509e+00, -3.17252860e+00, -2.19548922e-01,\n",
       "         2.80827142e+00,  2.76804376e-01,  3.43159216e+00,\n",
       "         5.25507116e-01, -6.90885494e-01,  1.22415782e+00,\n",
       "         1.13168794e+00],\n",
       "       [ 1.36345959e+00, -1.17137299e+00, -3.03345325e-01,\n",
       "        -5.79348514e-01, -1.23780359e+00,  7.52369823e-01,\n",
       "         8.81281160e-01,  2.12172752e+00,  1.13884295e+00,\n",
       "         4.70874430e-01],\n",
       "       [ 2.89569050e+00, -2.68133412e+00, -4.79278616e-01,\n",
       "         7.71069405e-01, -4.84829091e-01,  2.29116551e+00,\n",
       "         8.26348014e-01, -1.55786185e+00, -5.62672520e-01,\n",
       "         1.72100291e-01],\n",
       "       [ 7.25131260e-01,  2.44501800e+00, -1.13603846e+00,\n",
       "        -4.12315072e+00, -3.75943287e-01, -1.83582374e+00,\n",
       "         2.79704861e+00,  9.93772952e-01,  1.47933332e-02,\n",
       "         2.97068899e-01],\n",
       "       [ 2.47696307e-02, -3.31162813e+00,  1.94367604e-01,\n",
       "         2.06923057e+00, -1.05737390e+00,  1.54312378e+00,\n",
       "        -2.22567454e+00, -2.22410194e+00, -1.56563022e-02,\n",
       "         2.09830817e+00],\n",
       "       [ 6.71797937e-01,  1.16528505e+00,  2.91598140e-02,\n",
       "         1.04321411e+00,  8.48770235e-01, -6.72011291e-01,\n",
       "        -1.06177466e+00,  7.50139213e-01,  6.55698762e-01,\n",
       "        -1.76886069e+00],\n",
       "       [ 2.00647651e-01,  3.16634771e+00,  4.39725508e-01,\n",
       "        -2.89196800e+00,  1.66027273e-01, -2.38138972e+00,\n",
       "         1.39626075e+00,  1.85156087e+00, -2.93077809e-02,\n",
       "        -3.39812603e-02],\n",
       "       [-4.00232104e-01,  1.92288530e+00, -1.24389275e-01,\n",
       "         3.39788163e-01,  1.72952637e+00,  1.86189561e-01,\n",
       "         1.76113092e+00,  1.79411112e+00,  4.17523718e-01,\n",
       "         1.65736048e+00],\n",
       "       [-2.39687541e-01, -3.07949449e+00,  1.01593850e+00,\n",
       "        -1.18086216e+00, -2.60422699e+00,  1.06203162e+00,\n",
       "         2.06951332e-01, -1.42340128e-01,  1.52967267e+00,\n",
       "         1.23639290e+00],\n",
       "       [-8.37073983e-01, -1.20609554e+00,  2.45143369e+00,\n",
       "         7.62739445e-01, -7.06261083e-01,  6.04097943e-01,\n",
       "        -6.79277062e-01,  9.24997975e-01,  1.53717914e+00,\n",
       "         1.49847633e+00],\n",
       "       [-1.59465917e-01, -1.71277866e+00, -7.77261998e-01,\n",
       "         1.98249689e-01, -8.71746276e-01,  1.53619626e+00,\n",
       "         1.02122424e+00,  1.55726483e+00,  3.55538946e-01,\n",
       "        -4.05161205e-01],\n",
       "       [-6.84162786e-01, -1.47201623e+00, -7.41311886e-02,\n",
       "         3.86179319e-01, -1.10873107e+00,  3.44270827e-01,\n",
       "        -1.04237931e+00,  1.90137243e-01, -8.78947220e-02,\n",
       "        -9.83862427e-01],\n",
       "       [-2.20586751e-02,  2.13169658e+00, -3.46054546e-01,\n",
       "        -1.12944831e+00,  6.08419611e-01, -1.20410800e+00,\n",
       "         8.83541699e-01,  1.39836370e+00, -3.24239875e+00,\n",
       "        -1.32083833e+00],\n",
       "       [-9.95775588e-01, -5.36343862e-01,  4.49422538e-01,\n",
       "         1.91295067e+00,  1.02892132e+00,  1.03232187e+00,\n",
       "        -4.93245331e-01, -1.21620551e+00, -2.39798597e+00,\n",
       "         1.89052307e+00],\n",
       "       [-3.24960599e-01,  1.00532039e+00,  1.61503634e-01,\n",
       "         3.46030989e+00,  2.53654053e+00,  1.32128692e+00,\n",
       "         6.30909814e-02,  2.06694063e+00,  5.45177812e-01,\n",
       "        -1.78064937e-01],\n",
       "       [ 1.28933581e-01,  2.60484811e+00, -1.32384507e+00,\n",
       "         3.22023471e+00,  3.06467356e+00, -7.41034836e-01,\n",
       "        -1.94929304e+00, -1.56450012e-01,  5.05662611e-01,\n",
       "         1.83708765e-01],\n",
       "       [ 1.00793313e-02,  3.09851385e+00,  2.55833942e+00,\n",
       "        -2.88059918e+00, -5.48563256e-02, -2.74987343e+00,\n",
       "         6.75687445e-01,  1.40539069e+00, -1.84432073e-01,\n",
       "        -2.53759219e-01],\n",
       "       [-1.46314619e+00,  1.19821075e+00,  1.19286782e+00,\n",
       "        -1.92622403e-02,  1.08481131e+00,  2.38024352e-01,\n",
       "         1.51920669e+00,  1.13180485e+00,  4.98825243e-01,\n",
       "        -5.77127801e-01],\n",
       "       [-3.79858483e-01, -1.77160330e+00, -1.77818662e+00,\n",
       "         3.35692097e+00,  6.67507377e-01,  2.64560144e+00,\n",
       "         1.33466336e-02,  2.29032152e+00, -3.52424025e-01,\n",
       "        -2.51377026e+00],\n",
       "       [ 9.39687710e-02, -5.12269606e-01, -3.76807431e-01,\n",
       "         1.50132512e+00,  2.37605329e-01, -6.49066856e-02,\n",
       "        -1.99267845e+00, -1.50043469e+00, -2.40619215e-01,\n",
       "         3.89877524e-01],\n",
       "       [ 4.56125919e-01, -1.40835973e+00,  9.65290033e-01,\n",
       "         4.74346658e-01, -3.44356676e-01,  1.42289106e+00,\n",
       "         7.97507419e-01,  4.61861220e-01, -2.05292345e+00,\n",
       "        -1.07367564e+00],\n",
       "       [ 1.22048852e+00,  3.16405966e+00, -1.41155140e-01,\n",
       "        -3.04685746e+00,  1.02507494e+00, -1.30579910e+00,\n",
       "         3.35052895e+00,  9.56668293e-01, -2.65363055e-01,\n",
       "        -1.91801459e+00],\n",
       "       [-9.67871237e-01,  6.83813289e-01,  6.80850953e-01,\n",
       "        -2.70601688e-01, -1.50071489e-02, -7.54185641e-01,\n",
       "        -4.35005536e-01,  3.99118893e-01,  1.30443228e-01,\n",
       "        -7.62392614e-01],\n",
       "       [ 1.00358031e+00, -5.35914238e-01,  2.57983526e-01,\n",
       "        -4.23946664e+00, -2.42014294e+00, -8.01159404e-01,\n",
       "         2.04019220e+00,  1.22367136e-01,  7.64255442e-01,\n",
       "        -1.26628626e+00],\n",
       "       [-7.54334887e-01,  4.59325703e+00,  6.65194436e-01,\n",
       "        -1.42073598e+00,  2.95480922e+00, -2.05573512e+00,\n",
       "         1.71933441e+00, -1.71290372e+00,  6.33771149e-02,\n",
       "         1.42710352e+00],\n",
       "       [ 1.52848131e+00, -1.52649110e+00, -7.16503329e-01,\n",
       "         1.49941069e+00, -4.47537558e-01,  1.77965379e+00,\n",
       "         4.74493451e-01,  3.18335603e+00,  1.39236876e+00,\n",
       "         1.10413563e+00],\n",
       "       [-2.01253041e+00,  4.10095721e+00,  2.57907763e-01,\n",
       "         3.55678637e-01,  2.63934724e+00, -1.55273521e+00,\n",
       "         6.67812651e-01,  1.92203041e+00,  3.29137091e-01,\n",
       "        -8.57303239e-02],\n",
       "       [-1.86315756e+00,  9.93923343e-01, -2.09122817e+00,\n",
       "         1.78065173e+00,  2.10930105e+00,  8.69197401e-01,\n",
       "         7.33918604e-01,  7.45141133e-03, -4.04111134e-05,\n",
       "         1.20558436e+00],\n",
       "       [ 4.59950380e-01,  3.77511543e+00,  8.23885641e-02,\n",
       "        -2.56968557e+00,  6.94349813e-01, -2.81265011e+00,\n",
       "         8.67672314e-01,  1.21343278e+00, -8.30140592e-01,\n",
       "         6.87308642e-01],\n",
       "       [-4.28613212e-01,  4.23595938e-01, -8.56125066e-01,\n",
       "         1.98715856e+00,  1.11153309e+00,  5.38443925e-01,\n",
       "        -4.68079466e-01,  1.41915628e+00, -1.81035299e-01,\n",
       "        -3.52282821e-01],\n",
       "       [-1.69609922e-01, -2.53922982e+00, -1.40794219e+00,\n",
       "         1.52706137e+00, -4.90730090e-01,  2.30032820e+00,\n",
       "         3.48234308e-01,  3.49537320e-01,  9.41179917e-01,\n",
       "         5.46260745e-01],\n",
       "       [ 2.34849502e+00, -2.92431465e+00,  2.43335590e-01,\n",
       "         2.81570098e+00, -4.75818318e-01,  2.27475734e+00,\n",
       "        -1.21246780e+00,  3.52574411e-01,  7.83612214e-01,\n",
       "         1.65333575e+00],\n",
       "       [ 1.63515773e-01, -2.27662591e+00, -4.03742591e-01,\n",
       "         3.43940620e+00, -3.38251738e-01,  1.83170675e+00,\n",
       "        -1.90487812e+00,  2.25055244e+00,  1.05424052e+00,\n",
       "         6.29678078e-01],\n",
       "       [ 4.88108116e-01,  3.71310876e+00,  1.53522878e+00,\n",
       "         1.51516199e+00,  2.98051568e+00, -7.00083104e-01,\n",
       "         7.75751374e-01,  3.03232138e+00,  1.49927105e+00,\n",
       "         2.06061177e+00],\n",
       "       [ 8.28144305e-01,  2.23141064e+00, -7.75644239e-01,\n",
       "        -2.82420770e+00, -3.47329071e-01, -1.86566800e+00,\n",
       "         1.39874717e+00,  1.74790498e+00, -5.08865356e-01,\n",
       "        -2.16741560e-01],\n",
       "       [ 2.55820582e-01,  2.09254576e+00,  1.57367069e+00,\n",
       "        -1.12924790e+00,  1.29556032e+00, -4.36375341e-01,\n",
       "         2.12981481e+00,  3.88390432e-01,  2.74223256e-01,\n",
       "         3.28918695e-01],\n",
       "       [ 8.03684400e-01, -5.07775936e-01, -1.82880078e-01,\n",
       "         1.74647893e+00, -1.66534187e-01,  4.59519601e-03,\n",
       "        -1.99202584e+00,  1.12125340e+00, -4.08840124e-01,\n",
       "         4.27913193e-01],\n",
       "       [-1.18137726e-01,  7.60220691e-01,  3.50959444e-01,\n",
       "         2.11814065e+00,  1.61574214e+00,  8.69322026e-01,\n",
       "         2.91966663e-01,  1.84645946e+00,  6.10237352e-01,\n",
       "        -3.19036273e-01]])"
      ]
     },
     "execution_count": 77,
     "metadata": {},
     "output_type": "execute_result"
    }
   ],
   "source": [
    "X"
   ]
  },
  {
   "cell_type": "code",
   "execution_count": 79,
   "id": "4d360e42-54ca-48da-90ca-3187a153cb7f",
   "metadata": {},
   "outputs": [],
   "source": [
    "from sklearn.model_selection import train_test_split\n",
    "X_train, X_test, y_train, y_test = train_test_split(X,y, test_size = 0.2, random_state = 42)"
   ]
  },
  {
   "cell_type": "code",
   "execution_count": 80,
   "id": "a2e7a52d-02af-4c7c-b49c-1b8f7ba3d213",
   "metadata": {},
   "outputs": [
    {
     "data": {
      "text/plain": [
       "(80, 10)"
      ]
     },
     "execution_count": 80,
     "metadata": {},
     "output_type": "execute_result"
    }
   ],
   "source": [
    "X_train.shape"
   ]
  },
  {
   "cell_type": "code",
   "execution_count": 81,
   "id": "b958846a-913f-4a69-81f6-c39047811203",
   "metadata": {},
   "outputs": [
    {
     "data": {
      "text/plain": [
       "(80,)"
      ]
     },
     "execution_count": 81,
     "metadata": {},
     "output_type": "execute_result"
    }
   ],
   "source": [
    "y_train.shape"
   ]
  },
  {
   "cell_type": "code",
   "execution_count": 82,
   "id": "08f99708-045c-4b21-af48-f4f2e95d57a1",
   "metadata": {},
   "outputs": [
    {
     "data": {
      "text/plain": [
       "(20, 10)"
      ]
     },
     "execution_count": 82,
     "metadata": {},
     "output_type": "execute_result"
    }
   ],
   "source": [
    "X_test.shape"
   ]
  },
  {
   "cell_type": "code",
   "execution_count": 85,
   "id": "6f70c0eb-e7d0-49a6-8b36-c0165d8f0832",
   "metadata": {},
   "outputs": [],
   "source": [
    "model4 = LogisticRegression(multi_class = 'ovr')"
   ]
  },
  {
   "cell_type": "code",
   "execution_count": 86,
   "id": "cc69285e-1049-4d3b-9ea8-0a1fc3355e20",
   "metadata": {},
   "outputs": [
    {
     "data": {
      "text/html": [
       "<style>#sk-container-id-8 {color: black;background-color: white;}#sk-container-id-8 pre{padding: 0;}#sk-container-id-8 div.sk-toggleable {background-color: white;}#sk-container-id-8 label.sk-toggleable__label {cursor: pointer;display: block;width: 100%;margin-bottom: 0;padding: 0.3em;box-sizing: border-box;text-align: center;}#sk-container-id-8 label.sk-toggleable__label-arrow:before {content: \"▸\";float: left;margin-right: 0.25em;color: #696969;}#sk-container-id-8 label.sk-toggleable__label-arrow:hover:before {color: black;}#sk-container-id-8 div.sk-estimator:hover label.sk-toggleable__label-arrow:before {color: black;}#sk-container-id-8 div.sk-toggleable__content {max-height: 0;max-width: 0;overflow: hidden;text-align: left;background-color: #f0f8ff;}#sk-container-id-8 div.sk-toggleable__content pre {margin: 0.2em;color: black;border-radius: 0.25em;background-color: #f0f8ff;}#sk-container-id-8 input.sk-toggleable__control:checked~div.sk-toggleable__content {max-height: 200px;max-width: 100%;overflow: auto;}#sk-container-id-8 input.sk-toggleable__control:checked~label.sk-toggleable__label-arrow:before {content: \"▾\";}#sk-container-id-8 div.sk-estimator input.sk-toggleable__control:checked~label.sk-toggleable__label {background-color: #d4ebff;}#sk-container-id-8 div.sk-label input.sk-toggleable__control:checked~label.sk-toggleable__label {background-color: #d4ebff;}#sk-container-id-8 input.sk-hidden--visually {border: 0;clip: rect(1px 1px 1px 1px);clip: rect(1px, 1px, 1px, 1px);height: 1px;margin: -1px;overflow: hidden;padding: 0;position: absolute;width: 1px;}#sk-container-id-8 div.sk-estimator {font-family: monospace;background-color: #f0f8ff;border: 1px dotted black;border-radius: 0.25em;box-sizing: border-box;margin-bottom: 0.5em;}#sk-container-id-8 div.sk-estimator:hover {background-color: #d4ebff;}#sk-container-id-8 div.sk-parallel-item::after {content: \"\";width: 100%;border-bottom: 1px solid gray;flex-grow: 1;}#sk-container-id-8 div.sk-label:hover label.sk-toggleable__label {background-color: #d4ebff;}#sk-container-id-8 div.sk-serial::before {content: \"\";position: absolute;border-left: 1px solid gray;box-sizing: border-box;top: 0;bottom: 0;left: 50%;z-index: 0;}#sk-container-id-8 div.sk-serial {display: flex;flex-direction: column;align-items: center;background-color: white;padding-right: 0.2em;padding-left: 0.2em;position: relative;}#sk-container-id-8 div.sk-item {position: relative;z-index: 1;}#sk-container-id-8 div.sk-parallel {display: flex;align-items: stretch;justify-content: center;background-color: white;position: relative;}#sk-container-id-8 div.sk-item::before, #sk-container-id-8 div.sk-parallel-item::before {content: \"\";position: absolute;border-left: 1px solid gray;box-sizing: border-box;top: 0;bottom: 0;left: 50%;z-index: -1;}#sk-container-id-8 div.sk-parallel-item {display: flex;flex-direction: column;z-index: 1;position: relative;background-color: white;}#sk-container-id-8 div.sk-parallel-item:first-child::after {align-self: flex-end;width: 50%;}#sk-container-id-8 div.sk-parallel-item:last-child::after {align-self: flex-start;width: 50%;}#sk-container-id-8 div.sk-parallel-item:only-child::after {width: 0;}#sk-container-id-8 div.sk-dashed-wrapped {border: 1px dashed gray;margin: 0 0.4em 0.5em 0.4em;box-sizing: border-box;padding-bottom: 0.4em;background-color: white;}#sk-container-id-8 div.sk-label label {font-family: monospace;font-weight: bold;display: inline-block;line-height: 1.2em;}#sk-container-id-8 div.sk-label-container {text-align: center;}#sk-container-id-8 div.sk-container {/* jupyter's `normalize.less` sets `[hidden] { display: none; }` but bootstrap.min.css set `[hidden] { display: none !important; }` so we also need the `!important` here to be able to override the default hidden behavior on the sphinx rendered scikit-learn.org. See: https://github.com/scikit-learn/scikit-learn/issues/21755 */display: inline-block !important;position: relative;}#sk-container-id-8 div.sk-text-repr-fallback {display: none;}</style><div id=\"sk-container-id-8\" class=\"sk-top-container\"><div class=\"sk-text-repr-fallback\"><pre>LogisticRegression(multi_class=&#x27;ovr&#x27;)</pre><b>In a Jupyter environment, please rerun this cell to show the HTML representation or trust the notebook. <br />On GitHub, the HTML representation is unable to render, please try loading this page with nbviewer.org.</b></div><div class=\"sk-container\" hidden><div class=\"sk-item\"><div class=\"sk-estimator sk-toggleable\"><input class=\"sk-toggleable__control sk-hidden--visually\" id=\"sk-estimator-id-16\" type=\"checkbox\" checked><label for=\"sk-estimator-id-16\" class=\"sk-toggleable__label sk-toggleable__label-arrow\">LogisticRegression</label><div class=\"sk-toggleable__content\"><pre>LogisticRegression(multi_class=&#x27;ovr&#x27;)</pre></div></div></div></div></div>"
      ],
      "text/plain": [
       "LogisticRegression(multi_class='ovr')"
      ]
     },
     "execution_count": 86,
     "metadata": {},
     "output_type": "execute_result"
    }
   ],
   "source": [
    "model4"
   ]
  },
  {
   "cell_type": "code",
   "execution_count": 89,
   "id": "4f156225-57c5-4401-a97f-7e55452c5107",
   "metadata": {},
   "outputs": [
    {
     "data": {
      "text/html": [
       "<style>#sk-container-id-10 {color: black;background-color: white;}#sk-container-id-10 pre{padding: 0;}#sk-container-id-10 div.sk-toggleable {background-color: white;}#sk-container-id-10 label.sk-toggleable__label {cursor: pointer;display: block;width: 100%;margin-bottom: 0;padding: 0.3em;box-sizing: border-box;text-align: center;}#sk-container-id-10 label.sk-toggleable__label-arrow:before {content: \"▸\";float: left;margin-right: 0.25em;color: #696969;}#sk-container-id-10 label.sk-toggleable__label-arrow:hover:before {color: black;}#sk-container-id-10 div.sk-estimator:hover label.sk-toggleable__label-arrow:before {color: black;}#sk-container-id-10 div.sk-toggleable__content {max-height: 0;max-width: 0;overflow: hidden;text-align: left;background-color: #f0f8ff;}#sk-container-id-10 div.sk-toggleable__content pre {margin: 0.2em;color: black;border-radius: 0.25em;background-color: #f0f8ff;}#sk-container-id-10 input.sk-toggleable__control:checked~div.sk-toggleable__content {max-height: 200px;max-width: 100%;overflow: auto;}#sk-container-id-10 input.sk-toggleable__control:checked~label.sk-toggleable__label-arrow:before {content: \"▾\";}#sk-container-id-10 div.sk-estimator input.sk-toggleable__control:checked~label.sk-toggleable__label {background-color: #d4ebff;}#sk-container-id-10 div.sk-label input.sk-toggleable__control:checked~label.sk-toggleable__label {background-color: #d4ebff;}#sk-container-id-10 input.sk-hidden--visually {border: 0;clip: rect(1px 1px 1px 1px);clip: rect(1px, 1px, 1px, 1px);height: 1px;margin: -1px;overflow: hidden;padding: 0;position: absolute;width: 1px;}#sk-container-id-10 div.sk-estimator {font-family: monospace;background-color: #f0f8ff;border: 1px dotted black;border-radius: 0.25em;box-sizing: border-box;margin-bottom: 0.5em;}#sk-container-id-10 div.sk-estimator:hover {background-color: #d4ebff;}#sk-container-id-10 div.sk-parallel-item::after {content: \"\";width: 100%;border-bottom: 1px solid gray;flex-grow: 1;}#sk-container-id-10 div.sk-label:hover label.sk-toggleable__label {background-color: #d4ebff;}#sk-container-id-10 div.sk-serial::before {content: \"\";position: absolute;border-left: 1px solid gray;box-sizing: border-box;top: 0;bottom: 0;left: 50%;z-index: 0;}#sk-container-id-10 div.sk-serial {display: flex;flex-direction: column;align-items: center;background-color: white;padding-right: 0.2em;padding-left: 0.2em;position: relative;}#sk-container-id-10 div.sk-item {position: relative;z-index: 1;}#sk-container-id-10 div.sk-parallel {display: flex;align-items: stretch;justify-content: center;background-color: white;position: relative;}#sk-container-id-10 div.sk-item::before, #sk-container-id-10 div.sk-parallel-item::before {content: \"\";position: absolute;border-left: 1px solid gray;box-sizing: border-box;top: 0;bottom: 0;left: 50%;z-index: -1;}#sk-container-id-10 div.sk-parallel-item {display: flex;flex-direction: column;z-index: 1;position: relative;background-color: white;}#sk-container-id-10 div.sk-parallel-item:first-child::after {align-self: flex-end;width: 50%;}#sk-container-id-10 div.sk-parallel-item:last-child::after {align-self: flex-start;width: 50%;}#sk-container-id-10 div.sk-parallel-item:only-child::after {width: 0;}#sk-container-id-10 div.sk-dashed-wrapped {border: 1px dashed gray;margin: 0 0.4em 0.5em 0.4em;box-sizing: border-box;padding-bottom: 0.4em;background-color: white;}#sk-container-id-10 div.sk-label label {font-family: monospace;font-weight: bold;display: inline-block;line-height: 1.2em;}#sk-container-id-10 div.sk-label-container {text-align: center;}#sk-container-id-10 div.sk-container {/* jupyter's `normalize.less` sets `[hidden] { display: none; }` but bootstrap.min.css set `[hidden] { display: none !important; }` so we also need the `!important` here to be able to override the default hidden behavior on the sphinx rendered scikit-learn.org. See: https://github.com/scikit-learn/scikit-learn/issues/21755 */display: inline-block !important;position: relative;}#sk-container-id-10 div.sk-text-repr-fallback {display: none;}</style><div id=\"sk-container-id-10\" class=\"sk-top-container\"><div class=\"sk-text-repr-fallback\"><pre>LogisticRegression(multi_class=&#x27;ovr&#x27;)</pre><b>In a Jupyter environment, please rerun this cell to show the HTML representation or trust the notebook. <br />On GitHub, the HTML representation is unable to render, please try loading this page with nbviewer.org.</b></div><div class=\"sk-container\" hidden><div class=\"sk-item\"><div class=\"sk-estimator sk-toggleable\"><input class=\"sk-toggleable__control sk-hidden--visually\" id=\"sk-estimator-id-18\" type=\"checkbox\" checked><label for=\"sk-estimator-id-18\" class=\"sk-toggleable__label sk-toggleable__label-arrow\">LogisticRegression</label><div class=\"sk-toggleable__content\"><pre>LogisticRegression(multi_class=&#x27;ovr&#x27;)</pre></div></div></div></div></div>"
      ],
      "text/plain": [
       "LogisticRegression(multi_class='ovr')"
      ]
     },
     "execution_count": 89,
     "metadata": {},
     "output_type": "execute_result"
    }
   ],
   "source": [
    "model4 = model4.fit(X_train, y_train)\n",
    "model4"
   ]
  },
  {
   "cell_type": "code",
   "execution_count": 90,
   "id": "d46b920c-4f5c-4a74-9729-9e366aff2dd0",
   "metadata": {},
   "outputs": [
    {
     "data": {
      "text/plain": [
       "array([0, 1, 0, 1, 1, 0, 2, 0, 2, 1, 0, 2, 2, 1, 2, 2, 2, 1, 1, 2])"
      ]
     },
     "execution_count": 90,
     "metadata": {},
     "output_type": "execute_result"
    }
   ],
   "source": [
    "y_pred3 = model4.predict(X_test)\n",
    "y_pred3"
   ]
  },
  {
   "cell_type": "code",
   "execution_count": 91,
   "id": "46fdd0ab-45ca-4d8b-b42b-a2226fec291b",
   "metadata": {},
   "outputs": [
    {
     "data": {
      "text/plain": [
       "(array([2, 2, 2, 1, 1, 0, 0, 0, 2, 1, 2, 2, 2, 1, 0, 2, 0, 2, 1, 2]),\n",
       " array([0, 1, 0, 1, 1, 0, 2, 0, 2, 1, 0, 2, 2, 1, 2, 2, 2, 1, 1, 2]))"
      ]
     },
     "execution_count": 91,
     "metadata": {},
     "output_type": "execute_result"
    }
   ],
   "source": [
    "y_test, y_pred3"
   ]
  },
  {
   "cell_type": "code",
   "execution_count": 92,
   "id": "d6f92b38-35e9-4b59-a3d8-92d4e9232cd8",
   "metadata": {},
   "outputs": [
    {
     "name": "stdout",
     "output_type": "stream",
     "text": [
      "0.6\n",
      "[[2 0 3]\n",
      " [0 5 0]\n",
      " [3 2 5]]\n",
      "              precision    recall  f1-score   support\n",
      "\n",
      "           0       0.40      0.40      0.40         5\n",
      "           1       0.71      1.00      0.83         5\n",
      "           2       0.62      0.50      0.56        10\n",
      "\n",
      "    accuracy                           0.60        20\n",
      "   macro avg       0.58      0.63      0.60        20\n",
      "weighted avg       0.59      0.60      0.59        20\n",
      "\n"
     ]
    }
   ],
   "source": [
    "from sklearn.metrics import accuracy_score, confusion_matrix, classification_report\n",
    "\n",
    "print(accuracy_score(y_test,y_pred3))\n",
    "\n",
    "print(confusion_matrix(y_test,y_pred3))\n",
    "\n",
    "print(classification_report(y_test,y_pred3))"
   ]
  },
  {
   "cell_type": "code",
   "execution_count": 93,
   "id": "32c80bbc-1112-42ee-a860-8ea15f62f171",
   "metadata": {},
   "outputs": [],
   "source": [
    "gcvs = GridSearchCV(estimator = model4, param_grid=params, cv=5, scoring='accuracy')"
   ]
  },
  {
   "cell_type": "code",
   "execution_count": 94,
   "id": "4eab19b7-0ca9-4c05-91c4-fb6048325e08",
   "metadata": {},
   "outputs": [
    {
     "data": {
      "text/html": [
       "<style>#sk-container-id-11 {color: black;background-color: white;}#sk-container-id-11 pre{padding: 0;}#sk-container-id-11 div.sk-toggleable {background-color: white;}#sk-container-id-11 label.sk-toggleable__label {cursor: pointer;display: block;width: 100%;margin-bottom: 0;padding: 0.3em;box-sizing: border-box;text-align: center;}#sk-container-id-11 label.sk-toggleable__label-arrow:before {content: \"▸\";float: left;margin-right: 0.25em;color: #696969;}#sk-container-id-11 label.sk-toggleable__label-arrow:hover:before {color: black;}#sk-container-id-11 div.sk-estimator:hover label.sk-toggleable__label-arrow:before {color: black;}#sk-container-id-11 div.sk-toggleable__content {max-height: 0;max-width: 0;overflow: hidden;text-align: left;background-color: #f0f8ff;}#sk-container-id-11 div.sk-toggleable__content pre {margin: 0.2em;color: black;border-radius: 0.25em;background-color: #f0f8ff;}#sk-container-id-11 input.sk-toggleable__control:checked~div.sk-toggleable__content {max-height: 200px;max-width: 100%;overflow: auto;}#sk-container-id-11 input.sk-toggleable__control:checked~label.sk-toggleable__label-arrow:before {content: \"▾\";}#sk-container-id-11 div.sk-estimator input.sk-toggleable__control:checked~label.sk-toggleable__label {background-color: #d4ebff;}#sk-container-id-11 div.sk-label input.sk-toggleable__control:checked~label.sk-toggleable__label {background-color: #d4ebff;}#sk-container-id-11 input.sk-hidden--visually {border: 0;clip: rect(1px 1px 1px 1px);clip: rect(1px, 1px, 1px, 1px);height: 1px;margin: -1px;overflow: hidden;padding: 0;position: absolute;width: 1px;}#sk-container-id-11 div.sk-estimator {font-family: monospace;background-color: #f0f8ff;border: 1px dotted black;border-radius: 0.25em;box-sizing: border-box;margin-bottom: 0.5em;}#sk-container-id-11 div.sk-estimator:hover {background-color: #d4ebff;}#sk-container-id-11 div.sk-parallel-item::after {content: \"\";width: 100%;border-bottom: 1px solid gray;flex-grow: 1;}#sk-container-id-11 div.sk-label:hover label.sk-toggleable__label {background-color: #d4ebff;}#sk-container-id-11 div.sk-serial::before {content: \"\";position: absolute;border-left: 1px solid gray;box-sizing: border-box;top: 0;bottom: 0;left: 50%;z-index: 0;}#sk-container-id-11 div.sk-serial {display: flex;flex-direction: column;align-items: center;background-color: white;padding-right: 0.2em;padding-left: 0.2em;position: relative;}#sk-container-id-11 div.sk-item {position: relative;z-index: 1;}#sk-container-id-11 div.sk-parallel {display: flex;align-items: stretch;justify-content: center;background-color: white;position: relative;}#sk-container-id-11 div.sk-item::before, #sk-container-id-11 div.sk-parallel-item::before {content: \"\";position: absolute;border-left: 1px solid gray;box-sizing: border-box;top: 0;bottom: 0;left: 50%;z-index: -1;}#sk-container-id-11 div.sk-parallel-item {display: flex;flex-direction: column;z-index: 1;position: relative;background-color: white;}#sk-container-id-11 div.sk-parallel-item:first-child::after {align-self: flex-end;width: 50%;}#sk-container-id-11 div.sk-parallel-item:last-child::after {align-self: flex-start;width: 50%;}#sk-container-id-11 div.sk-parallel-item:only-child::after {width: 0;}#sk-container-id-11 div.sk-dashed-wrapped {border: 1px dashed gray;margin: 0 0.4em 0.5em 0.4em;box-sizing: border-box;padding-bottom: 0.4em;background-color: white;}#sk-container-id-11 div.sk-label label {font-family: monospace;font-weight: bold;display: inline-block;line-height: 1.2em;}#sk-container-id-11 div.sk-label-container {text-align: center;}#sk-container-id-11 div.sk-container {/* jupyter's `normalize.less` sets `[hidden] { display: none; }` but bootstrap.min.css set `[hidden] { display: none !important; }` so we also need the `!important` here to be able to override the default hidden behavior on the sphinx rendered scikit-learn.org. See: https://github.com/scikit-learn/scikit-learn/issues/21755 */display: inline-block !important;position: relative;}#sk-container-id-11 div.sk-text-repr-fallback {display: none;}</style><div id=\"sk-container-id-11\" class=\"sk-top-container\"><div class=\"sk-text-repr-fallback\"><pre>GridSearchCV(cv=5, estimator=LogisticRegression(multi_class=&#x27;ovr&#x27;),\n",
       "             param_grid={&#x27;C&#x27;: [1.0, 10.0, 100.0],\n",
       "                         &#x27;penalty&#x27;: [&#x27;l1&#x27;, &#x27;l2&#x27;, &#x27;elasticnet&#x27;],\n",
       "                         &#x27;solver&#x27;: [&#x27;lbfgs&#x27;, &#x27;liblinear&#x27;, &#x27;newton-cg&#x27;,\n",
       "                                    &#x27;newton-cholesky&#x27;, &#x27;sag&#x27;, &#x27;saga&#x27;]},\n",
       "             scoring=&#x27;accuracy&#x27;)</pre><b>In a Jupyter environment, please rerun this cell to show the HTML representation or trust the notebook. <br />On GitHub, the HTML representation is unable to render, please try loading this page with nbviewer.org.</b></div><div class=\"sk-container\" hidden><div class=\"sk-item sk-dashed-wrapped\"><div class=\"sk-label-container\"><div class=\"sk-label sk-toggleable\"><input class=\"sk-toggleable__control sk-hidden--visually\" id=\"sk-estimator-id-19\" type=\"checkbox\" ><label for=\"sk-estimator-id-19\" class=\"sk-toggleable__label sk-toggleable__label-arrow\">GridSearchCV</label><div class=\"sk-toggleable__content\"><pre>GridSearchCV(cv=5, estimator=LogisticRegression(multi_class=&#x27;ovr&#x27;),\n",
       "             param_grid={&#x27;C&#x27;: [1.0, 10.0, 100.0],\n",
       "                         &#x27;penalty&#x27;: [&#x27;l1&#x27;, &#x27;l2&#x27;, &#x27;elasticnet&#x27;],\n",
       "                         &#x27;solver&#x27;: [&#x27;lbfgs&#x27;, &#x27;liblinear&#x27;, &#x27;newton-cg&#x27;,\n",
       "                                    &#x27;newton-cholesky&#x27;, &#x27;sag&#x27;, &#x27;saga&#x27;]},\n",
       "             scoring=&#x27;accuracy&#x27;)</pre></div></div></div><div class=\"sk-parallel\"><div class=\"sk-parallel-item\"><div class=\"sk-item\"><div class=\"sk-label-container\"><div class=\"sk-label sk-toggleable\"><input class=\"sk-toggleable__control sk-hidden--visually\" id=\"sk-estimator-id-20\" type=\"checkbox\" ><label for=\"sk-estimator-id-20\" class=\"sk-toggleable__label sk-toggleable__label-arrow\">estimator: LogisticRegression</label><div class=\"sk-toggleable__content\"><pre>LogisticRegression(multi_class=&#x27;ovr&#x27;)</pre></div></div></div><div class=\"sk-serial\"><div class=\"sk-item\"><div class=\"sk-estimator sk-toggleable\"><input class=\"sk-toggleable__control sk-hidden--visually\" id=\"sk-estimator-id-21\" type=\"checkbox\" ><label for=\"sk-estimator-id-21\" class=\"sk-toggleable__label sk-toggleable__label-arrow\">LogisticRegression</label><div class=\"sk-toggleable__content\"><pre>LogisticRegression(multi_class=&#x27;ovr&#x27;)</pre></div></div></div></div></div></div></div></div></div></div>"
      ],
      "text/plain": [
       "GridSearchCV(cv=5, estimator=LogisticRegression(multi_class='ovr'),\n",
       "             param_grid={'C': [1.0, 10.0, 100.0],\n",
       "                         'penalty': ['l1', 'l2', 'elasticnet'],\n",
       "                         'solver': ['lbfgs', 'liblinear', 'newton-cg',\n",
       "                                    'newton-cholesky', 'sag', 'saga']},\n",
       "             scoring='accuracy')"
      ]
     },
     "execution_count": 94,
     "metadata": {},
     "output_type": "execute_result"
    }
   ],
   "source": [
    "gcvs"
   ]
  },
  {
   "cell_type": "code",
   "execution_count": 96,
   "id": "b6e28659-2245-4174-aa86-34aa24ea088f",
   "metadata": {},
   "outputs": [
    {
     "name": "stderr",
     "output_type": "stream",
     "text": [
      "C:\\Users\\saike\\anaconda3\\Lib\\site-packages\\sklearn\\linear_model\\_sag.py:350: ConvergenceWarning: The max_iter was reached which means the coef_ did not converge\n",
      "  warnings.warn(\n",
      "C:\\Users\\saike\\anaconda3\\Lib\\site-packages\\sklearn\\linear_model\\_sag.py:350: ConvergenceWarning: The max_iter was reached which means the coef_ did not converge\n",
      "  warnings.warn(\n",
      "C:\\Users\\saike\\anaconda3\\Lib\\site-packages\\sklearn\\linear_model\\_sag.py:350: ConvergenceWarning: The max_iter was reached which means the coef_ did not converge\n",
      "  warnings.warn(\n",
      "C:\\Users\\saike\\anaconda3\\Lib\\site-packages\\sklearn\\linear_model\\_sag.py:350: ConvergenceWarning: The max_iter was reached which means the coef_ did not converge\n",
      "  warnings.warn(\n",
      "C:\\Users\\saike\\anaconda3\\Lib\\site-packages\\sklearn\\linear_model\\_sag.py:350: ConvergenceWarning: The max_iter was reached which means the coef_ did not converge\n",
      "  warnings.warn(\n",
      "C:\\Users\\saike\\anaconda3\\Lib\\site-packages\\sklearn\\linear_model\\_sag.py:350: ConvergenceWarning: The max_iter was reached which means the coef_ did not converge\n",
      "  warnings.warn(\n",
      "C:\\Users\\saike\\anaconda3\\Lib\\site-packages\\sklearn\\linear_model\\_sag.py:350: ConvergenceWarning: The max_iter was reached which means the coef_ did not converge\n",
      "  warnings.warn(\n",
      "C:\\Users\\saike\\anaconda3\\Lib\\site-packages\\sklearn\\linear_model\\_sag.py:350: ConvergenceWarning: The max_iter was reached which means the coef_ did not converge\n",
      "  warnings.warn(\n",
      "C:\\Users\\saike\\anaconda3\\Lib\\site-packages\\sklearn\\linear_model\\_sag.py:350: ConvergenceWarning: The max_iter was reached which means the coef_ did not converge\n",
      "  warnings.warn(\n",
      "C:\\Users\\saike\\anaconda3\\Lib\\site-packages\\sklearn\\linear_model\\_sag.py:350: ConvergenceWarning: The max_iter was reached which means the coef_ did not converge\n",
      "  warnings.warn(\n",
      "C:\\Users\\saike\\anaconda3\\Lib\\site-packages\\sklearn\\linear_model\\_sag.py:350: ConvergenceWarning: The max_iter was reached which means the coef_ did not converge\n",
      "  warnings.warn(\n",
      "C:\\Users\\saike\\anaconda3\\Lib\\site-packages\\sklearn\\linear_model\\_sag.py:350: ConvergenceWarning: The max_iter was reached which means the coef_ did not converge\n",
      "  warnings.warn(\n",
      "C:\\Users\\saike\\anaconda3\\Lib\\site-packages\\sklearn\\linear_model\\_sag.py:350: ConvergenceWarning: The max_iter was reached which means the coef_ did not converge\n",
      "  warnings.warn(\n",
      "C:\\Users\\saike\\anaconda3\\Lib\\site-packages\\sklearn\\linear_model\\_sag.py:350: ConvergenceWarning: The max_iter was reached which means the coef_ did not converge\n",
      "  warnings.warn(\n",
      "C:\\Users\\saike\\anaconda3\\Lib\\site-packages\\sklearn\\linear_model\\_sag.py:350: ConvergenceWarning: The max_iter was reached which means the coef_ did not converge\n",
      "  warnings.warn(\n",
      "C:\\Users\\saike\\anaconda3\\Lib\\site-packages\\sklearn\\linear_model\\_sag.py:350: ConvergenceWarning: The max_iter was reached which means the coef_ did not converge\n",
      "  warnings.warn(\n",
      "C:\\Users\\saike\\anaconda3\\Lib\\site-packages\\sklearn\\linear_model\\_sag.py:350: ConvergenceWarning: The max_iter was reached which means the coef_ did not converge\n",
      "  warnings.warn(\n",
      "C:\\Users\\saike\\anaconda3\\Lib\\site-packages\\sklearn\\linear_model\\_sag.py:350: ConvergenceWarning: The max_iter was reached which means the coef_ did not converge\n",
      "  warnings.warn(\n",
      "C:\\Users\\saike\\anaconda3\\Lib\\site-packages\\sklearn\\linear_model\\_sag.py:350: ConvergenceWarning: The max_iter was reached which means the coef_ did not converge\n",
      "  warnings.warn(\n",
      "C:\\Users\\saike\\anaconda3\\Lib\\site-packages\\sklearn\\linear_model\\_sag.py:350: ConvergenceWarning: The max_iter was reached which means the coef_ did not converge\n",
      "  warnings.warn(\n",
      "C:\\Users\\saike\\anaconda3\\Lib\\site-packages\\sklearn\\linear_model\\_sag.py:350: ConvergenceWarning: The max_iter was reached which means the coef_ did not converge\n",
      "  warnings.warn(\n",
      "C:\\Users\\saike\\anaconda3\\Lib\\site-packages\\sklearn\\linear_model\\_sag.py:350: ConvergenceWarning: The max_iter was reached which means the coef_ did not converge\n",
      "  warnings.warn(\n",
      "C:\\Users\\saike\\anaconda3\\Lib\\site-packages\\sklearn\\linear_model\\_sag.py:350: ConvergenceWarning: The max_iter was reached which means the coef_ did not converge\n",
      "  warnings.warn(\n",
      "C:\\Users\\saike\\anaconda3\\Lib\\site-packages\\sklearn\\linear_model\\_sag.py:350: ConvergenceWarning: The max_iter was reached which means the coef_ did not converge\n",
      "  warnings.warn(\n",
      "C:\\Users\\saike\\anaconda3\\Lib\\site-packages\\sklearn\\linear_model\\_sag.py:350: ConvergenceWarning: The max_iter was reached which means the coef_ did not converge\n",
      "  warnings.warn(\n",
      "C:\\Users\\saike\\anaconda3\\Lib\\site-packages\\sklearn\\linear_model\\_sag.py:350: ConvergenceWarning: The max_iter was reached which means the coef_ did not converge\n",
      "  warnings.warn(\n",
      "C:\\Users\\saike\\anaconda3\\Lib\\site-packages\\sklearn\\linear_model\\_sag.py:350: ConvergenceWarning: The max_iter was reached which means the coef_ did not converge\n",
      "  warnings.warn(\n",
      "C:\\Users\\saike\\anaconda3\\Lib\\site-packages\\sklearn\\linear_model\\_sag.py:350: ConvergenceWarning: The max_iter was reached which means the coef_ did not converge\n",
      "  warnings.warn(\n",
      "C:\\Users\\saike\\anaconda3\\Lib\\site-packages\\sklearn\\linear_model\\_sag.py:350: ConvergenceWarning: The max_iter was reached which means the coef_ did not converge\n",
      "  warnings.warn(\n",
      "C:\\Users\\saike\\anaconda3\\Lib\\site-packages\\sklearn\\linear_model\\_sag.py:350: ConvergenceWarning: The max_iter was reached which means the coef_ did not converge\n",
      "  warnings.warn(\n",
      "C:\\Users\\saike\\anaconda3\\Lib\\site-packages\\sklearn\\linear_model\\_sag.py:350: ConvergenceWarning: The max_iter was reached which means the coef_ did not converge\n",
      "  warnings.warn(\n",
      "C:\\Users\\saike\\anaconda3\\Lib\\site-packages\\sklearn\\linear_model\\_sag.py:350: ConvergenceWarning: The max_iter was reached which means the coef_ did not converge\n",
      "  warnings.warn(\n",
      "C:\\Users\\saike\\anaconda3\\Lib\\site-packages\\sklearn\\linear_model\\_sag.py:350: ConvergenceWarning: The max_iter was reached which means the coef_ did not converge\n",
      "  warnings.warn(\n",
      "C:\\Users\\saike\\anaconda3\\Lib\\site-packages\\sklearn\\linear_model\\_sag.py:350: ConvergenceWarning: The max_iter was reached which means the coef_ did not converge\n",
      "  warnings.warn(\n",
      "C:\\Users\\saike\\anaconda3\\Lib\\site-packages\\sklearn\\linear_model\\_sag.py:350: ConvergenceWarning: The max_iter was reached which means the coef_ did not converge\n",
      "  warnings.warn(\n",
      "C:\\Users\\saike\\anaconda3\\Lib\\site-packages\\sklearn\\linear_model\\_sag.py:350: ConvergenceWarning: The max_iter was reached which means the coef_ did not converge\n",
      "  warnings.warn(\n",
      "C:\\Users\\saike\\anaconda3\\Lib\\site-packages\\sklearn\\linear_model\\_sag.py:350: ConvergenceWarning: The max_iter was reached which means the coef_ did not converge\n",
      "  warnings.warn(\n",
      "C:\\Users\\saike\\anaconda3\\Lib\\site-packages\\sklearn\\linear_model\\_sag.py:350: ConvergenceWarning: The max_iter was reached which means the coef_ did not converge\n",
      "  warnings.warn(\n",
      "C:\\Users\\saike\\anaconda3\\Lib\\site-packages\\sklearn\\linear_model\\_sag.py:350: ConvergenceWarning: The max_iter was reached which means the coef_ did not converge\n",
      "  warnings.warn(\n",
      "C:\\Users\\saike\\anaconda3\\Lib\\site-packages\\sklearn\\linear_model\\_sag.py:350: ConvergenceWarning: The max_iter was reached which means the coef_ did not converge\n",
      "  warnings.warn(\n",
      "C:\\Users\\saike\\anaconda3\\Lib\\site-packages\\sklearn\\linear_model\\_sag.py:350: ConvergenceWarning: The max_iter was reached which means the coef_ did not converge\n",
      "  warnings.warn(\n",
      "C:\\Users\\saike\\anaconda3\\Lib\\site-packages\\sklearn\\linear_model\\_sag.py:350: ConvergenceWarning: The max_iter was reached which means the coef_ did not converge\n",
      "  warnings.warn(\n",
      "C:\\Users\\saike\\anaconda3\\Lib\\site-packages\\sklearn\\linear_model\\_sag.py:350: ConvergenceWarning: The max_iter was reached which means the coef_ did not converge\n",
      "  warnings.warn(\n",
      "C:\\Users\\saike\\anaconda3\\Lib\\site-packages\\sklearn\\linear_model\\_sag.py:350: ConvergenceWarning: The max_iter was reached which means the coef_ did not converge\n",
      "  warnings.warn(\n",
      "C:\\Users\\saike\\anaconda3\\Lib\\site-packages\\sklearn\\linear_model\\_sag.py:350: ConvergenceWarning: The max_iter was reached which means the coef_ did not converge\n",
      "  warnings.warn(\n",
      "C:\\Users\\saike\\anaconda3\\Lib\\site-packages\\sklearn\\linear_model\\_sag.py:350: ConvergenceWarning: The max_iter was reached which means the coef_ did not converge\n",
      "  warnings.warn(\n",
      "C:\\Users\\saike\\anaconda3\\Lib\\site-packages\\sklearn\\linear_model\\_sag.py:350: ConvergenceWarning: The max_iter was reached which means the coef_ did not converge\n",
      "  warnings.warn(\n",
      "C:\\Users\\saike\\anaconda3\\Lib\\site-packages\\sklearn\\linear_model\\_sag.py:350: ConvergenceWarning: The max_iter was reached which means the coef_ did not converge\n",
      "  warnings.warn(\n",
      "C:\\Users\\saike\\anaconda3\\Lib\\site-packages\\sklearn\\linear_model\\_sag.py:350: ConvergenceWarning: The max_iter was reached which means the coef_ did not converge\n",
      "  warnings.warn(\n",
      "C:\\Users\\saike\\anaconda3\\Lib\\site-packages\\sklearn\\model_selection\\_validation.py:378: FitFailedWarning: \n",
      "150 fits failed out of a total of 270.\n",
      "The score on these train-test partitions for these parameters will be set to nan.\n",
      "If these failures are not expected, you can try to debug them by setting error_score='raise'.\n",
      "\n",
      "Below are more details about the failures:\n",
      "--------------------------------------------------------------------------------\n",
      "15 fits failed with the following error:\n",
      "Traceback (most recent call last):\n",
      "  File \"C:\\Users\\saike\\anaconda3\\Lib\\site-packages\\sklearn\\model_selection\\_validation.py\", line 686, in _fit_and_score\n",
      "    estimator.fit(X_train, y_train, **fit_params)\n",
      "  File \"C:\\Users\\saike\\anaconda3\\Lib\\site-packages\\sklearn\\linear_model\\_logistic.py\", line 1162, in fit\n",
      "    solver = _check_solver(self.solver, self.penalty, self.dual)\n",
      "             ^^^^^^^^^^^^^^^^^^^^^^^^^^^^^^^^^^^^^^^^^^^^^^^^^^^\n",
      "  File \"C:\\Users\\saike\\anaconda3\\Lib\\site-packages\\sklearn\\linear_model\\_logistic.py\", line 54, in _check_solver\n",
      "    raise ValueError(\n",
      "ValueError: Solver lbfgs supports only 'l2' or 'none' penalties, got l1 penalty.\n",
      "\n",
      "--------------------------------------------------------------------------------\n",
      "15 fits failed with the following error:\n",
      "Traceback (most recent call last):\n",
      "  File \"C:\\Users\\saike\\anaconda3\\Lib\\site-packages\\sklearn\\model_selection\\_validation.py\", line 686, in _fit_and_score\n",
      "    estimator.fit(X_train, y_train, **fit_params)\n",
      "  File \"C:\\Users\\saike\\anaconda3\\Lib\\site-packages\\sklearn\\linear_model\\_logistic.py\", line 1162, in fit\n",
      "    solver = _check_solver(self.solver, self.penalty, self.dual)\n",
      "             ^^^^^^^^^^^^^^^^^^^^^^^^^^^^^^^^^^^^^^^^^^^^^^^^^^^\n",
      "  File \"C:\\Users\\saike\\anaconda3\\Lib\\site-packages\\sklearn\\linear_model\\_logistic.py\", line 54, in _check_solver\n",
      "    raise ValueError(\n",
      "ValueError: Solver newton-cg supports only 'l2' or 'none' penalties, got l1 penalty.\n",
      "\n",
      "--------------------------------------------------------------------------------\n",
      "15 fits failed with the following error:\n",
      "Traceback (most recent call last):\n",
      "  File \"C:\\Users\\saike\\anaconda3\\Lib\\site-packages\\sklearn\\model_selection\\_validation.py\", line 686, in _fit_and_score\n",
      "    estimator.fit(X_train, y_train, **fit_params)\n",
      "  File \"C:\\Users\\saike\\anaconda3\\Lib\\site-packages\\sklearn\\linear_model\\_logistic.py\", line 1162, in fit\n",
      "    solver = _check_solver(self.solver, self.penalty, self.dual)\n",
      "             ^^^^^^^^^^^^^^^^^^^^^^^^^^^^^^^^^^^^^^^^^^^^^^^^^^^\n",
      "  File \"C:\\Users\\saike\\anaconda3\\Lib\\site-packages\\sklearn\\linear_model\\_logistic.py\", line 54, in _check_solver\n",
      "    raise ValueError(\n",
      "ValueError: Solver newton-cholesky supports only 'l2' or 'none' penalties, got l1 penalty.\n",
      "\n",
      "--------------------------------------------------------------------------------\n",
      "15 fits failed with the following error:\n",
      "Traceback (most recent call last):\n",
      "  File \"C:\\Users\\saike\\anaconda3\\Lib\\site-packages\\sklearn\\model_selection\\_validation.py\", line 686, in _fit_and_score\n",
      "    estimator.fit(X_train, y_train, **fit_params)\n",
      "  File \"C:\\Users\\saike\\anaconda3\\Lib\\site-packages\\sklearn\\linear_model\\_logistic.py\", line 1162, in fit\n",
      "    solver = _check_solver(self.solver, self.penalty, self.dual)\n",
      "             ^^^^^^^^^^^^^^^^^^^^^^^^^^^^^^^^^^^^^^^^^^^^^^^^^^^\n",
      "  File \"C:\\Users\\saike\\anaconda3\\Lib\\site-packages\\sklearn\\linear_model\\_logistic.py\", line 54, in _check_solver\n",
      "    raise ValueError(\n",
      "ValueError: Solver sag supports only 'l2' or 'none' penalties, got l1 penalty.\n",
      "\n",
      "--------------------------------------------------------------------------------\n",
      "15 fits failed with the following error:\n",
      "Traceback (most recent call last):\n",
      "  File \"C:\\Users\\saike\\anaconda3\\Lib\\site-packages\\sklearn\\model_selection\\_validation.py\", line 686, in _fit_and_score\n",
      "    estimator.fit(X_train, y_train, **fit_params)\n",
      "  File \"C:\\Users\\saike\\anaconda3\\Lib\\site-packages\\sklearn\\linear_model\\_logistic.py\", line 1162, in fit\n",
      "    solver = _check_solver(self.solver, self.penalty, self.dual)\n",
      "             ^^^^^^^^^^^^^^^^^^^^^^^^^^^^^^^^^^^^^^^^^^^^^^^^^^^\n",
      "  File \"C:\\Users\\saike\\anaconda3\\Lib\\site-packages\\sklearn\\linear_model\\_logistic.py\", line 54, in _check_solver\n",
      "    raise ValueError(\n",
      "ValueError: Solver lbfgs supports only 'l2' or 'none' penalties, got elasticnet penalty.\n",
      "\n",
      "--------------------------------------------------------------------------------\n",
      "15 fits failed with the following error:\n",
      "Traceback (most recent call last):\n",
      "  File \"C:\\Users\\saike\\anaconda3\\Lib\\site-packages\\sklearn\\model_selection\\_validation.py\", line 686, in _fit_and_score\n",
      "    estimator.fit(X_train, y_train, **fit_params)\n",
      "  File \"C:\\Users\\saike\\anaconda3\\Lib\\site-packages\\sklearn\\linear_model\\_logistic.py\", line 1162, in fit\n",
      "    solver = _check_solver(self.solver, self.penalty, self.dual)\n",
      "             ^^^^^^^^^^^^^^^^^^^^^^^^^^^^^^^^^^^^^^^^^^^^^^^^^^^\n",
      "  File \"C:\\Users\\saike\\anaconda3\\Lib\\site-packages\\sklearn\\linear_model\\_logistic.py\", line 64, in _check_solver\n",
      "    raise ValueError(\n",
      "ValueError: Only 'saga' solver supports elasticnet penalty, got solver=liblinear.\n",
      "\n",
      "--------------------------------------------------------------------------------\n",
      "15 fits failed with the following error:\n",
      "Traceback (most recent call last):\n",
      "  File \"C:\\Users\\saike\\anaconda3\\Lib\\site-packages\\sklearn\\model_selection\\_validation.py\", line 686, in _fit_and_score\n",
      "    estimator.fit(X_train, y_train, **fit_params)\n",
      "  File \"C:\\Users\\saike\\anaconda3\\Lib\\site-packages\\sklearn\\linear_model\\_logistic.py\", line 1162, in fit\n",
      "    solver = _check_solver(self.solver, self.penalty, self.dual)\n",
      "             ^^^^^^^^^^^^^^^^^^^^^^^^^^^^^^^^^^^^^^^^^^^^^^^^^^^\n",
      "  File \"C:\\Users\\saike\\anaconda3\\Lib\\site-packages\\sklearn\\linear_model\\_logistic.py\", line 54, in _check_solver\n",
      "    raise ValueError(\n",
      "ValueError: Solver newton-cg supports only 'l2' or 'none' penalties, got elasticnet penalty.\n",
      "\n",
      "--------------------------------------------------------------------------------\n",
      "15 fits failed with the following error:\n",
      "Traceback (most recent call last):\n",
      "  File \"C:\\Users\\saike\\anaconda3\\Lib\\site-packages\\sklearn\\model_selection\\_validation.py\", line 686, in _fit_and_score\n",
      "    estimator.fit(X_train, y_train, **fit_params)\n",
      "  File \"C:\\Users\\saike\\anaconda3\\Lib\\site-packages\\sklearn\\linear_model\\_logistic.py\", line 1162, in fit\n",
      "    solver = _check_solver(self.solver, self.penalty, self.dual)\n",
      "             ^^^^^^^^^^^^^^^^^^^^^^^^^^^^^^^^^^^^^^^^^^^^^^^^^^^\n",
      "  File \"C:\\Users\\saike\\anaconda3\\Lib\\site-packages\\sklearn\\linear_model\\_logistic.py\", line 54, in _check_solver\n",
      "    raise ValueError(\n",
      "ValueError: Solver newton-cholesky supports only 'l2' or 'none' penalties, got elasticnet penalty.\n",
      "\n",
      "--------------------------------------------------------------------------------\n",
      "15 fits failed with the following error:\n",
      "Traceback (most recent call last):\n",
      "  File \"C:\\Users\\saike\\anaconda3\\Lib\\site-packages\\sklearn\\model_selection\\_validation.py\", line 686, in _fit_and_score\n",
      "    estimator.fit(X_train, y_train, **fit_params)\n",
      "  File \"C:\\Users\\saike\\anaconda3\\Lib\\site-packages\\sklearn\\linear_model\\_logistic.py\", line 1162, in fit\n",
      "    solver = _check_solver(self.solver, self.penalty, self.dual)\n",
      "             ^^^^^^^^^^^^^^^^^^^^^^^^^^^^^^^^^^^^^^^^^^^^^^^^^^^\n",
      "  File \"C:\\Users\\saike\\anaconda3\\Lib\\site-packages\\sklearn\\linear_model\\_logistic.py\", line 54, in _check_solver\n",
      "    raise ValueError(\n",
      "ValueError: Solver sag supports only 'l2' or 'none' penalties, got elasticnet penalty.\n",
      "\n",
      "--------------------------------------------------------------------------------\n",
      "15 fits failed with the following error:\n",
      "Traceback (most recent call last):\n",
      "  File \"C:\\Users\\saike\\anaconda3\\Lib\\site-packages\\sklearn\\model_selection\\_validation.py\", line 686, in _fit_and_score\n",
      "    estimator.fit(X_train, y_train, **fit_params)\n",
      "  File \"C:\\Users\\saike\\anaconda3\\Lib\\site-packages\\sklearn\\linear_model\\_logistic.py\", line 1291, in fit\n",
      "    fold_coefs_ = Parallel(n_jobs=self.n_jobs, verbose=self.verbose, prefer=prefer)(\n",
      "                  ^^^^^^^^^^^^^^^^^^^^^^^^^^^^^^^^^^^^^^^^^^^^^^^^^^^^^^^^^^^^^^^^^^\n",
      "  File \"C:\\Users\\saike\\anaconda3\\Lib\\site-packages\\sklearn\\utils\\parallel.py\", line 63, in __call__\n",
      "    return super().__call__(iterable_with_config)\n",
      "           ^^^^^^^^^^^^^^^^^^^^^^^^^^^^^^^^^^^^^^\n",
      "  File \"C:\\Users\\saike\\anaconda3\\Lib\\site-packages\\joblib\\parallel.py\", line 1085, in __call__\n",
      "    if self.dispatch_one_batch(iterator):\n",
      "       ^^^^^^^^^^^^^^^^^^^^^^^^^^^^^^^^^\n",
      "  File \"C:\\Users\\saike\\anaconda3\\Lib\\site-packages\\joblib\\parallel.py\", line 901, in dispatch_one_batch\n",
      "    self._dispatch(tasks)\n",
      "  File \"C:\\Users\\saike\\anaconda3\\Lib\\site-packages\\joblib\\parallel.py\", line 819, in _dispatch\n",
      "    job = self._backend.apply_async(batch, callback=cb)\n",
      "          ^^^^^^^^^^^^^^^^^^^^^^^^^^^^^^^^^^^^^^^^^^^^^\n",
      "  File \"C:\\Users\\saike\\anaconda3\\Lib\\site-packages\\joblib\\_parallel_backends.py\", line 208, in apply_async\n",
      "    result = ImmediateResult(func)\n",
      "             ^^^^^^^^^^^^^^^^^^^^^\n",
      "  File \"C:\\Users\\saike\\anaconda3\\Lib\\site-packages\\joblib\\_parallel_backends.py\", line 597, in __init__\n",
      "    self.results = batch()\n",
      "                   ^^^^^^^\n",
      "  File \"C:\\Users\\saike\\anaconda3\\Lib\\site-packages\\joblib\\parallel.py\", line 288, in __call__\n",
      "    return [func(*args, **kwargs)\n",
      "           ^^^^^^^^^^^^^^^^^^^^^^\n",
      "  File \"C:\\Users\\saike\\anaconda3\\Lib\\site-packages\\joblib\\parallel.py\", line 288, in <listcomp>\n",
      "    return [func(*args, **kwargs)\n",
      "            ^^^^^^^^^^^^^^^^^^^^^\n",
      "  File \"C:\\Users\\saike\\anaconda3\\Lib\\site-packages\\sklearn\\utils\\parallel.py\", line 123, in __call__\n",
      "    return self.function(*args, **kwargs)\n",
      "           ^^^^^^^^^^^^^^^^^^^^^^^^^^^^^^\n",
      "  File \"C:\\Users\\saike\\anaconda3\\Lib\\site-packages\\sklearn\\linear_model\\_logistic.py\", line 521, in _logistic_regression_path\n",
      "    alpha = (1.0 / C) * (1 - l1_ratio)\n",
      "                         ~~^~~~~~~~~~\n",
      "TypeError: unsupported operand type(s) for -: 'int' and 'NoneType'\n",
      "\n",
      "  warnings.warn(some_fits_failed_message, FitFailedWarning)\n",
      "C:\\Users\\saike\\anaconda3\\Lib\\site-packages\\sklearn\\model_selection\\_search.py:952: UserWarning: One or more of the test scores are non-finite: [   nan 0.575     nan    nan    nan 0.575  0.575  0.5625 0.575  0.575\n",
      " 0.575  0.575     nan    nan    nan    nan    nan    nan    nan 0.5625\n",
      "    nan    nan    nan 0.5625 0.5625 0.575  0.5625 0.5625 0.5625 0.5625\n",
      "    nan    nan    nan    nan    nan    nan    nan 0.5625    nan    nan\n",
      "    nan 0.5625 0.5625 0.5625 0.5625 0.5625 0.5625 0.5625    nan    nan\n",
      "    nan    nan    nan    nan]\n",
      "  warnings.warn(\n"
     ]
    },
    {
     "data": {
      "text/html": [
       "<style>#sk-container-id-12 {color: black;background-color: white;}#sk-container-id-12 pre{padding: 0;}#sk-container-id-12 div.sk-toggleable {background-color: white;}#sk-container-id-12 label.sk-toggleable__label {cursor: pointer;display: block;width: 100%;margin-bottom: 0;padding: 0.3em;box-sizing: border-box;text-align: center;}#sk-container-id-12 label.sk-toggleable__label-arrow:before {content: \"▸\";float: left;margin-right: 0.25em;color: #696969;}#sk-container-id-12 label.sk-toggleable__label-arrow:hover:before {color: black;}#sk-container-id-12 div.sk-estimator:hover label.sk-toggleable__label-arrow:before {color: black;}#sk-container-id-12 div.sk-toggleable__content {max-height: 0;max-width: 0;overflow: hidden;text-align: left;background-color: #f0f8ff;}#sk-container-id-12 div.sk-toggleable__content pre {margin: 0.2em;color: black;border-radius: 0.25em;background-color: #f0f8ff;}#sk-container-id-12 input.sk-toggleable__control:checked~div.sk-toggleable__content {max-height: 200px;max-width: 100%;overflow: auto;}#sk-container-id-12 input.sk-toggleable__control:checked~label.sk-toggleable__label-arrow:before {content: \"▾\";}#sk-container-id-12 div.sk-estimator input.sk-toggleable__control:checked~label.sk-toggleable__label {background-color: #d4ebff;}#sk-container-id-12 div.sk-label input.sk-toggleable__control:checked~label.sk-toggleable__label {background-color: #d4ebff;}#sk-container-id-12 input.sk-hidden--visually {border: 0;clip: rect(1px 1px 1px 1px);clip: rect(1px, 1px, 1px, 1px);height: 1px;margin: -1px;overflow: hidden;padding: 0;position: absolute;width: 1px;}#sk-container-id-12 div.sk-estimator {font-family: monospace;background-color: #f0f8ff;border: 1px dotted black;border-radius: 0.25em;box-sizing: border-box;margin-bottom: 0.5em;}#sk-container-id-12 div.sk-estimator:hover {background-color: #d4ebff;}#sk-container-id-12 div.sk-parallel-item::after {content: \"\";width: 100%;border-bottom: 1px solid gray;flex-grow: 1;}#sk-container-id-12 div.sk-label:hover label.sk-toggleable__label {background-color: #d4ebff;}#sk-container-id-12 div.sk-serial::before {content: \"\";position: absolute;border-left: 1px solid gray;box-sizing: border-box;top: 0;bottom: 0;left: 50%;z-index: 0;}#sk-container-id-12 div.sk-serial {display: flex;flex-direction: column;align-items: center;background-color: white;padding-right: 0.2em;padding-left: 0.2em;position: relative;}#sk-container-id-12 div.sk-item {position: relative;z-index: 1;}#sk-container-id-12 div.sk-parallel {display: flex;align-items: stretch;justify-content: center;background-color: white;position: relative;}#sk-container-id-12 div.sk-item::before, #sk-container-id-12 div.sk-parallel-item::before {content: \"\";position: absolute;border-left: 1px solid gray;box-sizing: border-box;top: 0;bottom: 0;left: 50%;z-index: -1;}#sk-container-id-12 div.sk-parallel-item {display: flex;flex-direction: column;z-index: 1;position: relative;background-color: white;}#sk-container-id-12 div.sk-parallel-item:first-child::after {align-self: flex-end;width: 50%;}#sk-container-id-12 div.sk-parallel-item:last-child::after {align-self: flex-start;width: 50%;}#sk-container-id-12 div.sk-parallel-item:only-child::after {width: 0;}#sk-container-id-12 div.sk-dashed-wrapped {border: 1px dashed gray;margin: 0 0.4em 0.5em 0.4em;box-sizing: border-box;padding-bottom: 0.4em;background-color: white;}#sk-container-id-12 div.sk-label label {font-family: monospace;font-weight: bold;display: inline-block;line-height: 1.2em;}#sk-container-id-12 div.sk-label-container {text-align: center;}#sk-container-id-12 div.sk-container {/* jupyter's `normalize.less` sets `[hidden] { display: none; }` but bootstrap.min.css set `[hidden] { display: none !important; }` so we also need the `!important` here to be able to override the default hidden behavior on the sphinx rendered scikit-learn.org. See: https://github.com/scikit-learn/scikit-learn/issues/21755 */display: inline-block !important;position: relative;}#sk-container-id-12 div.sk-text-repr-fallback {display: none;}</style><div id=\"sk-container-id-12\" class=\"sk-top-container\"><div class=\"sk-text-repr-fallback\"><pre>GridSearchCV(cv=5, estimator=LogisticRegression(multi_class=&#x27;ovr&#x27;),\n",
       "             param_grid={&#x27;C&#x27;: [1.0, 10.0, 100.0],\n",
       "                         &#x27;penalty&#x27;: [&#x27;l1&#x27;, &#x27;l2&#x27;, &#x27;elasticnet&#x27;],\n",
       "                         &#x27;solver&#x27;: [&#x27;lbfgs&#x27;, &#x27;liblinear&#x27;, &#x27;newton-cg&#x27;,\n",
       "                                    &#x27;newton-cholesky&#x27;, &#x27;sag&#x27;, &#x27;saga&#x27;]},\n",
       "             scoring=&#x27;accuracy&#x27;)</pre><b>In a Jupyter environment, please rerun this cell to show the HTML representation or trust the notebook. <br />On GitHub, the HTML representation is unable to render, please try loading this page with nbviewer.org.</b></div><div class=\"sk-container\" hidden><div class=\"sk-item sk-dashed-wrapped\"><div class=\"sk-label-container\"><div class=\"sk-label sk-toggleable\"><input class=\"sk-toggleable__control sk-hidden--visually\" id=\"sk-estimator-id-22\" type=\"checkbox\" ><label for=\"sk-estimator-id-22\" class=\"sk-toggleable__label sk-toggleable__label-arrow\">GridSearchCV</label><div class=\"sk-toggleable__content\"><pre>GridSearchCV(cv=5, estimator=LogisticRegression(multi_class=&#x27;ovr&#x27;),\n",
       "             param_grid={&#x27;C&#x27;: [1.0, 10.0, 100.0],\n",
       "                         &#x27;penalty&#x27;: [&#x27;l1&#x27;, &#x27;l2&#x27;, &#x27;elasticnet&#x27;],\n",
       "                         &#x27;solver&#x27;: [&#x27;lbfgs&#x27;, &#x27;liblinear&#x27;, &#x27;newton-cg&#x27;,\n",
       "                                    &#x27;newton-cholesky&#x27;, &#x27;sag&#x27;, &#x27;saga&#x27;]},\n",
       "             scoring=&#x27;accuracy&#x27;)</pre></div></div></div><div class=\"sk-parallel\"><div class=\"sk-parallel-item\"><div class=\"sk-item\"><div class=\"sk-label-container\"><div class=\"sk-label sk-toggleable\"><input class=\"sk-toggleable__control sk-hidden--visually\" id=\"sk-estimator-id-23\" type=\"checkbox\" ><label for=\"sk-estimator-id-23\" class=\"sk-toggleable__label sk-toggleable__label-arrow\">estimator: LogisticRegression</label><div class=\"sk-toggleable__content\"><pre>LogisticRegression(multi_class=&#x27;ovr&#x27;)</pre></div></div></div><div class=\"sk-serial\"><div class=\"sk-item\"><div class=\"sk-estimator sk-toggleable\"><input class=\"sk-toggleable__control sk-hidden--visually\" id=\"sk-estimator-id-24\" type=\"checkbox\" ><label for=\"sk-estimator-id-24\" class=\"sk-toggleable__label sk-toggleable__label-arrow\">LogisticRegression</label><div class=\"sk-toggleable__content\"><pre>LogisticRegression(multi_class=&#x27;ovr&#x27;)</pre></div></div></div></div></div></div></div></div></div></div>"
      ],
      "text/plain": [
       "GridSearchCV(cv=5, estimator=LogisticRegression(multi_class='ovr'),\n",
       "             param_grid={'C': [1.0, 10.0, 100.0],\n",
       "                         'penalty': ['l1', 'l2', 'elasticnet'],\n",
       "                         'solver': ['lbfgs', 'liblinear', 'newton-cg',\n",
       "                                    'newton-cholesky', 'sag', 'saga']},\n",
       "             scoring='accuracy')"
      ]
     },
     "execution_count": 96,
     "metadata": {},
     "output_type": "execute_result"
    }
   ],
   "source": [
    "gcvs.fit(X_train, y_train)"
   ]
  },
  {
   "cell_type": "code",
   "execution_count": 97,
   "id": "9ea7f00f-c8ce-4c38-9294-183882c66bcc",
   "metadata": {},
   "outputs": [],
   "source": [
    "results = gcvs.predict(X_test)"
   ]
  },
  {
   "cell_type": "code",
   "execution_count": 99,
   "id": "c5f641b7-4b34-469c-b2f3-41d8b170d17e",
   "metadata": {},
   "outputs": [
    {
     "data": {
      "text/plain": [
       "(array([2, 2, 2, 1, 1, 0, 0, 0, 2, 1, 2, 2, 2, 1, 0, 2, 0, 2, 1, 2]),\n",
       " array([0, 1, 0, 1, 1, 0, 0, 0, 2, 1, 0, 2, 2, 1, 2, 2, 2, 1, 1, 2]))"
      ]
     },
     "execution_count": 99,
     "metadata": {},
     "output_type": "execute_result"
    }
   ],
   "source": [
    "y_test, results"
   ]
  },
  {
   "cell_type": "code",
   "execution_count": 100,
   "id": "57488c44-8573-435b-bb88-c82a4c1e0d1b",
   "metadata": {},
   "outputs": [
    {
     "name": "stdout",
     "output_type": "stream",
     "text": [
      "0.65\n",
      "[[3 0 2]\n",
      " [0 5 0]\n",
      " [3 2 5]]\n",
      "              precision    recall  f1-score   support\n",
      "\n",
      "           0       0.50      0.60      0.55         5\n",
      "           1       0.71      1.00      0.83         5\n",
      "           2       0.71      0.50      0.59        10\n",
      "\n",
      "    accuracy                           0.65        20\n",
      "   macro avg       0.64      0.70      0.66        20\n",
      "weighted avg       0.66      0.65      0.64        20\n",
      "\n"
     ]
    }
   ],
   "source": [
    "from sklearn.metrics import accuracy_score, confusion_matrix, classification_report\n",
    "\n",
    "print(accuracy_score(y_test,results))\n",
    "\n",
    "print(confusion_matrix(y_test,results))\n",
    "\n",
    "print(classification_report(y_test,results))\n",
    "\n"
   ]
  },
  {
   "cell_type": "code",
   "execution_count": 102,
   "id": "a1ab60f0-e0bf-4fff-bee4-590faa7324c3",
   "metadata": {},
   "outputs": [
    {
     "data": {
      "text/plain": [
       "{'C': 1.0, 'penalty': 'l1', 'solver': 'liblinear'}"
      ]
     },
     "execution_count": 102,
     "metadata": {},
     "output_type": "execute_result"
    }
   ],
   "source": [
    "gcvs.best_params_"
   ]
  },
  {
   "cell_type": "code",
   "execution_count": 103,
   "id": "3b85b982-0ffd-48c4-888c-52d6ef789fa0",
   "metadata": {},
   "outputs": [
    {
     "data": {
      "text/plain": [
       "0.575"
      ]
     },
     "execution_count": 103,
     "metadata": {},
     "output_type": "execute_result"
    }
   ],
   "source": [
    "gcvs.best_score_"
   ]
  },
  {
   "cell_type": "code",
   "execution_count": null,
   "id": "32b89fdf-b828-4fc3-8d08-3a3c1321d2aa",
   "metadata": {},
   "outputs": [],
   "source": []
  }
 ],
 "metadata": {
  "kernelspec": {
   "display_name": "Python 3 (ipykernel)",
   "language": "python",
   "name": "python3"
  },
  "language_info": {
   "codemirror_mode": {
    "name": "ipython",
    "version": 3
   },
   "file_extension": ".py",
   "mimetype": "text/x-python",
   "name": "python",
   "nbconvert_exporter": "python",
   "pygments_lexer": "ipython3",
   "version": "3.11.5"
  }
 },
 "nbformat": 4,
 "nbformat_minor": 5
}
